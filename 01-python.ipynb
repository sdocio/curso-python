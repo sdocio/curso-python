{
  "nbformat": 4,
  "nbformat_minor": 0,
  "metadata": {
    "celltoolbar": "Raw Cell Format",
    "colab": {
      "provenance": [],
      "toc_visible": true
    },
    "kernelspec": {
      "display_name": "Python 3 (ipykernel)",
      "language": "python",
      "name": "python3"
    },
    "language_info": {
      "codemirror_mode": {
        "name": "ipython",
        "version": 3
      },
      "file_extension": ".py",
      "mimetype": "text/x-python",
      "name": "python",
      "nbconvert_exporter": "python",
      "pygments_lexer": "ipython3",
      "version": "3.7.3"
    }
  },
  "cells": [
    {
      "cell_type": "markdown",
      "metadata": {
        "id": "pLqkvzoNSGPO"
      },
      "source": [
        "# Introdução básica ao Python (I)\n",
        "\n",
        "**Shell virtual do curso**: https://fegalaz.usc.es/linux/  \n",
        "  \n",
        "**Notebook da sessão 1**: https://i.gal/python1  \n",
        "**Notebook da sessão 2**: https://i.gal/python2  \n",
        "\n",
        "**Introdução ao Jupyter Notebook**: https://programminghistorian.org/pt/licoes/introducao-jupyter-notebooks"
      ]
    },
    {
      "cell_type": "markdown",
      "source": [
        "# Instalação\n",
        "\n",
        "## Implementação de referência\n",
        "\n",
        "1.   **Windows**\n",
        "\n",
        "> https://www.python.org/downloads/windows/\n",
        "\n",
        "\n",
        "2.  **Linux**\n",
        "\n",
        "- Pacotes incluídos em cada distribuição.\n",
        "\n",
        "> `sudo apt install python3`  \n",
        "> `sudo dnf install python3`   \n",
        "> `sudo pacman -Ss python3`   \n",
        "etc\n",
        "\n",
        "- Compilação a partir das fontes.\n",
        "\n",
        "> https://www.python.org/downloads/source/\n",
        "\n",
        "3. **MacOS**\n",
        "\n",
        "> https://www.python.org/downloads/macos/\n",
        "\n",
        "Outras implementações:\n",
        "\n",
        "> https://en.wikipedia.org/wiki/List_of_Python_software#Python_implementations\n",
        "\n",
        "## Distribuição Anaconda3\n",
        "\n",
        "Uma distribuição orientada para Data Science e que usa o `conda` como gestor de pacotes.\n",
        "\n",
        "> https://www.anaconda.com/download#downloads\n",
        "\n",
        "Se apenas estiver interessado no gestor conda e não na distribuição completa, uma alternativa é o `Miniconda`.\n",
        "\n",
        "> https://docs.anaconda.com/free/miniconda/\n",
        "\n",
        "# IDEs\n",
        "\n",
        "- pyCharm: https://www.jetbrains.com/pycharm/\n",
        "- VSCodium: https://vscodium.com\n",
        "- spyder: https://www.spyder-ide.org\n",
        "\n",
        "\n",
        "# Ambientes virtuais\n",
        "\n",
        "São utilizados para criar ambientes isolados com módulos instalados.\n",
        "\n",
        "## `venv`\n",
        "\n",
        "Criação e ativação de um ambiente com `venv`:\n",
        "\n",
        "> `$ python -m venv env`  \n",
        "> `$ source env/bin/activate`\n",
        "\n",
        "Uma vez criado e ativo, podemos instalar módulos através do `pip`.\n",
        "\n",
        "> `$ pip install spacy`\n",
        "\n",
        "Para deactivar o ambiente:\n",
        "\n",
        "> `$ deactivate`\n",
        "\n",
        "## `miniconda`\n",
        "\n",
        "Instalação de `miniconda` (Windows, MacOS e Linux):\n",
        "\n",
        "https://docs.anaconda.com/miniconda/\n",
        "\n",
        "Criação e ativação de um ambiente com `miniconda`:\n",
        "\n",
        "> `conda create --name env`\n",
        "> `conda activate env`\n",
        "\n",
        "Uma vez criado e ativo, podemos instalar módulos utilizando `conda`:\n",
        "\n",
        "> `conda install spacy`\n",
        "\n",
        "Para deactivar o ambiente:\n",
        "\n",
        "> `conda deactivate`"
      ],
      "metadata": {
        "id": "vYC60-AkfGRc"
      }
    },
    {
      "cell_type": "markdown",
      "source": [
        "# Um programa Python\n",
        "\n",
        "Um script ou programa Python é um conjunto de definições (por exemplo, variáveis ou funções) e comandos. Para executar código Python, podemos optar por sessões interactivas (intérprete de linha de comandos, *jupyter notebooks*, Google Colab, etc) ou por guardar o código num ficheiro e depois executá-lo com o intérprete.\n",
        "\n",
        "As linhas de código que começam por `#` são consideradas comentários e não são tidas em conta pelo intérprete."
      ],
      "metadata": {
        "id": "uR8LyM15YYix"
      }
    },
    {
      "cell_type": "markdown",
      "source": [
        "## Interativo"
      ],
      "metadata": {
        "id": "VBfa1DZuaIkt"
      }
    },
    {
      "cell_type": "code",
      "source": [
        "# Imprime a sequência Olá mundo\n",
        "print(\"Olá mundo\")"
      ],
      "metadata": {
        "id": "7ELBnXMjaECM",
        "colab": {
          "base_uri": "https://localhost:8080/"
        },
        "outputId": "c5be17b4-b485-4e98-86ef-a7e35d56c98f"
      },
      "execution_count": null,
      "outputs": [
        {
          "output_type": "stream",
          "name": "stdout",
          "text": [
            "Olá mundo\n"
          ]
        }
      ]
    },
    {
      "cell_type": "markdown",
      "source": [
        "## Não interativo\n",
        "\n",
        "> `$ echo 'print(\"Olá mundo\")' > olamundo.py`  \n",
        "> `$ python olamundo.py`"
      ],
      "metadata": {
        "id": "B55Rowr5aLGB"
      }
    },
    {
      "cell_type": "markdown",
      "source": [
        "## Indentação\n",
        "\n",
        "Os scripts Python mantêm uma indentação estrita: as expressões que estão ao mesmo nível (dentro do mesmo bloco) devem ter a mesma indentação, e a indentação deve ser consistente em todo o script."
      ],
      "metadata": {
        "id": "fD9JdxeqpqX6"
      }
    },
    {
      "cell_type": "code",
      "source": [
        "# Correto\n",
        "for x in [1, 2, 3]:\n",
        "    print(x)\n",
        "    print(x * x)"
      ],
      "metadata": {
        "id": "SN9eQLJlp9YC",
        "colab": {
          "base_uri": "https://localhost:8080/"
        },
        "outputId": "15231994-9ae8-493f-9bd5-fe9f99d09d0d"
      },
      "execution_count": null,
      "outputs": [
        {
          "output_type": "stream",
          "name": "stdout",
          "text": [
            "1\n",
            "1\n",
            "2\n",
            "4\n",
            "3\n",
            "9\n"
          ]
        }
      ]
    },
    {
      "cell_type": "code",
      "source": [
        "# Incorreto (erro de indentação)\n",
        "for x in [1, 2, 3]:\n",
        "    print(x)\n",
        "       print(x * x)"
      ],
      "metadata": {
        "id": "opMpSgO4qEsW"
      },
      "execution_count": null,
      "outputs": []
    },
    {
      "cell_type": "code",
      "source": [
        "# Bug?\n",
        "for x in [1, 2, 3]:\n",
        "    print(x)\n",
        "print(x * x)"
      ],
      "metadata": {
        "id": "O2Kz4rbArHPz",
        "colab": {
          "base_uri": "https://localhost:8080/"
        },
        "outputId": "97165a91-a955-48ab-d6e0-cfe6c2890730"
      },
      "execution_count": null,
      "outputs": [
        {
          "output_type": "stream",
          "name": "stdout",
          "text": [
            "1\n",
            "2\n",
            "3\n",
            "9\n"
          ]
        }
      ]
    },
    {
      "cell_type": "markdown",
      "source": [
        "\n",
        "\n",
        "---\n",
        "\n"
      ],
      "metadata": {
        "id": "HV7sBiNEAH9C"
      }
    },
    {
      "cell_type": "markdown",
      "metadata": {
        "id": "Qvq6zIuhkNmo"
      },
      "source": [
        "# Variáveis\n",
        "\n",
        "As variáveis permitem guardar valores para serem utilizados mais tarde. Para as declarar utilizamos o operador de assignação `=`."
      ]
    },
    {
      "cell_type": "code",
      "metadata": {
        "id": "a5dC-N9mkNmq"
      },
      "source": [
        "# Numéricas\n",
        "x = 5\n",
        "y = 3.98\n",
        "\n",
        "# Cadeias curtas, rodeadas de ' ou \"\n",
        "text = 'amostra de cadeia'\n",
        "text2 = \"outra amostra de cadeia\"\n",
        "\n",
        "# Cadeias longas ou contendo \" ou saltos de linha\n",
        "long_text = \"\"\"Lorem ipsum dolor sit amet, consectetur adipiscing elit,\n",
        "sed do eiusmod tempor incididunt \"ut labore et dolore\n",
        "magna aliqua\". Ut enim ad minim veniam.\"\"\""
      ],
      "execution_count": null,
      "outputs": []
    },
    {
      "cell_type": "code",
      "metadata": {
        "id": "qrIZuyyekNms",
        "colab": {
          "base_uri": "https://localhost:8080/"
        },
        "outputId": "e65f8318-f22c-4c3e-c8d8-80939c53c0ee"
      },
      "source": [
        "print(x * y)"
      ],
      "execution_count": null,
      "outputs": [
        {
          "output_type": "stream",
          "name": "stdout",
          "text": [
            "19.9\n"
          ]
        }
      ]
    },
    {
      "cell_type": "code",
      "metadata": {
        "id": "rXHqc5zzkNmt",
        "colab": {
          "base_uri": "https://localhost:8080/"
        },
        "outputId": "a859d5c2-261c-4c8d-c60c-879a0e4a304d"
      },
      "source": [
        "print(long_text)"
      ],
      "execution_count": null,
      "outputs": [
        {
          "output_type": "stream",
          "name": "stdout",
          "text": [
            "Lorem ipsum dolor sit amet, consectetur adipiscing elit,\n",
            "sed do eiusmod tempor incididunt \"ut labore et dolore\n",
            "magna aliqua\". Ut enim ad minim veniam.\n"
          ]
        }
      ]
    },
    {
      "cell_type": "markdown",
      "source": [
        "# Tipos de dados\n",
        "\n",
        "\n",
        "Em Python, a atribuição de dados a um nome de variável define o tipo e o intervalo de valores que um objeto pode ter."
      ],
      "metadata": {
        "id": "La0DBoZ8nt9b"
      }
    },
    {
      "cell_type": "markdown",
      "metadata": {
        "id": "xrhPA7hIkNmu"
      },
      "source": [
        "## Tipos de dados básicos: escalares\n",
        "\n",
        "Os escalares são dados que não podem ser subdivididos."
      ]
    },
    {
      "cell_type": "markdown",
      "source": [
        "### Numéricos\n",
        "\n",
        "| Subtipo     | Palavra reservada | Exemplo |\n",
        "|-------------|-------------------|---------|\n",
        "| Enteiros    | `int`             | 3       |\n",
        "| Decimais    | `float`           | 3.89    |"
      ],
      "metadata": {
        "id": "KBEphC2wAUFs"
      }
    },
    {
      "cell_type": "code",
      "metadata": {
        "id": "R5yP7rQvkNmu"
      },
      "source": [
        "n_int = 3\n",
        "n_float = 3.89"
      ],
      "execution_count": null,
      "outputs": []
    },
    {
      "cell_type": "markdown",
      "metadata": {
        "id": "PNtmkeIckNmu"
      },
      "source": [
        "### Cadeias\n"
      ]
    },
    {
      "cell_type": "code",
      "metadata": {
        "id": "V4CuQOD6kNmu"
      },
      "source": [
        "v_string = \"Este é um exemplo\"\n",
        "single_q = 'Este é outro exemplo'"
      ],
      "execution_count": null,
      "outputs": []
    },
    {
      "cell_type": "markdown",
      "source": [
        "Podemos determinar o tamanho de uma cadeia através da função `len`."
      ],
      "metadata": {
        "id": "e-oS5dFKGqKA"
      }
    },
    {
      "cell_type": "code",
      "source": [
        "len(v_string)"
      ],
      "metadata": {
        "id": "ur-ik8HPGvLv"
      },
      "execution_count": null,
      "outputs": []
    },
    {
      "cell_type": "markdown",
      "source": [
        "Para concatenar duas cadeias, podemos utilizar o operador `+`."
      ],
      "metadata": {
        "id": "kMxL2dppp1vu"
      }
    },
    {
      "cell_type": "code",
      "source": [
        "str1 = \"ola\"\n",
        "str2 = \"mundo\"\n",
        "\n",
        "print(str1 + \" \" + str2)"
      ],
      "metadata": {
        "id": "f0VCau_2qDms",
        "colab": {
          "base_uri": "https://localhost:8080/"
        },
        "outputId": "95784764-4b63-492a-9f91-1c2ba5cab3ce"
      },
      "execution_count": null,
      "outputs": [
        {
          "output_type": "stream",
          "name": "stdout",
          "text": [
            "ola mundo\n"
          ]
        }
      ]
    },
    {
      "cell_type": "markdown",
      "source": [
        "Este operador `+` tem efeitos diferentes conforme seja aplicado a cadeias de caracteres ou a números."
      ],
      "metadata": {
        "id": "K-IFRhs4vQX8"
      }
    },
    {
      "cell_type": "code",
      "source": [
        "n1 = 2\n",
        "n2 = 2\n",
        "n1 + n2"
      ],
      "metadata": {
        "id": "GylUTJ5xva8J",
        "colab": {
          "base_uri": "https://localhost:8080/"
        },
        "outputId": "3e1eba0b-74e5-4f22-9678-1b31d3668e18"
      },
      "execution_count": null,
      "outputs": [
        {
          "output_type": "execute_result",
          "data": {
            "text/plain": [
              "4"
            ]
          },
          "metadata": {},
          "execution_count": 14
        }
      ]
    },
    {
      "cell_type": "code",
      "source": [
        "s1 = \"2\"\n",
        "s2 = \"2\"\n",
        "s1 + s2"
      ],
      "metadata": {
        "id": "JMTjSwzevfLJ",
        "colab": {
          "base_uri": "https://localhost:8080/",
          "height": 38
        },
        "outputId": "ed258683-0fa1-41eb-f191-f980417e3878"
      },
      "execution_count": null,
      "outputs": [
        {
          "output_type": "execute_result",
          "data": {
            "text/plain": [
              "'22'"
            ],
            "application/vnd.google.colaboratory.intrinsic+json": {
              "type": "string"
            }
          },
          "metadata": {},
          "execution_count": 15
        }
      ]
    },
    {
      "cell_type": "markdown",
      "metadata": {
        "id": "9YawhX5fkNmv"
      },
      "source": [
        "### Booleanos\n",
        "\n",
        "Com apenas dois valores possíveis: `True` e `False`"
      ]
    },
    {
      "cell_type": "code",
      "metadata": {
        "id": "F83LMpZ2kNmv"
      },
      "source": [
        "v_boolean = True"
      ],
      "execution_count": null,
      "outputs": []
    },
    {
      "cell_type": "markdown",
      "metadata": {
        "id": "0jFTfsADkNmw"
      },
      "source": [
        "### Indefinido (NoneType)\n",
        "\n",
        "Têm um único valor (`NoneType`)."
      ]
    },
    {
      "cell_type": "code",
      "metadata": {
        "id": "DPc_o7UKkNmx"
      },
      "source": [
        "v_none = None"
      ],
      "execution_count": null,
      "outputs": []
    },
    {
      "cell_type": "markdown",
      "metadata": {
        "id": "htf1HWbikNmz"
      },
      "source": [
        "Com `type()` podemos conhecer o tipo de um objeto."
      ]
    },
    {
      "cell_type": "code",
      "metadata": {
        "id": "xx-iiQNykNmz",
        "colab": {
          "base_uri": "https://localhost:8080/"
        },
        "outputId": "46800418-ee14-4d14-c954-673115f59a86"
      },
      "source": [
        "type(n_int)"
      ],
      "execution_count": null,
      "outputs": [
        {
          "output_type": "execute_result",
          "data": {
            "text/plain": [
              "int"
            ]
          },
          "metadata": {},
          "execution_count": 18
        }
      ]
    },
    {
      "cell_type": "code",
      "metadata": {
        "id": "bBmJiXlSkNm0",
        "colab": {
          "base_uri": "https://localhost:8080/"
        },
        "outputId": "e5dc9e10-21ba-4aa9-88d5-8b9d5ed69e8b"
      },
      "source": [
        "type(n_float)"
      ],
      "execution_count": null,
      "outputs": [
        {
          "output_type": "execute_result",
          "data": {
            "text/plain": [
              "float"
            ]
          },
          "metadata": {},
          "execution_count": 19
        }
      ]
    },
    {
      "cell_type": "code",
      "metadata": {
        "id": "GRoFlufAkNm1",
        "colab": {
          "base_uri": "https://localhost:8080/"
        },
        "outputId": "47d11811-539d-4926-c3da-524aea15eef8"
      },
      "source": [
        "type(v_string)"
      ],
      "execution_count": null,
      "outputs": [
        {
          "output_type": "execute_result",
          "data": {
            "text/plain": [
              "str"
            ]
          },
          "metadata": {},
          "execution_count": 20
        }
      ]
    },
    {
      "cell_type": "code",
      "metadata": {
        "id": "nvo5hVQPkNm2",
        "colab": {
          "base_uri": "https://localhost:8080/"
        },
        "outputId": "95401871-f2fd-4943-f920-a5955d480ac3"
      },
      "source": [
        "type(v_boolean)"
      ],
      "execution_count": null,
      "outputs": [
        {
          "output_type": "execute_result",
          "data": {
            "text/plain": [
              "bool"
            ]
          },
          "metadata": {},
          "execution_count": 21
        }
      ]
    },
    {
      "cell_type": "code",
      "metadata": {
        "id": "VjMGCijqkNm3",
        "colab": {
          "base_uri": "https://localhost:8080/"
        },
        "outputId": "98646e8f-2ae9-4a1e-8df6-f5db91c0449a"
      },
      "source": [
        "type(v_none)"
      ],
      "execution_count": null,
      "outputs": [
        {
          "output_type": "execute_result",
          "data": {
            "text/plain": [
              "NoneType"
            ]
          },
          "metadata": {},
          "execution_count": 22
        }
      ]
    },
    {
      "cell_type": "code",
      "metadata": {
        "id": "OheP-EBwkNm4",
        "colab": {
          "base_uri": "https://localhost:8080/"
        },
        "outputId": "fe80e704-462f-42bd-84c2-fbb234bc8cb8"
      },
      "source": [
        "x = 3.89\n",
        "y = '3.89'\n",
        "\n",
        "print('Tipo de x: ', end='')\n",
        "print(type(x))\n",
        "\n",
        "print('Tipo de y: ', end='')\n",
        "print(type(y))"
      ],
      "execution_count": null,
      "outputs": [
        {
          "output_type": "stream",
          "name": "stdout",
          "text": [
            "Tipo de x: <class 'float'>\n",
            "Tipo de y: <class 'str'>\n"
          ]
        }
      ]
    },
    {
      "cell_type": "markdown",
      "source": [
        "### Exercícios"
      ],
      "metadata": {
        "id": "G3ScY4f2fcSY"
      }
    },
    {
      "cell_type": "markdown",
      "source": [
        "1. Define dúas variáveis numéricas\n",
        "  - *`year`* (contendo o ano atual)\n",
        "  - *`pi`* (contendo o valor de PI)"
      ],
      "metadata": {
        "id": "ripBm6_BgSGs"
      }
    },
    {
      "cell_type": "code",
      "source": [],
      "metadata": {
        "id": "7JQZX7c9tvMr"
      },
      "execution_count": null,
      "outputs": []
    },
    {
      "cell_type": "markdown",
      "source": [
        "2. Imprime o contido de `year`."
      ],
      "metadata": {
        "id": "g34NvyOsgbFX"
      }
    },
    {
      "cell_type": "code",
      "source": [],
      "metadata": {
        "id": "c9ikXN3tgjmt"
      },
      "execution_count": null,
      "outputs": []
    },
    {
      "cell_type": "markdown",
      "source": [
        "3. Imprime o tipo de dado de `year`."
      ],
      "metadata": {
        "id": "X8GyFyNCos3m"
      }
    },
    {
      "cell_type": "code",
      "source": [],
      "metadata": {
        "id": "KTYnI4VwowLr"
      },
      "execution_count": null,
      "outputs": []
    },
    {
      "cell_type": "markdown",
      "source": [
        "4. Imprime o seguinte texto:\n",
        "\n",
        "Há uma velha maldição que diz: \"Que vivas em tempos interessantes\"."
      ],
      "metadata": {
        "id": "ZJ8tWgnW-w5H"
      }
    },
    {
      "cell_type": "code",
      "source": [
        "\n"
      ],
      "metadata": {
        "id": "-Miv4Mgv_6V0"
      },
      "execution_count": null,
      "outputs": []
    },
    {
      "cell_type": "markdown",
      "metadata": {
        "id": "8DxK9M9nkNm5"
      },
      "source": [
        "## Tipos de dados complexos (não escalares)"
      ]
    },
    {
      "cell_type": "markdown",
      "metadata": {
        "id": "1CHWjvN9atp7"
      },
      "source": [
        "### Listas\n",
        "\n",
        "Sequências ordenadas e mutáveis de valores que podem ser acedidas através do seu índice expresso entre parênteses rectos. Este índice começa a contar a partir de zero. Se o índice for negativo, conta-se a partir do fim."
      ]
    },
    {
      "cell_type": "code",
      "metadata": {
        "id": "BHLR3ehrkNm5",
        "colab": {
          "base_uri": "https://localhost:8080/"
        },
        "outputId": "ca2da8b4-5edd-4b99-9268-1b896c753afe"
      },
      "source": [
        "cores = [\"amarelo\", \"cinzento\", \"verde\"]\n",
        "print(cores[1])\n",
        "print(cores[-3])"
      ],
      "execution_count": 1,
      "outputs": [
        {
          "output_type": "stream",
          "name": "stdout",
          "text": [
            "cinzento\n",
            "amarelo\n"
          ]
        }
      ]
    },
    {
      "cell_type": "markdown",
      "metadata": {
        "id": "MqQLZj1exMPJ"
      },
      "source": [
        "É possível declarar uma lista sem a inicializar, a fim de lhe atribuir valores mais tarde, utilizando os seguintes métodos:\n",
        "\n",
        "* `append`: acrescenta um elemento ao final da lista\n",
        "* `insert`: insere um elemento na posição especificada\n",
        "* `extend`: estende uma lista com os conteúdos de outra lista"
      ]
    },
    {
      "cell_type": "code",
      "source": [
        "# Declaração\n",
        "mais_cores = []"
      ],
      "metadata": {
        "id": "QHU2AppV45-k"
      },
      "execution_count": 14,
      "outputs": []
    },
    {
      "cell_type": "code",
      "metadata": {
        "id": "5I7cy3iYxH6U",
        "colab": {
          "base_uri": "https://localhost:8080/"
        },
        "outputId": "7c871df5-cf5c-4927-e1f7-3d8ee9444faf"
      },
      "source": [
        "# Asignação de valores utilizando append\n",
        "mais_cores.append(\"laranja\")\n",
        "mais_cores.append([\"preto\", \"branco\"])\n",
        "mais_cores.append(\"azul\")\n",
        "\n",
        "print(mais_cores)"
      ],
      "execution_count": 15,
      "outputs": [
        {
          "output_type": "stream",
          "name": "stdout",
          "text": [
            "['laranja', ['preto', 'branco'], 'azul']\n"
          ]
        }
      ]
    },
    {
      "cell_type": "code",
      "source": [
        "# O que acontece se eu imprimo o item que está no índice 1?\n",
        "print(mais_cores[1])"
      ],
      "metadata": {
        "id": "Fg4icCI7t8Nn",
        "colab": {
          "base_uri": "https://localhost:8080/"
        },
        "outputId": "290b7bbf-860a-4f62-feb7-118a4faab7f6"
      },
      "execution_count": 16,
      "outputs": [
        {
          "output_type": "stream",
          "name": "stdout",
          "text": [
            "['preto', 'branco']\n"
          ]
        }
      ]
    },
    {
      "cell_type": "code",
      "source": [
        "# Asignação de valores utilizando insert\n",
        "mais_cores.insert(2, \"verde\")\n",
        "\n",
        "print(mais_cores)"
      ],
      "metadata": {
        "id": "hg8YOvXH40c8",
        "colab": {
          "base_uri": "https://localhost:8080/"
        },
        "outputId": "5cdcb36a-cc73-44ae-c8a8-d4c6874047de"
      },
      "execution_count": 17,
      "outputs": [
        {
          "output_type": "stream",
          "name": "stdout",
          "text": [
            "['laranja', ['preto', 'branco'], 'verde', 'azul']\n"
          ]
        }
      ]
    },
    {
      "cell_type": "code",
      "source": [
        "# Extensão da lista utilizando extend\n",
        "mais_cores.extend([\"branco\", \"amarelo\"])"
      ],
      "metadata": {
        "id": "2KzlBmgH7oYD"
      },
      "execution_count": 18,
      "outputs": []
    },
    {
      "cell_type": "code",
      "source": [
        "# E agora? Que pasa se imprimo o último elemento da lista?\n",
        "print(mais_cores[-1])"
      ],
      "metadata": {
        "id": "ZfslXHgz8uXq",
        "colab": {
          "base_uri": "https://localhost:8080/"
        },
        "outputId": "d826dfd4-c078-463c-98d4-5462ca30e232"
      },
      "execution_count": 19,
      "outputs": [
        {
          "output_type": "stream",
          "name": "stdout",
          "text": [
            "amarelo\n"
          ]
        }
      ]
    },
    {
      "cell_type": "code",
      "source": [
        "# Impressão da lista final\n",
        "print(mais_cores)"
      ],
      "metadata": {
        "id": "_Xq6wfNu9PEV",
        "colab": {
          "base_uri": "https://localhost:8080/"
        },
        "outputId": "e61f6b99-a95d-4571-8fac-be08defe7896"
      },
      "execution_count": 20,
      "outputs": [
        {
          "output_type": "stream",
          "name": "stdout",
          "text": [
            "['laranja', ['preto', 'branco'], 'verde', 'azul', 'branco', 'amarelo']\n"
          ]
        }
      ]
    },
    {
      "cell_type": "markdown",
      "source": [
        "Também podemos eliminar itens de uma lista:\n",
        "\n",
        "- `pop`: elimina o índice especificado\n",
        "- `remove`: elimina o valor especificado"
      ],
      "metadata": {
        "id": "kQx9AYTsP58r"
      }
    },
    {
      "cell_type": "code",
      "source": [
        "cores = ['laranja', 'preto', 'branco', 'azul', 'verde']\n",
        "cores.remove(\"preto\")\n",
        "print(cores)"
      ],
      "metadata": {
        "id": "Tsq241W3QWVu",
        "colab": {
          "base_uri": "https://localhost:8080/"
        },
        "outputId": "2e85dcc0-b94a-4a69-8d32-55a1b48f4ac4"
      },
      "execution_count": 12,
      "outputs": [
        {
          "output_type": "stream",
          "name": "stdout",
          "text": [
            "['laranja', 'branco', 'azul', 'verde']\n"
          ]
        }
      ]
    },
    {
      "cell_type": "code",
      "source": [
        "cores.pop(0)\n",
        "cores.pop(-1)   # list.pop() e list.pop(-1) são equivalentes\n",
        "print(cores)"
      ],
      "metadata": {
        "id": "VRB2Epy9QtBQ",
        "colab": {
          "base_uri": "https://localhost:8080/"
        },
        "outputId": "f588a710-704a-40e8-b5e7-6e88be2df0f7"
      },
      "execution_count": 21,
      "outputs": [
        {
          "output_type": "stream",
          "name": "stdout",
          "text": [
            "['branco', 'azul']\n"
          ]
        }
      ]
    },
    {
      "cell_type": "markdown",
      "source": [
        "#### Extrair subconjuntos das listas"
      ],
      "metadata": {
        "id": "x_S5itIc5hdx"
      }
    },
    {
      "cell_type": "markdown",
      "metadata": {
        "id": "96pWlOcrCSif"
      },
      "source": [
        "Também é possível extrair subconjuntos das listas (*slice*) especificando o valor inicial (incluído) e o valor final (não incluído) separados por `:`"
      ]
    },
    {
      "cell_type": "code",
      "metadata": {
        "id": "KQD0SQZECgVO",
        "colab": {
          "base_uri": "https://localhost:8080/"
        },
        "outputId": "c52d0aeb-6e2d-45e8-8531-41470d7503dd"
      },
      "source": [
        "# original\n",
        "mais_cores"
      ],
      "execution_count": 29,
      "outputs": [
        {
          "output_type": "execute_result",
          "data": {
            "text/plain": [
              "['laranja', ['preto', 'branco'], 'verde', 'azul', 'branco', 'amarelo']"
            ]
          },
          "metadata": {},
          "execution_count": 29
        }
      ]
    },
    {
      "cell_type": "code",
      "source": [
        "# índices 1 e 2 (o índice 3 apenas marca o fim do subconjunto, não está incluído)\n",
        "mais_cores[1:3]"
      ],
      "metadata": {
        "colab": {
          "base_uri": "https://localhost:8080/"
        },
        "id": "OL0Cc6CnkbQD",
        "outputId": "7d45e4ee-de28-4b78-9dbf-10779b99ef3f"
      },
      "execution_count": 30,
      "outputs": [
        {
          "output_type": "execute_result",
          "data": {
            "text/plain": [
              "[['preto', 'branco'], 'verde']"
            ]
          },
          "metadata": {},
          "execution_count": 30
        }
      ]
    },
    {
      "cell_type": "markdown",
      "metadata": {
        "id": "NShFeNfwDEYt"
      },
      "source": [
        "O primeiro e o último elementos do subconjunto podem ser omitidos quando coincidem com o primeiro e o último elementos da lista."
      ]
    },
    {
      "cell_type": "code",
      "metadata": {
        "id": "fn-18HDVDXX-"
      },
      "source": [
        "nums = [0, 1, 2, 3, 4, 5, 6, 7, 8, 9, 10]"
      ],
      "execution_count": 31,
      "outputs": []
    },
    {
      "cell_type": "code",
      "source": [
        "print(\"Desde o primeiro valor até o 4 (não incluído)\")\n",
        "print(nums[:4])"
      ],
      "metadata": {
        "id": "vhv0RHx00sa-",
        "colab": {
          "base_uri": "https://localhost:8080/"
        },
        "outputId": "17470cef-59e4-4b01-e5ee-8e5ab0a79250"
      },
      "execution_count": 36,
      "outputs": [
        {
          "output_type": "stream",
          "name": "stdout",
          "text": [
            "Desde o primeiro valor até o 4 (não incluído)\n",
            "[0, 1, 2, 3]\n"
          ]
        }
      ]
    },
    {
      "cell_type": "code",
      "source": [
        "print(\"Desde o sétimo valor (incluído) até o último\")\n",
        "print(nums[7:])"
      ],
      "metadata": {
        "id": "C6SXr5gE0uZp",
        "colab": {
          "base_uri": "https://localhost:8080/"
        },
        "outputId": "ec3dcc97-3348-4448-8c4d-610bb17c1804"
      },
      "execution_count": 37,
      "outputs": [
        {
          "output_type": "stream",
          "name": "stdout",
          "text": [
            "Desde o sétimo valor (incluído) até o último\n",
            "[7, 8, 9, 10]\n"
          ]
        }
      ]
    },
    {
      "cell_type": "code",
      "source": [
        "print(\"Todos os valores (devolve uma lista idêntica)\")\n",
        "print(nums[:])"
      ],
      "metadata": {
        "id": "uM-H4EoL0vyj",
        "colab": {
          "base_uri": "https://localhost:8080/"
        },
        "outputId": "171f0d8f-669a-4987-c8bd-2f947538ca50"
      },
      "execution_count": 38,
      "outputs": [
        {
          "output_type": "stream",
          "name": "stdout",
          "text": [
            "Todos os valores (devolve uma lista idêntica)\n",
            "[0, 1, 2, 3, 4, 5, 6, 7, 8, 9, 10]\n"
          ]
        }
      ]
    },
    {
      "cell_type": "markdown",
      "source": [
        "Se usarmos números negativos no *slice*, começa a contar polo final."
      ],
      "metadata": {
        "id": "cRBE_dM302m6"
      }
    },
    {
      "cell_type": "code",
      "source": [
        "print(\"Do índice na posição -3 até ao fim\")\n",
        "print(nums[-3:])"
      ],
      "metadata": {
        "id": "jej0bOqU1IdN",
        "colab": {
          "base_uri": "https://localhost:8080/"
        },
        "outputId": "572605ee-2f67-4caa-cc23-381278f2f0a2"
      },
      "execution_count": 39,
      "outputs": [
        {
          "output_type": "stream",
          "name": "stdout",
          "text": [
            "Do índice na posição -3 até ao fim\n",
            "[8, 9, 10]\n"
          ]
        }
      ]
    },
    {
      "cell_type": "markdown",
      "source": [
        "Se incluirmos um terceiro valor no *slice*, este representa o salto (por defeito é 1)."
      ],
      "metadata": {
        "id": "j6ODsYagv-tQ"
      }
    },
    {
      "cell_type": "code",
      "source": [
        "print(\"Todos os valores contando índices de 2 en 2\")\n",
        "print(nums[::2])"
      ],
      "metadata": {
        "id": "fr2sS0llwIfj",
        "colab": {
          "base_uri": "https://localhost:8080/"
        },
        "outputId": "bd0f79b2-3b6f-4d40-974b-68e72f3b46d8"
      },
      "execution_count": 40,
      "outputs": [
        {
          "output_type": "stream",
          "name": "stdout",
          "text": [
            "Todos os valores contando índices de 2 en 2\n",
            "[0, 2, 4, 6, 8, 10]\n"
          ]
        }
      ]
    },
    {
      "cell_type": "code",
      "source": [
        "# O que acontece se o salto for negativo?\n",
        "print(nums[10:2:-3])"
      ],
      "metadata": {
        "id": "Kizq1J96xuoi",
        "colab": {
          "base_uri": "https://localhost:8080/"
        },
        "outputId": "57d17877-76e0-4ead-8a94-8a925fead356"
      },
      "execution_count": 41,
      "outputs": [
        {
          "output_type": "stream",
          "name": "stdout",
          "text": [
            "[10, 7, 4]\n"
          ]
        }
      ]
    },
    {
      "cell_type": "markdown",
      "source": [
        "\n",
        "\n",
        "---\n",
        "\n",
        "\n",
        "\n",
        "A efectos de extraer subcadeas (*slicing*) ou uso de índices (*indexing*), **as cadeas** funcionan como as listas, sendo posíbel acceder/extraer os caracteres individuais que as compoñen mediante os índices."
      ],
      "metadata": {
        "id": "r2VWmQs5BN0S"
      }
    },
    {
      "cell_type": "code",
      "source": [
        "sample = \"Olá mundo\""
      ],
      "metadata": {
        "id": "dHsOTkK2Beop"
      },
      "execution_count": null,
      "outputs": []
    },
    {
      "cell_type": "code",
      "source": [
        "# Indexing\n",
        "print(sample[2])"
      ],
      "metadata": {
        "id": "772vaiTPqmOB"
      },
      "execution_count": null,
      "outputs": []
    },
    {
      "cell_type": "code",
      "source": [
        "# Slicing\n",
        "print(sample[1:6])"
      ],
      "metadata": {
        "id": "YZf0RFCFBmL6"
      },
      "execution_count": null,
      "outputs": []
    },
    {
      "cell_type": "code",
      "source": [
        "print(sample[-4:])"
      ],
      "metadata": {
        "id": "Rxam1L3RCXhJ"
      },
      "execution_count": null,
      "outputs": []
    },
    {
      "cell_type": "code",
      "source": [
        "print(sample[-1:-4:-1])"
      ],
      "metadata": {
        "id": "bsJIAc80BtjT"
      },
      "execution_count": null,
      "outputs": []
    },
    {
      "cell_type": "markdown",
      "source": [
        "#### Exercícios\n",
        "\n"
      ],
      "metadata": {
        "id": "6AeAnP4Qy5jS"
      }
    },
    {
      "cell_type": "markdown",
      "source": [
        "1. Cria uma lista de 5 números inteiros e com o nome `numeros`."
      ],
      "metadata": {
        "id": "4wSQHUG7zA08"
      }
    },
    {
      "cell_type": "code",
      "source": [],
      "metadata": {
        "id": "LyyBW9Ze3g9m"
      },
      "execution_count": 51,
      "outputs": []
    },
    {
      "cell_type": "markdown",
      "source": [
        "2. No final da lista `numeros` adiciona mais 2 números decimais (*`float`*)."
      ],
      "metadata": {
        "id": "MjYebepCzIEj"
      }
    },
    {
      "cell_type": "code",
      "source": [],
      "metadata": {
        "id": "7SWHsmeu3hlq"
      },
      "execution_count": 51,
      "outputs": []
    },
    {
      "cell_type": "markdown",
      "source": [
        "3. Imprime os últimos 3 números da lista."
      ],
      "metadata": {
        "id": "aaRxRi5xz7ne"
      }
    },
    {
      "cell_type": "code",
      "source": [],
      "metadata": {
        "id": "OHWeQZUc3iOD"
      },
      "execution_count": 50,
      "outputs": []
    },
    {
      "cell_type": "markdown",
      "source": [
        "4. Imprime a lista do revés"
      ],
      "metadata": {
        "id": "b8dTDygu2rcZ"
      }
    },
    {
      "cell_type": "code",
      "source": [],
      "metadata": {
        "id": "qyj09Nsc3i5E"
      },
      "execution_count": null,
      "outputs": []
    },
    {
      "cell_type": "markdown",
      "source": [
        "5. Elimina da lista os elementos de tipo decimal"
      ],
      "metadata": {
        "id": "o8hfK7cITJ0t"
      }
    },
    {
      "cell_type": "code",
      "source": [],
      "metadata": {
        "id": "4gXe2CmBTNz4"
      },
      "execution_count": 55,
      "outputs": []
    },
    {
      "cell_type": "markdown",
      "source": [
        "6. Extrai a cadeia *Galaxy* de `str1` utilizando a notação de *slicing*, armazena-a noutra variável (`slice1`) e imprime-a."
      ],
      "metadata": {
        "id": "FM-nZ3QbrnxH"
      }
    },
    {
      "cell_type": "code",
      "source": [
        "str1 = \"The Hitchhiker’s Guide to the Galaxy\"\n",
        "# escreve a solução\n"
      ],
      "metadata": {
        "id": "9MBC2D2HsCAD"
      },
      "execution_count": 58,
      "outputs": []
    },
    {
      "cell_type": "markdown",
      "metadata": {
        "id": "Lu3kQ87BkNm5"
      },
      "source": [
        "### Dicionários\n",
        "\n",
        "Estruturas de chave-valor em que a chave é um escalar e o valor pode ser escalar ou não escalar."
      ]
    },
    {
      "cell_type": "code",
      "metadata": {
        "id": "ugD7emwFkNm6"
      },
      "source": [
        "freq = {\n",
        "    \"medo\": 1209,\n",
        "    \"forte\": 10,\n",
        "    \"maior\": 154\n",
        "}"
      ],
      "execution_count": 59,
      "outputs": []
    },
    {
      "cell_type": "markdown",
      "metadata": {
        "id": "QTr8BtaVFXm7"
      },
      "source": [
        "É possível declarar um dicionário sem o inicializar, de modo a atribuir-lhe valores mais tarde."
      ]
    },
    {
      "cell_type": "code",
      "metadata": {
        "id": "USYEo7MbFcPn",
        "colab": {
          "base_uri": "https://localhost:8080/"
        },
        "outputId": "58cc73f5-8fbf-49f2-be80-a3ad62a11e27"
      },
      "source": [
        "colloc = {}\n",
        "colloc"
      ],
      "execution_count": 62,
      "outputs": [
        {
          "output_type": "execute_result",
          "data": {
            "text/plain": [
              "{}"
            ]
          },
          "metadata": {},
          "execution_count": 62
        }
      ]
    },
    {
      "cell_type": "code",
      "source": [
        "colloc.update({\"medo\": 1209})\n",
        "colloc"
      ],
      "metadata": {
        "colab": {
          "base_uri": "https://localhost:8080/"
        },
        "id": "mRq2Q1JGtvRG",
        "outputId": "e70a676c-4fc1-48da-c8ec-ac9abfaecbd7"
      },
      "execution_count": 63,
      "outputs": [
        {
          "output_type": "execute_result",
          "data": {
            "text/plain": [
              "{'medo': 1209}"
            ]
          },
          "metadata": {},
          "execution_count": 63
        }
      ]
    },
    {
      "cell_type": "code",
      "source": [
        "colloc.update({\"forte\": 10})\n",
        "\n",
        "# forma alternativa\n",
        "colloc[\"maior\"] = 154\n",
        "\n",
        "colloc"
      ],
      "metadata": {
        "colab": {
          "base_uri": "https://localhost:8080/"
        },
        "id": "Wofsu6gZt3M8",
        "outputId": "3ef0d3ff-e7dd-4943-aa24-7b904be5d375"
      },
      "execution_count": 64,
      "outputs": [
        {
          "output_type": "execute_result",
          "data": {
            "text/plain": [
              "{'medo': 1209, 'forte': 10, 'maior': 154}"
            ]
          },
          "metadata": {},
          "execution_count": 64
        }
      ]
    },
    {
      "cell_type": "markdown",
      "metadata": {
        "id": "9Nkxfw2fF4Ur"
      },
      "source": [
        "Utilizando `keys()` e `values()` é possível aceder à lista de chaves e valores de um dicionário separadamente."
      ]
    },
    {
      "cell_type": "code",
      "metadata": {
        "id": "nxqk5audF40s",
        "colab": {
          "base_uri": "https://localhost:8080/"
        },
        "outputId": "780bf380-5b9c-471d-8072-6c9da98e0f41"
      },
      "source": [
        "colloc.keys()"
      ],
      "execution_count": 65,
      "outputs": [
        {
          "output_type": "execute_result",
          "data": {
            "text/plain": [
              "dict_keys(['medo', 'forte', 'maior'])"
            ]
          },
          "metadata": {},
          "execution_count": 65
        }
      ]
    },
    {
      "cell_type": "code",
      "metadata": {
        "id": "LoNz3memGKok",
        "colab": {
          "base_uri": "https://localhost:8080/"
        },
        "outputId": "63816c0a-1ba9-4c2b-bb27-6bbfaed72c38"
      },
      "source": [
        "colloc.values()"
      ],
      "execution_count": 66,
      "outputs": [
        {
          "output_type": "execute_result",
          "data": {
            "text/plain": [
              "dict_values([1209, 10, 154])"
            ]
          },
          "metadata": {},
          "execution_count": 66
        }
      ]
    },
    {
      "cell_type": "markdown",
      "metadata": {
        "id": "2kv7T-kjHHzR"
      },
      "source": [
        "Com `items()` acedemos ao par chave-valor."
      ]
    },
    {
      "cell_type": "code",
      "metadata": {
        "id": "qdwqF2JiHNks",
        "colab": {
          "base_uri": "https://localhost:8080/"
        },
        "outputId": "9016cf32-bc0d-4375-e14c-53d1e26a47d2"
      },
      "source": [
        "colloc.items()"
      ],
      "execution_count": 67,
      "outputs": [
        {
          "output_type": "execute_result",
          "data": {
            "text/plain": [
              "dict_items([('medo', 1209), ('forte', 10), ('maior', 154)])"
            ]
          },
          "metadata": {},
          "execution_count": 67
        }
      ]
    },
    {
      "cell_type": "markdown",
      "source": [
        "### Set\n",
        "\n",
        "Um conjunto é um tipo de dados iterável, não ordenado, mutável e não duplicável. É declarado usando chaves."
      ],
      "metadata": {
        "id": "ZvQd9DczmZGt"
      }
    },
    {
      "cell_type": "code",
      "source": [
        "primes = {2, 3, 5, 7, 11, 11, 13, 17}\n",
        "\n",
        "print(type(primes))\n",
        "\n",
        "primes\n"
      ],
      "metadata": {
        "colab": {
          "base_uri": "https://localhost:8080/"
        },
        "id": "kP79uAIaPvjM",
        "outputId": "f76e5ddd-168d-4425-f930-4847f687db1c"
      },
      "execution_count": 68,
      "outputs": [
        {
          "output_type": "stream",
          "name": "stdout",
          "text": [
            "<class 'set'>\n"
          ]
        },
        {
          "output_type": "execute_result",
          "data": {
            "text/plain": [
              "{2, 3, 5, 7, 11, 13, 17}"
            ]
          },
          "metadata": {},
          "execution_count": 68
        }
      ]
    },
    {
      "cell_type": "markdown",
      "source": [
        "Depois de o conjunto ter sido inicializado, é possível adicionar mais elementos utilizando os métodos `add()` (elemento único) ou `update()` (vários)."
      ],
      "metadata": {
        "id": "_PSLKQ7Wm6P-"
      }
    },
    {
      "cell_type": "code",
      "source": [
        "primes = {2, 3, 5, 7, 11, 11, 13, 17}\n",
        "primes.add(19)\n",
        "\n",
        "primes"
      ],
      "metadata": {
        "colab": {
          "base_uri": "https://localhost:8080/"
        },
        "id": "sUMEDmGynDGj",
        "outputId": "b4735e8b-1ca1-48d5-cdc1-6f6f8b03c566"
      },
      "execution_count": 69,
      "outputs": [
        {
          "output_type": "execute_result",
          "data": {
            "text/plain": [
              "{2, 3, 5, 7, 11, 13, 17, 19}"
            ]
          },
          "metadata": {},
          "execution_count": 69
        }
      ]
    },
    {
      "cell_type": "code",
      "source": [
        "primes.update([23, 29, 31, 31, 31])\n",
        "\n",
        "primes"
      ],
      "metadata": {
        "colab": {
          "base_uri": "https://localhost:8080/"
        },
        "id": "tFpkyvJtn6cd",
        "outputId": "1b24dc8d-87a7-45ec-a28a-d9f2c5cb3ac2"
      },
      "execution_count": 70,
      "outputs": [
        {
          "output_type": "execute_result",
          "data": {
            "text/plain": [
              "{2, 3, 5, 7, 11, 13, 17, 19, 23, 29, 31}"
            ]
          },
          "metadata": {},
          "execution_count": 70
        }
      ]
    },
    {
      "cell_type": "markdown",
      "source": [
        "### Tuple\n",
        "\n",
        "Uma tupla é um tipo de dados iterável, ordenado e imutável. É semelhante a uma lista, mas não pode ser modificada."
      ],
      "metadata": {
        "id": "CxOCMyDVoacx"
      }
    },
    {
      "cell_type": "code",
      "source": [
        "# Declaração de tupla sem elementos\n",
        "tuple1 = ()\n",
        "\n",
        "print(len(tuple1))\n",
        "print(type(tuple1))"
      ],
      "metadata": {
        "colab": {
          "base_uri": "https://localhost:8080/"
        },
        "id": "czrwDQpHqqNU",
        "outputId": "16f5c258-1b6b-4979-a6ad-a8206845f035"
      },
      "execution_count": 71,
      "outputs": [
        {
          "output_type": "stream",
          "name": "stdout",
          "text": [
            "0\n",
            "<class 'tuple'>\n"
          ]
        }
      ]
    },
    {
      "cell_type": "code",
      "source": [
        "# Declaração de tupla com um elemento\n",
        "tuple2 = (24,)\n",
        "\n",
        "print(len(tuple2))\n",
        "print(type(tuple2))\n"
      ],
      "metadata": {
        "colab": {
          "base_uri": "https://localhost:8080/"
        },
        "id": "NYpJwCQiqxc7",
        "outputId": "9232944a-b49b-41ae-c481-38b43c3187be"
      },
      "execution_count": 74,
      "outputs": [
        {
          "output_type": "stream",
          "name": "stdout",
          "text": [
            "1\n",
            "<class 'tuple'>\n"
          ]
        }
      ]
    },
    {
      "cell_type": "code",
      "source": [
        "# Declaração de tuplas com vários elementos (também duplicados) e acesso através de índices\n",
        "tuple3 = (24, 15, 15, 15, \"rede galabra\", 1.65, True)\n",
        "\n",
        "print(len(tuple3))\n",
        "print(type(tuple3))\n",
        "\n",
        "tuple3[4]"
      ],
      "metadata": {
        "colab": {
          "base_uri": "https://localhost:8080/",
          "height": 74
        },
        "id": "PZNNn0aVrMJ4",
        "outputId": "569525b8-c221-4d28-f853-7fc72a7fc8d1"
      },
      "execution_count": 76,
      "outputs": [
        {
          "output_type": "stream",
          "name": "stdout",
          "text": [
            "7\n",
            "<class 'tuple'>\n"
          ]
        },
        {
          "output_type": "execute_result",
          "data": {
            "text/plain": [
              "'rede galabra'"
            ],
            "application/vnd.google.colaboratory.intrinsic+json": {
              "type": "string"
            }
          },
          "metadata": {},
          "execution_count": 76
        }
      ]
    },
    {
      "cell_type": "markdown",
      "metadata": {
        "id": "9cCjpwXskNm7"
      },
      "source": [
        "## Casting\n",
        "\n",
        "Uma operação de *casting* (conversão) altera o tipo de um objeto. Dependendo do tipo de conversão, isto pode resultar em perda de informação."
      ]
    },
    {
      "cell_type": "code",
      "metadata": {
        "id": "OBnd-G4hkNm7"
      },
      "source": [
        "# De inteiro a decimal\n",
        "float(8)"
      ],
      "execution_count": null,
      "outputs": []
    },
    {
      "cell_type": "code",
      "metadata": {
        "id": "kcH-mfjVkNm8"
      },
      "source": [
        "# De decimal a inteiro\n",
        "int(3.9881)"
      ],
      "execution_count": null,
      "outputs": []
    },
    {
      "cell_type": "code",
      "metadata": {
        "id": "dIGO58wAkNm8"
      },
      "source": [
        "# Casting a cadeia de texto\n",
        "str(3.998)"
      ],
      "execution_count": null,
      "outputs": []
    },
    {
      "cell_type": "code",
      "source": [
        "# Casting de cadeia a numérico\n",
        "\n",
        "# Inteiro\n",
        "int(\"4\")"
      ],
      "metadata": {
        "id": "-rfzikjcomMd"
      },
      "execution_count": null,
      "outputs": []
    },
    {
      "cell_type": "code",
      "source": [
        "# Decimal\n",
        "float(\"4.980\")"
      ],
      "metadata": {
        "id": "6zvlA8LAo5g-"
      },
      "execution_count": null,
      "outputs": []
    },
    {
      "cell_type": "code",
      "source": [
        "# Casting de lista a conjunto (set), perdem-se as informações sobre os itens duplicados\n",
        "set([2, 2, 3, 5, 5, 5, 7, 11, 11, 13, 17])"
      ],
      "metadata": {
        "id": "-Zon3lE1s4dl",
        "colab": {
          "base_uri": "https://localhost:8080/"
        },
        "outputId": "ba72e612-599e-4640-e219-979bb031aebd"
      },
      "execution_count": 78,
      "outputs": [
        {
          "output_type": "execute_result",
          "data": {
            "text/plain": [
              "{2, 3, 5, 7, 11, 13, 17}"
            ]
          },
          "metadata": {},
          "execution_count": 78
        }
      ]
    },
    {
      "cell_type": "code",
      "source": [
        "# Casting de lista a tupla\n",
        "tuple([2, 2, 3, 5, 5, 5, 7, 11, 11, 13, 17])"
      ],
      "metadata": {
        "id": "_Cc_DUN7tRFX",
        "colab": {
          "base_uri": "https://localhost:8080/"
        },
        "outputId": "6704bfeb-1713-4566-ebac-9a2d775d78b0"
      },
      "execution_count": 79,
      "outputs": [
        {
          "output_type": "execute_result",
          "data": {
            "text/plain": [
              "(2, 2, 3, 5, 5, 5, 7, 11, 11, 13, 17)"
            ]
          },
          "metadata": {},
          "execution_count": 79
        }
      ]
    },
    {
      "cell_type": "markdown",
      "source": [
        "O que acontece se os tipos não forem os correctos quando se faz o *casting*?"
      ],
      "metadata": {
        "id": "AK4g025Eo9DE"
      }
    },
    {
      "cell_type": "code",
      "source": [
        "int(\"isto non vai\")"
      ],
      "metadata": {
        "id": "NNtDpZaKpBoF",
        "colab": {
          "base_uri": "https://localhost:8080/",
          "height": 146
        },
        "outputId": "5bb5f04f-42d4-4188-919a-b57b1f79f3c2"
      },
      "execution_count": 80,
      "outputs": [
        {
          "output_type": "error",
          "ename": "ValueError",
          "evalue": "invalid literal for int() with base 10: 'isto non vai'",
          "traceback": [
            "\u001b[0;31m---------------------------------------------------------------------------\u001b[0m",
            "\u001b[0;31mValueError\u001b[0m                                Traceback (most recent call last)",
            "\u001b[0;32m<ipython-input-80-2f1935ef2fec>\u001b[0m in \u001b[0;36m<cell line: 1>\u001b[0;34m()\u001b[0m\n\u001b[0;32m----> 1\u001b[0;31m \u001b[0mint\u001b[0m\u001b[0;34m(\u001b[0m\u001b[0;34m\"isto non vai\"\u001b[0m\u001b[0;34m)\u001b[0m\u001b[0;34m\u001b[0m\u001b[0;34m\u001b[0m\u001b[0m\n\u001b[0m",
            "\u001b[0;31mValueError\u001b[0m: invalid literal for int() with base 10: 'isto non vai'"
          ]
        }
      ]
    },
    {
      "cell_type": "markdown",
      "source": [
        "## Tipos mutáveis e imutáveis\n",
        "\n",
        "Os tipos de dados imutáveis são aqueles cujo estado não pode ser alterado depois de serem criados. Em Python, os tipos escalares (strings, dados numéricos) e alguns tipos não escalares (tuplas) são imutáveis. Em contrapartida, as listas, os dicionários e os conjuntos são mutáveis.\n",
        "\n",
        "Exemplos:"
      ],
      "metadata": {
        "id": "Sx0pGGmwNcpU"
      }
    },
    {
      "cell_type": "markdown",
      "source": [
        "**Strings**"
      ],
      "metadata": {
        "id": "2tMu1TJMzyeK"
      }
    },
    {
      "cell_type": "code",
      "source": [
        "cadeia = \"Olá\"\n",
        "print(cadeia)\n",
        "id(cadeia)"
      ],
      "metadata": {
        "id": "Weg604zwORWE",
        "colab": {
          "base_uri": "https://localhost:8080/"
        },
        "outputId": "31aaa739-f116-4280-cb51-6bd9304ff74f"
      },
      "execution_count": 85,
      "outputs": [
        {
          "output_type": "stream",
          "name": "stdout",
          "text": [
            "Olá\n"
          ]
        },
        {
          "output_type": "execute_result",
          "data": {
            "text/plain": [
              "137565187186704"
            ]
          },
          "metadata": {},
          "execution_count": 85
        }
      ]
    },
    {
      "cell_type": "code",
      "source": [
        "cadeia = cadeia + \" mundo!\"\n",
        "print(cadeia)\n",
        "id(cadeia)"
      ],
      "metadata": {
        "id": "vnoT25bdOXcT",
        "colab": {
          "base_uri": "https://localhost:8080/"
        },
        "outputId": "1c89d500-b99a-47ca-dd23-11c7649b37c8"
      },
      "execution_count": 86,
      "outputs": [
        {
          "output_type": "stream",
          "name": "stdout",
          "text": [
            "Olá mundo!\n"
          ]
        },
        {
          "output_type": "execute_result",
          "data": {
            "text/plain": [
              "137565187160272"
            ]
          },
          "metadata": {},
          "execution_count": 86
        }
      ]
    },
    {
      "cell_type": "code",
      "source": [
        "cadeia[2]"
      ],
      "metadata": {
        "colab": {
          "base_uri": "https://localhost:8080/",
          "height": 38
        },
        "id": "6aZtb6hH3i3C",
        "outputId": "52d2459b-7b75-47d2-a207-e8aaccf8d1d2"
      },
      "execution_count": 88,
      "outputs": [
        {
          "output_type": "execute_result",
          "data": {
            "text/plain": [
              "'á'"
            ],
            "application/vnd.google.colaboratory.intrinsic+json": {
              "type": "string"
            }
          },
          "metadata": {},
          "execution_count": 88
        }
      ]
    },
    {
      "cell_type": "code",
      "source": [
        "# erro!\n",
        "cadeia[2] = \"a\""
      ],
      "metadata": {
        "colab": {
          "base_uri": "https://localhost:8080/",
          "height": 164
        },
        "id": "AQ0g5cEI3qTD",
        "outputId": "6120c435-cf60-4a91-aec8-ca4265d4a5ff"
      },
      "execution_count": 90,
      "outputs": [
        {
          "output_type": "error",
          "ename": "TypeError",
          "evalue": "'str' object does not support item assignment",
          "traceback": [
            "\u001b[0;31m---------------------------------------------------------------------------\u001b[0m",
            "\u001b[0;31mTypeError\u001b[0m                                 Traceback (most recent call last)",
            "\u001b[0;32m<ipython-input-90-83c50d655f23>\u001b[0m in \u001b[0;36m<cell line: 2>\u001b[0;34m()\u001b[0m\n\u001b[1;32m      1\u001b[0m \u001b[0;31m# erro!\u001b[0m\u001b[0;34m\u001b[0m\u001b[0;34m\u001b[0m\u001b[0m\n\u001b[0;32m----> 2\u001b[0;31m \u001b[0mcadeia\u001b[0m\u001b[0;34m[\u001b[0m\u001b[0;36m2\u001b[0m\u001b[0;34m]\u001b[0m \u001b[0;34m=\u001b[0m \u001b[0;34m\"a\"\u001b[0m\u001b[0;34m\u001b[0m\u001b[0;34m\u001b[0m\u001b[0m\n\u001b[0m",
            "\u001b[0;31mTypeError\u001b[0m: 'str' object does not support item assignment"
          ]
        }
      ]
    },
    {
      "cell_type": "markdown",
      "source": [
        "**Listas**"
      ],
      "metadata": {
        "id": "xdsybxjwOpw_"
      }
    },
    {
      "cell_type": "code",
      "source": [
        "lista = [1, 4, \"verde\"]\n",
        "print(lista)\n",
        "id(lista)"
      ],
      "metadata": {
        "id": "g6_Ru3-zOsVJ",
        "colab": {
          "base_uri": "https://localhost:8080/"
        },
        "outputId": "5e3a12bf-cd5d-418f-a49d-ae22a0ae0d38"
      },
      "execution_count": 83,
      "outputs": [
        {
          "output_type": "stream",
          "name": "stdout",
          "text": [
            "[1, 4, 'verde']\n"
          ]
        },
        {
          "output_type": "execute_result",
          "data": {
            "text/plain": [
              "137565187254720"
            ]
          },
          "metadata": {},
          "execution_count": 83
        }
      ]
    },
    {
      "cell_type": "code",
      "source": [
        "lista.append(8)\n",
        "lista.remove(\"verde\")\n",
        "print(lista)\n",
        "id(lista)"
      ],
      "metadata": {
        "id": "baPhZGGRO1lw",
        "colab": {
          "base_uri": "https://localhost:8080/"
        },
        "outputId": "7173b1b4-3ccd-4cef-8b36-8d66728909ac"
      },
      "execution_count": 84,
      "outputs": [
        {
          "output_type": "stream",
          "name": "stdout",
          "text": [
            "[1, 4, 8]\n"
          ]
        },
        {
          "output_type": "execute_result",
          "data": {
            "text/plain": [
              "137565187254720"
            ]
          },
          "metadata": {},
          "execution_count": 84
        }
      ]
    },
    {
      "cell_type": "code",
      "source": [
        "lista[1]"
      ],
      "metadata": {
        "colab": {
          "base_uri": "https://localhost:8080/"
        },
        "id": "8tnShjUN30UJ",
        "outputId": "3cc6808b-fc69-4747-8365-5d92d290dab7"
      },
      "execution_count": 91,
      "outputs": [
        {
          "output_type": "execute_result",
          "data": {
            "text/plain": [
              "4"
            ]
          },
          "metadata": {},
          "execution_count": 91
        }
      ]
    },
    {
      "cell_type": "code",
      "source": [
        "lista[1] = 'a'\n",
        "lista"
      ],
      "metadata": {
        "colab": {
          "base_uri": "https://localhost:8080/"
        },
        "id": "4DwAzvYn32d9",
        "outputId": "5775dc2b-81bd-4ffb-9a89-4b5882b5a827"
      },
      "execution_count": 93,
      "outputs": [
        {
          "output_type": "execute_result",
          "data": {
            "text/plain": [
              "[1, 'a', 8]"
            ]
          },
          "metadata": {},
          "execution_count": 93
        }
      ]
    },
    {
      "cell_type": "markdown",
      "metadata": {
        "id": "7CFQ1WDXS6jp"
      },
      "source": [
        "# Operadores"
      ]
    },
    {
      "cell_type": "markdown",
      "metadata": {
        "id": "JLzNDF0dkNm8"
      },
      "source": [
        "## Aritméticos"
      ]
    },
    {
      "cell_type": "markdown",
      "metadata": {
        "id": "R-o6V2ODTCt5"
      },
      "source": [
        "operador      |   significado\n",
        "--------------|----------------\n",
        "`**`          | Expoente\n",
        "`%`           | Módulo (resto)\n",
        "`//`\t        | Divisão de números inteiros\n",
        "`/`\t          | Divisão\n",
        "`*`\t          | Multiplicação\n",
        "`-`\t          | Subtração\n",
        "`+`           | Soma\n",
        "\n",
        "**Exemplos**:"
      ]
    },
    {
      "cell_type": "code",
      "metadata": {
        "id": "xa3zK6XsU3fe"
      },
      "source": [
        "4 / 3"
      ],
      "execution_count": null,
      "outputs": []
    },
    {
      "cell_type": "markdown",
      "metadata": {
        "id": "CYs9J9B4kNm9"
      },
      "source": [
        "Na divisão de números inteiros a parte decimal é ignorada."
      ]
    },
    {
      "cell_type": "code",
      "metadata": {
        "id": "QU2s2NFdSb9F",
        "colab": {
          "base_uri": "https://localhost:8080/"
        },
        "outputId": "9fdd1428-9426-4240-a08d-1e2e54c5cddc"
      },
      "source": [
        "# Divisão de números inteiros\n",
        "4 // 3"
      ],
      "execution_count": 94,
      "outputs": [
        {
          "output_type": "execute_result",
          "data": {
            "text/plain": [
              "1"
            ]
          },
          "metadata": {},
          "execution_count": 94
        }
      ]
    },
    {
      "cell_type": "markdown",
      "metadata": {
        "id": "I8qnKZPMkNm9"
      },
      "source": [
        "Quando uma divisão de números não inteiros é exacta, devolve um valor *float*."
      ]
    },
    {
      "cell_type": "code",
      "metadata": {
        "id": "UaDFy5OJkNm9",
        "colab": {
          "base_uri": "https://localhost:8080/"
        },
        "outputId": "54c87353-1c60-4bbf-e66d-1df23e5a4f79"
      },
      "source": [
        "# Divisão não inteira sem resto\n",
        "4 / 2"
      ],
      "execution_count": 95,
      "outputs": [
        {
          "output_type": "execute_result",
          "data": {
            "text/plain": [
              "2.0"
            ]
          },
          "metadata": {},
          "execution_count": 95
        }
      ]
    },
    {
      "cell_type": "code",
      "metadata": {
        "id": "j1VoyaykU1Fl",
        "colab": {
          "base_uri": "https://localhost:8080/"
        },
        "outputId": "db76f1a9-8c87-4f78-9b46-eb7c4178b6e2"
      },
      "source": [
        "# Módulo\n",
        "4 % 2"
      ],
      "execution_count": 96,
      "outputs": [
        {
          "output_type": "execute_result",
          "data": {
            "text/plain": [
              "0"
            ]
          },
          "metadata": {},
          "execution_count": 96
        }
      ]
    },
    {
      "cell_type": "markdown",
      "metadata": {
        "id": "99IMFysANAcf"
      },
      "source": [
        "O operador composto permite efetuar a operação e a atribuição ao mesmo tempo."
      ]
    },
    {
      "cell_type": "code",
      "metadata": {
        "id": "UgvhY1LzNKSB",
        "colab": {
          "base_uri": "https://localhost:8080/"
        },
        "outputId": "0e2953d8-190c-4788-d1c3-239fb156b922"
      },
      "source": [
        "x = 5\n",
        "x += 15       # equivale a x = x + 15\n",
        "print(x)\n",
        "\n",
        "x //= 4       # equivale a x = x // 4\n",
        "print(x)"
      ],
      "execution_count": 97,
      "outputs": [
        {
          "output_type": "stream",
          "name": "stdout",
          "text": [
            "20\n",
            "5\n"
          ]
        }
      ]
    },
    {
      "cell_type": "markdown",
      "metadata": {
        "id": "SL5S1fxdkNnB"
      },
      "source": [
        "### Precedência"
      ]
    },
    {
      "cell_type": "code",
      "metadata": {
        "id": "pQ3DaFTvkNnC",
        "colab": {
          "base_uri": "https://localhost:8080/"
        },
        "outputId": "397a7d66-29d2-4e25-a553-3775672feddd"
      },
      "source": [
        "2 + 3 * 4"
      ],
      "execution_count": 98,
      "outputs": [
        {
          "output_type": "execute_result",
          "data": {
            "text/plain": [
              "14"
            ]
          },
          "metadata": {},
          "execution_count": 98
        }
      ]
    },
    {
      "cell_type": "code",
      "metadata": {
        "id": "Nhj2FDmKkNnE",
        "colab": {
          "base_uri": "https://localhost:8080/"
        },
        "outputId": "dec89297-0726-41cd-e505-33cd7cfcc27a"
      },
      "source": [
        "2 + (3 * 4)"
      ],
      "execution_count": 99,
      "outputs": [
        {
          "output_type": "execute_result",
          "data": {
            "text/plain": [
              "14"
            ]
          },
          "metadata": {},
          "execution_count": 99
        }
      ]
    },
    {
      "cell_type": "code",
      "metadata": {
        "id": "i0jsqQXnkNnE",
        "colab": {
          "base_uri": "https://localhost:8080/"
        },
        "outputId": "e6c11602-d278-43a9-b1f7-88b8408c54c8"
      },
      "source": [
        "(2 + 3) * 4"
      ],
      "execution_count": 100,
      "outputs": [
        {
          "output_type": "execute_result",
          "data": {
            "text/plain": [
              "20"
            ]
          },
          "metadata": {},
          "execution_count": 100
        }
      ]
    },
    {
      "cell_type": "markdown",
      "metadata": {
        "id": "tNaSZwdiUtiA"
      },
      "source": [
        "## Relacionais\n",
        "\n",
        "Resulta sempre num valor booleano (`True` ou `False`).\n",
        "\n",
        "operador       |    significado\n",
        "---------------|-------------------\n",
        "==             | igual\n",
        "!=             | distinto\n",
        "<              | menor que\n",
        ">              | maior que\n",
        "<=             | menor ou igual que\n",
        ">=             | maior ou igual que"
      ]
    },
    {
      "cell_type": "code",
      "metadata": {
        "id": "tpejZ6RHkNnF",
        "colab": {
          "base_uri": "https://localhost:8080/"
        },
        "outputId": "0731797d-adcf-470b-f985-5cc43674e01c"
      },
      "source": [
        "4 < 5"
      ],
      "execution_count": 101,
      "outputs": [
        {
          "output_type": "execute_result",
          "data": {
            "text/plain": [
              "True"
            ]
          },
          "metadata": {},
          "execution_count": 101
        }
      ]
    },
    {
      "cell_type": "code",
      "metadata": {
        "id": "GnzwrpkVkNnF",
        "colab": {
          "base_uri": "https://localhost:8080/"
        },
        "outputId": "b270d58e-a73d-4bb0-94bc-f243421c6c47"
      },
      "source": [
        "4 == 5"
      ],
      "execution_count": 102,
      "outputs": [
        {
          "output_type": "execute_result",
          "data": {
            "text/plain": [
              "False"
            ]
          },
          "metadata": {},
          "execution_count": 102
        }
      ]
    },
    {
      "cell_type": "code",
      "metadata": {
        "id": "prXs4R-tkNnF",
        "colab": {
          "base_uri": "https://localhost:8080/"
        },
        "outputId": "c77130a0-905f-4aa7-ecc7-128595f5180e"
      },
      "source": [
        "x = y = 10\n",
        "x != y"
      ],
      "execution_count": 103,
      "outputs": [
        {
          "output_type": "execute_result",
          "data": {
            "text/plain": [
              "False"
            ]
          },
          "metadata": {},
          "execution_count": 103
        }
      ]
    },
    {
      "cell_type": "markdown",
      "metadata": {
        "id": "5IVQ_Y_Cq43B"
      },
      "source": [
        "## Lógicos\n",
        "\n",
        "Permitem avaliar expressões que resultam num valor booleano."
      ]
    },
    {
      "cell_type": "markdown",
      "source": [
        "- `and`"
      ],
      "metadata": {
        "id": "6JA5NWIe65jv"
      }
    },
    {
      "cell_type": "code",
      "metadata": {
        "id": "blmilUknrwT5",
        "colab": {
          "base_uri": "https://localhost:8080/"
        },
        "outputId": "763ca8cf-9ff2-4b7f-8264-65cc522d3dab"
      },
      "source": [
        "print(x)\n",
        "x < 100 and x > 1"
      ],
      "execution_count": 104,
      "outputs": [
        {
          "output_type": "stream",
          "name": "stdout",
          "text": [
            "10\n"
          ]
        },
        {
          "output_type": "execute_result",
          "data": {
            "text/plain": [
              "True"
            ]
          },
          "metadata": {},
          "execution_count": 104
        }
      ]
    },
    {
      "cell_type": "markdown",
      "metadata": {
        "id": "lg0PZbau1ixs"
      },
      "source": [
        "- or"
      ]
    },
    {
      "cell_type": "code",
      "metadata": {
        "id": "rypNY7gy1ncd",
        "colab": {
          "base_uri": "https://localhost:8080/"
        },
        "outputId": "4e7c86c7-1001-4fda-899b-7655eb43d41b"
      },
      "source": [
        "x > 20 or x < 11"
      ],
      "execution_count": 105,
      "outputs": [
        {
          "output_type": "execute_result",
          "data": {
            "text/plain": [
              "True"
            ]
          },
          "metadata": {},
          "execution_count": 105
        }
      ]
    },
    {
      "cell_type": "markdown",
      "metadata": {
        "id": "Dpqvp6rK14A2"
      },
      "source": [
        "- not"
      ]
    },
    {
      "cell_type": "code",
      "metadata": {
        "id": "BsAwSUYa15ln",
        "colab": {
          "base_uri": "https://localhost:8080/"
        },
        "outputId": "8825f193-515f-4c4e-c3f1-69b7e65c290b"
      },
      "source": [
        "not x > 20"
      ],
      "execution_count": 106,
      "outputs": [
        {
          "output_type": "execute_result",
          "data": {
            "text/plain": [
              "True"
            ]
          },
          "metadata": {},
          "execution_count": 106
        }
      ]
    },
    {
      "cell_type": "code",
      "metadata": {
        "id": "h9UNIMch3SMN",
        "colab": {
          "base_uri": "https://localhost:8080/"
        },
        "outputId": "4700ac64-1706-44d6-d071-6f054bde81ec"
      },
      "source": [
        "txt = 'expressão'\n",
        "'s' in txt and len(txt) > 10"
      ],
      "execution_count": 110,
      "outputs": [
        {
          "output_type": "execute_result",
          "data": {
            "text/plain": [
              "False"
            ]
          },
          "metadata": {},
          "execution_count": 110
        }
      ]
    },
    {
      "cell_type": "code",
      "metadata": {
        "id": "vPjBY6XG5m3-",
        "colab": {
          "base_uri": "https://localhost:8080/"
        },
        "outputId": "571ba2b1-d214-43d8-a750-4b2bf476967d"
      },
      "source": [
        "x = None\n",
        "y = 5\n",
        "x or y"
      ],
      "execution_count": 111,
      "outputs": [
        {
          "output_type": "execute_result",
          "data": {
            "text/plain": [
              "5"
            ]
          },
          "metadata": {},
          "execution_count": 111
        }
      ]
    },
    {
      "cell_type": "code",
      "metadata": {
        "id": "ye3ohWmY6WNr",
        "colab": {
          "base_uri": "https://localhost:8080/"
        },
        "outputId": "fc425db1-3001-4ed2-ea11-851572832c56"
      },
      "source": [
        "x = 1\n",
        "x or y"
      ],
      "execution_count": 112,
      "outputs": [
        {
          "output_type": "execute_result",
          "data": {
            "text/plain": [
              "1"
            ]
          },
          "metadata": {},
          "execution_count": 112
        }
      ]
    },
    {
      "cell_type": "markdown",
      "metadata": {
        "id": "jHh_W-hlOFZf"
      },
      "source": [
        "# Controlo do fluxo"
      ]
    },
    {
      "cell_type": "markdown",
      "metadata": {
        "id": "smyviuNfOMpu"
      },
      "source": [
        "## Condicional `if`\n",
        "\n",
        "Comprova se uma expressão é certa (`True`)."
      ]
    },
    {
      "cell_type": "code",
      "metadata": {
        "id": "ja9NeS-zOG8Q"
      },
      "source": [
        "num = 5\n",
        "if num < 3:\n",
        "  print(\"menor a 3\")\n",
        "elif num <= 5:\n",
        "  print(\"menor ou igual a 5\")\n",
        "else:\n",
        "  print(\"maior de 5\")"
      ],
      "execution_count": null,
      "outputs": []
    },
    {
      "cell_type": "markdown",
      "source": [
        "## Estruturas de repetição (*loops*)"
      ],
      "metadata": {
        "id": "Izm9DldVBH5P"
      }
    },
    {
      "cell_type": "markdown",
      "metadata": {
        "id": "j5ri5BvxQOfq"
      },
      "source": [
        "### `for`\n",
        "\n",
        "Permite percorrer um grupo de elementos que são iteráveis (por exemplo, listas)."
      ]
    },
    {
      "cell_type": "code",
      "source": [
        "for n in [1, 2, 3]:\n",
        "  print(n)"
      ],
      "metadata": {
        "id": "n6g3T1XTYdX4",
        "colab": {
          "base_uri": "https://localhost:8080/"
        },
        "outputId": "5f8777b7-5964-4ef1-b00c-8f361376e7f0"
      },
      "execution_count": 113,
      "outputs": [
        {
          "output_type": "stream",
          "name": "stdout",
          "text": [
            "1\n",
            "2\n",
            "3\n"
          ]
        }
      ]
    },
    {
      "cell_type": "code",
      "metadata": {
        "id": "jTYRAg_gOKuA",
        "colab": {
          "base_uri": "https://localhost:8080/"
        },
        "outputId": "16a479c5-4b67-4c54-964a-1db1362db914"
      },
      "source": [
        "freqs = {\"medo\": 129, \"repetição\": 54, \"percorrer\": 2}\n",
        "\n",
        "for key, val in colloc.items():\n",
        "  print(f\"chave: {key} // valor: {val}\")\n",
        "  print(\"chave: {} // valor: {}\".format(key, val))"
      ],
      "execution_count": 114,
      "outputs": [
        {
          "output_type": "stream",
          "name": "stdout",
          "text": [
            "chave: medo // valor: 1209\n",
            "chave: medo // valor: 1209\n",
            "chave: forte // valor: 10\n",
            "chave: forte // valor: 10\n",
            "chave: maior // valor: 154\n",
            "chave: maior // valor: 154\n"
          ]
        }
      ]
    },
    {
      "cell_type": "code",
      "source": [
        "print(\"Fibonacci\\n\")\n",
        "\n",
        "fibonacci = [1, 1, 2, 3, 5, 8, 13, 21]\n",
        "for idx, num in enumerate(fibonacci):\n",
        "  print(f\"posición {idx}: {num}\")"
      ],
      "metadata": {
        "colab": {
          "base_uri": "https://localhost:8080/"
        },
        "id": "60Z_5TmCB8Xh",
        "outputId": "f31bfb1f-782d-4d5d-88e2-5af3f885faa4"
      },
      "execution_count": 118,
      "outputs": [
        {
          "output_type": "stream",
          "name": "stdout",
          "text": [
            "Fibonacci\n",
            "\n",
            "posición 0: 1\n",
            "posición 1: 1\n",
            "posición 2: 2\n",
            "posición 3: 3\n",
            "posición 4: 5\n",
            "posición 5: 8\n",
            "posición 6: 13\n",
            "posición 7: 21\n"
          ]
        }
      ]
    },
    {
      "cell_type": "code",
      "source": [
        "print(\"Fibonacci ^ 2\\n\")\n",
        "\n",
        "for num in fibonacci:\n",
        "  print(num * num)"
      ],
      "metadata": {
        "colab": {
          "base_uri": "https://localhost:8080/"
        },
        "id": "Yj--vkd4B-vL",
        "outputId": "90cb44e5-6f91-415d-8eae-329ffb491146"
      },
      "execution_count": 119,
      "outputs": [
        {
          "output_type": "stream",
          "name": "stdout",
          "text": [
            "Fibonacci ^ 2\n",
            "\n",
            "1\n",
            "1\n",
            "4\n",
            "9\n",
            "25\n",
            "64\n",
            "169\n",
            "441\n"
          ]
        }
      ]
    },
    {
      "cell_type": "markdown",
      "source": [
        "Podemos utilizar a função `range()` para produzir uma sequência de números e percorrê-los numa estrutura de repetição.\n",
        "\n",
        "Sintaxe: `range([init], end, [step])`\n",
        "\n",
        "Cria uma sequência de números começando em `init` (incluído) e terminando em `end` (não incluído), com o intervalo `step`. Se `init` não for especificado, por defeito é 0. Da mesma forma, se `step` não for especificado, o valor utilizado é 1."
      ],
      "metadata": {
        "id": "1cPjyg_WzpHs"
      }
    },
    {
      "cell_type": "code",
      "source": [
        "# sequência entre 0 e 9\n",
        "for num in range(10):\n",
        "    print(num)"
      ],
      "metadata": {
        "id": "3Rp1qCne0yF9",
        "colab": {
          "base_uri": "https://localhost:8080/"
        },
        "outputId": "c6a89ee5-265d-4557-d76a-e7b512ad1817"
      },
      "execution_count": 120,
      "outputs": [
        {
          "output_type": "stream",
          "name": "stdout",
          "text": [
            "0\n",
            "1\n",
            "2\n",
            "3\n",
            "4\n",
            "5\n",
            "6\n",
            "7\n",
            "8\n",
            "9\n"
          ]
        }
      ]
    },
    {
      "cell_type": "code",
      "source": [
        "# sequência entre 0 e 9 de 3 en 3\n",
        "for num in range(0, 10, 3):\n",
        "    print(num)"
      ],
      "metadata": {
        "id": "1G6DS75I1BIB",
        "colab": {
          "base_uri": "https://localhost:8080/"
        },
        "outputId": "9498fa80-e69a-4e95-cc72-64c2df436f61"
      },
      "execution_count": 121,
      "outputs": [
        {
          "output_type": "stream",
          "name": "stdout",
          "text": [
            "0\n",
            "3\n",
            "6\n",
            "9\n"
          ]
        }
      ]
    },
    {
      "cell_type": "code",
      "source": [
        "# sequência entre 10 e 1 de 2 en 2\n",
        "for num in range(10, 0, -2):\n",
        "    print(num)"
      ],
      "metadata": {
        "id": "ji8ZOYF41R1z",
        "colab": {
          "base_uri": "https://localhost:8080/"
        },
        "outputId": "c2d9f4e9-ec1f-4f44-dd6e-61724443969a"
      },
      "execution_count": 122,
      "outputs": [
        {
          "output_type": "stream",
          "name": "stdout",
          "text": [
            "10\n",
            "8\n",
            "6\n",
            "4\n",
            "2\n"
          ]
        }
      ]
    },
    {
      "cell_type": "markdown",
      "metadata": {
        "id": "piXdTwOr43Ze"
      },
      "source": [
        "### `while`\n",
        "\n",
        "Executa um bloco de código desde que uma condição seja satisfeita."
      ]
    },
    {
      "cell_type": "code",
      "metadata": {
        "id": "VZ6exCwx69ZV",
        "colab": {
          "base_uri": "https://localhost:8080/"
        },
        "outputId": "826517d3-1f05-4975-aa51-e33c3f060659"
      },
      "source": [
        "x = 0\n",
        "while x < 5:\n",
        "  print(f'{x} * 2 = {x * 2}')\n",
        "  x += 1"
      ],
      "execution_count": 123,
      "outputs": [
        {
          "output_type": "stream",
          "name": "stdout",
          "text": [
            "0 * 2 = 0\n",
            "1 * 2 = 2\n",
            "2 * 2 = 4\n",
            "3 * 2 = 6\n",
            "4 * 2 = 8\n"
          ]
        }
      ]
    },
    {
      "cell_type": "markdown",
      "metadata": {
        "id": "QkRqDInz7uzs"
      },
      "source": [
        "É possível forçar a saída mediante `break` sem satisfazer a condição."
      ]
    },
    {
      "cell_type": "code",
      "metadata": {
        "id": "pnBHdtpk74IU",
        "colab": {
          "base_uri": "https://localhost:8080/"
        },
        "outputId": "a34e6b19-18c7-4ffb-faab-297f97b253cd"
      },
      "source": [
        "x = 29\n",
        "while x > 0:\n",
        "  print(f\"x = {x}\")\n",
        "  if x % 5 == 0:\n",
        "    break\n",
        "  x -= 1"
      ],
      "execution_count": 124,
      "outputs": [
        {
          "output_type": "stream",
          "name": "stdout",
          "text": [
            "x = 29\n",
            "x = 28\n",
            "x = 27\n",
            "x = 26\n",
            "x = 25\n"
          ]
        }
      ]
    },
    {
      "cell_type": "markdown",
      "metadata": {
        "id": "taXuzbyAB8C_"
      },
      "source": [
        "Quando há estruturas aninhadas, o comando `break` sai da estrutura em que está, não de todas elas."
      ]
    },
    {
      "cell_type": "code",
      "source": [
        "x = 5\n",
        "while x > 0:\n",
        "  for y in [1, 4, 9]:\n",
        "    print(f\"x: {x}    y: {y}\")\n",
        "  if x % 2 == 0:\n",
        "    break\n",
        "  x -= 1"
      ],
      "metadata": {
        "colab": {
          "base_uri": "https://localhost:8080/"
        },
        "id": "80Lwy105G7ak",
        "outputId": "2989279a-5573-46dd-d615-fcbe9da13aa6"
      },
      "execution_count": 138,
      "outputs": [
        {
          "output_type": "stream",
          "name": "stdout",
          "text": [
            "x: 5    y: 1\n",
            "x: 5    y: 4\n",
            "x: 5    y: 9\n",
            "x: 4    y: 1\n",
            "x: 4    y: 4\n",
            "x: 4    y: 9\n"
          ]
        }
      ]
    },
    {
      "cell_type": "code",
      "metadata": {
        "id": "wkqBa1uIB5fL",
        "colab": {
          "base_uri": "https://localhost:8080/"
        },
        "outputId": "0160f40c-8aa7-4669-ec11-b7ac9815dc98"
      },
      "source": [
        "x = 380\n",
        "primes = [1]\n",
        "while x > 1:\n",
        "  for n in range(2, x + 1):\n",
        "    if x % n == 0:\n",
        "      primes.append(n)\n",
        "      x //= n\n",
        "      break\n",
        "\n",
        "print(primes)"
      ],
      "execution_count": 139,
      "outputs": [
        {
          "output_type": "stream",
          "name": "stdout",
          "text": [
            "[1, 2, 2, 5, 19]\n"
          ]
        }
      ]
    },
    {
      "cell_type": "markdown",
      "metadata": {
        "id": "7K185tZBCbJt"
      },
      "source": [
        "Utilizando `continue` podemos interromper a execução do código em um ponto e fazer com que ele passe para a próxima iteração."
      ]
    },
    {
      "cell_type": "code",
      "metadata": {
        "id": "E_5-mNur92wa",
        "colab": {
          "base_uri": "https://localhost:8080/"
        },
        "outputId": "768e4262-6b64-4964-eb11-bbcd44995f5d"
      },
      "source": [
        "x = 19\n",
        "while x > 0:\n",
        "  if x % 2 == 0:\n",
        "    x -= 1\n",
        "    continue\n",
        "\n",
        "  print(f\"Número ímpar {x}\")\n",
        "  x -= 1"
      ],
      "execution_count": 142,
      "outputs": [
        {
          "output_type": "stream",
          "name": "stdout",
          "text": [
            "Número ímpar 19\n",
            "Número ímpar 17\n",
            "Número ímpar 15\n",
            "Número ímpar 13\n",
            "Número ímpar 11\n",
            "Número ímpar 9\n",
            "Número ímpar 7\n",
            "Número ímpar 5\n",
            "Número ímpar 3\n",
            "Número ímpar 1\n"
          ]
        }
      ]
    },
    {
      "cell_type": "markdown",
      "metadata": {
        "id": "3sPNvrFSGBYE"
      },
      "source": [
        "# Funções\n",
        "\n",
        "Permitem criar blocos de código que podem ser executados muitas vezes no programa. A sintaxe típica é:\n",
        "\n",
        "```\n",
        "def nome (arg1, arg2, argN):\n",
        "   código\n",
        "   código\n",
        "\n",
        "   return valor\n",
        "```\n",
        "\n",
        "Se nenhum valor de retorno for especificado, as funções retornam `None`."
      ]
    },
    {
      "cell_type": "code",
      "metadata": {
        "id": "HYUr2gv0tlBE",
        "colab": {
          "base_uri": "https://localhost:8080/"
        },
        "outputId": "0c3651cc-5354-412f-ce0a-f1f2b96701da"
      },
      "source": [
        "def factors(x):\n",
        "  factors = [1]\n",
        "  while x > 1:\n",
        "    for n in range(2, x + 1):\n",
        "      if x % n == 0:\n",
        "        factors.append(n)\n",
        "        x //= n\n",
        "        break\n",
        "  return factors\n",
        "\n",
        "\n",
        "n1 = 380\n",
        "n2 = 96\n",
        "\n",
        "factors1 = factors(n1)\n",
        "factors2 = factors(n2)\n",
        "\n",
        "print(f'Fatores primos de {n1}: {factors1}')\n",
        "print(f'Fatores primos de {n2}: {factors2}')"
      ],
      "execution_count": 143,
      "outputs": [
        {
          "output_type": "stream",
          "name": "stdout",
          "text": [
            "Fatores primos de 380: [1, 2, 2, 5, 19]\n",
            "Fatores primos de 96: [1, 2, 2, 2, 2, 2, 3]\n"
          ]
        }
      ]
    },
    {
      "cell_type": "markdown",
      "metadata": {
        "id": "QRpYYMBhy7Gr"
      },
      "source": [
        "## Âmbito das variáveis\n",
        "\n",
        "As variáveis declaradas dentro de uma função são locais e só podem ser acedidas desde essa função. Variáveis declaradas fora de funções pertencem ao escopo global e são visíveis de qualquer parte do código. No entanto, para que seja possível trabalhar com elas (por exemplo, modificá-las), devem ser declaradas como globais com `global`."
      ]
    },
    {
      "cell_type": "code",
      "metadata": {
        "id": "dQ9xDK0GwGHd",
        "colab": {
          "base_uri": "https://localhost:8080/"
        },
        "outputId": "6f7a2e1c-b07d-42a0-f9bd-dda0ea4c7121"
      },
      "source": [
        "def func():\n",
        "  a = 10\n",
        "  global b\n",
        "  print(f'(dentro func 1) a: {a}, b: {b}, c: {c}')\n",
        "\n",
        "  a += 20\n",
        "  b -= 150\n",
        "  print(f'(dentro func 2) a: {a}, b: {b}, c: {c}')\n",
        "\n",
        "\n",
        "a = 100\n",
        "b = 200\n",
        "c = 300\n",
        "\n",
        "print(f'(fora func 1) a: {a}, b: {b}, c: {c}')\n",
        "func()\n",
        "print(f'(fora func 2) a: {a}, b: {b}, c: {c}')"
      ],
      "execution_count": 145,
      "outputs": [
        {
          "output_type": "stream",
          "name": "stdout",
          "text": [
            "(fora func 1) a: 100, b: 200, c: 300\n",
            "(dentro func 1) a: 10, b: 200, c: 300\n",
            "(dentro func 2) a: 30, b: 50, c: 300\n",
            "(fora func 2) a: 100, b: 50, c: 300\n"
          ]
        }
      ]
    },
    {
      "cell_type": "markdown",
      "metadata": {
        "id": "R-0Uc7PPfLoz"
      },
      "source": [
        "# Métodos\n",
        "\n",
        "São como as funções, mas são sempre aplicadas a um objeto utilizando o operador de ponto (`.`).\n",
        "\n",
        "```\n",
        "objeto.metodo(arg1, arg2, argN)\n",
        "```\n",
        "\n",
        "As funções partilham com as funções o facto de poderem receber diferentes argumentos e de devolverem sempre pelo menos um valor (que por defeito será `None`).\n",
        "\n",
        "Ao contrário das funções, só podemos definir os nossos próprios métodos dentro das classes.\n",
        "\n",
        "Como os métodos estão necessariamente ligados a um objeto, podem ser classificados de acordo com o tipo de objeto.\n",
        "\n",
        "\n"
      ]
    },
    {
      "cell_type": "markdown",
      "metadata": {
        "id": "RcCfsn_muSPC"
      },
      "source": [
        "## `String`\n",
        "\n",
        "Alguns dos métodos mais importantes do tipo de objeto `String`:\n",
        "\n"
      ]
    },
    {
      "cell_type": "markdown",
      "metadata": {
        "id": "6rOy8UTYuWvS"
      },
      "source": [
        "### `split()`\n",
        "\n",
        "Sintaxe: `str.split([sep], [maxsplits])`\n",
        "\n",
        "Devolve a lista de itens resultante da separação da cadeia `str` utilizando o separador `sep`."
      ]
    },
    {
      "cell_type": "code",
      "metadata": {
        "id": "96yBJwGJnwpw",
        "colab": {
          "base_uri": "https://localhost:8080/"
        },
        "outputId": "3c4d062c-9b4b-4fcb-d936-f5385d186226"
      },
      "source": [
        "sample = \"135,9,6\"\n",
        "sample.split(\",\")"
      ],
      "execution_count": 146,
      "outputs": [
        {
          "output_type": "execute_result",
          "data": {
            "text/plain": [
              "['135', '9', '6']"
            ]
          },
          "metadata": {},
          "execution_count": 146
        }
      ]
    },
    {
      "cell_type": "markdown",
      "metadata": {
        "id": "3KyW_WzgxC5f"
      },
      "source": [
        "Se não for especificado `sep`, utiliza o espaço em branco por defeito."
      ]
    },
    {
      "cell_type": "code",
      "metadata": {
        "id": "lWeQdccqxG0X",
        "colab": {
          "base_uri": "https://localhost:8080/"
        },
        "outputId": "24bccbbc-b9f4-4e4f-d16f-096287314734"
      },
      "source": [
        "sample = \"Devolve a lista de elementos resultante de separar um texto com o separador por defeito.\"\n",
        "sample.split()"
      ],
      "execution_count": 149,
      "outputs": [
        {
          "output_type": "execute_result",
          "data": {
            "text/plain": [
              "['Devolve',\n",
              " 'a',\n",
              " 'lista',\n",
              " 'de',\n",
              " 'elementos',\n",
              " 'resultante',\n",
              " 'de',\n",
              " 'separar',\n",
              " 'um',\n",
              " 'texto',\n",
              " 'com',\n",
              " 'o',\n",
              " 'separador',\n",
              " 'por',\n",
              " 'defeito.']"
            ]
          },
          "metadata": {},
          "execution_count": 149
        }
      ]
    },
    {
      "cell_type": "markdown",
      "metadata": {
        "id": "PsHxO9mj1Iw_"
      },
      "source": [
        "\\Se quisermos mudar a ordem natural dos argumentos do método ou da função, ou omitir algum, nesse caso devemos fazer explícito o nome do argumento."
      ]
    },
    {
      "cell_type": "code",
      "metadata": {
        "id": "Pv4SRTj_zqZB"
      },
      "source": [
        "sample.split(maxsplit=5)"
      ],
      "execution_count": null,
      "outputs": []
    },
    {
      "cell_type": "code",
      "metadata": {
        "id": "WMJo1_2Z4Tvf",
        "colab": {
          "base_uri": "https://localhost:8080/"
        },
        "outputId": "2f286fb4-f12e-4e83-c848-96c57b589326"
      },
      "source": [
        "sample = \"superfície,ocupar;32;6.49363310277496\"\n",
        "sample.split(maxsplit=1, sep=\";\")"
      ],
      "execution_count": 150,
      "outputs": [
        {
          "output_type": "execute_result",
          "data": {
            "text/plain": [
              "['superfície,ocupar', '32;6.49363310277496']"
            ]
          },
          "metadata": {},
          "execution_count": 150
        }
      ]
    },
    {
      "cell_type": "markdown",
      "metadata": {
        "id": "tNAPssR_zpMm"
      },
      "source": [
        "Esta última sería equivalente a:"
      ]
    },
    {
      "cell_type": "code",
      "metadata": {
        "id": "6DOtQ47E4q6w",
        "colab": {
          "base_uri": "https://localhost:8080/"
        },
        "outputId": "f81c9fc5-b801-43cc-fc3e-071e48fdd994"
      },
      "source": [
        "sample.split(\";\", 1)"
      ],
      "execution_count": 151,
      "outputs": [
        {
          "output_type": "execute_result",
          "data": {
            "text/plain": [
              "['superfície,ocupar', '32;6.49363310277496']"
            ]
          },
          "metadata": {},
          "execution_count": 151
        }
      ]
    },
    {
      "cell_type": "markdown",
      "metadata": {
        "id": "WYix0DcK5DWo"
      },
      "source": [
        "### `lower()`, `upper()`, `swapcase()`, `capitalize()`, `title()`\n",
        "\n",
        "Mudam para maiúsculas ou minúsculas conforme o método utilizado, devolvendo a cadeia modificada. Não aceitam nenhum argumento."
      ]
    },
    {
      "cell_type": "code",
      "metadata": {
        "id": "AU_OrUQo5T04",
        "colab": {
          "base_uri": "https://localhost:8080/"
        },
        "outputId": "9a4d7d03-79b0-4d67-95cf-e79703427123"
      },
      "source": [
        "sample = \"Lorem ipsum dolor sit amet\"\n",
        "print(\"upper(): \", sample.upper())\n",
        "print(\"lower(): \", sample.lower())\n",
        "print(\"swapcase(): \", sample.swapcase())"
      ],
      "execution_count": 152,
      "outputs": [
        {
          "output_type": "stream",
          "name": "stdout",
          "text": [
            "upper():  LOREM IPSUM DOLOR SIT AMET\n",
            "lower():  lorem ipsum dolor sit amet\n",
            "swapcase():  lOREM IPSUM DOLOR SIT AMET\n"
          ]
        }
      ]
    },
    {
      "cell_type": "code",
      "metadata": {
        "id": "AoMFioa06oFR",
        "colab": {
          "base_uri": "https://localhost:8080/"
        },
        "outputId": "3684d531-8eb1-44c5-c732-114008281f4f"
      },
      "source": [
        "sample = \"um método é diferente de uma função.\"\n",
        "print(\"capitalize(): \", sample.capitalize())\n",
        "print(\"title(): \", sample.title())"
      ],
      "execution_count": 153,
      "outputs": [
        {
          "output_type": "stream",
          "name": "stdout",
          "text": [
            "capitalize():  Um método é diferente de uma função.\n",
            "title():  Um Método É Diferente De Uma Função.\n"
          ]
        }
      ]
    },
    {
      "cell_type": "markdown",
      "metadata": {
        "id": "oZb16s5pJz-F"
      },
      "source": [
        "### `islower()`, `isupper()`, `istitle()`\n",
        "\n",
        "Alguns dos métodos acima têm o correlato para saber se uma cadeia de caracteres é maiúscula, minúscula ou um título.\n",
        "\n"
      ]
    },
    {
      "cell_type": "code",
      "source": [
        "\"A\".isupper()"
      ],
      "metadata": {
        "colab": {
          "base_uri": "https://localhost:8080/"
        },
        "id": "wu6Qt0_5UECC",
        "outputId": "6f92452d-0a5e-4f4c-910d-6b5f9b32facd"
      },
      "execution_count": 173,
      "outputs": [
        {
          "output_type": "execute_result",
          "data": {
            "text/plain": [
              "True"
            ]
          },
          "metadata": {},
          "execution_count": 173
        }
      ]
    },
    {
      "cell_type": "markdown",
      "source": [
        "Para além disso, os métodos podem geralmente ser concatenados numa única expressão. A expressão resultante deve ser lida de esquerda a direita."
      ],
      "metadata": {
        "id": "piE2XyupUH3W"
      }
    },
    {
      "cell_type": "code",
      "metadata": {
        "id": "q0H5e9nlMaNy",
        "colab": {
          "base_uri": "https://localhost:8080/"
        },
        "outputId": "050fe874-90dc-49c1-933f-34a97ae15a91"
      },
      "source": [
        "sample.upper().isupper()      # é possível combinar mais do que um método na mesma expressão"
      ],
      "execution_count": 174,
      "outputs": [
        {
          "output_type": "execute_result",
          "data": {
            "text/plain": [
              "True"
            ]
          },
          "metadata": {},
          "execution_count": 174
        }
      ]
    },
    {
      "cell_type": "code",
      "metadata": {
        "id": "1DSpSyxkM13U",
        "colab": {
          "base_uri": "https://localhost:8080/"
        },
        "outputId": "7d602bfd-d3b6-4910-b7b8-e7866589c1c1"
      },
      "source": [
        "sample.lower().isupper()"
      ],
      "execution_count": 175,
      "outputs": [
        {
          "output_type": "execute_result",
          "data": {
            "text/plain": [
              "False"
            ]
          },
          "metadata": {},
          "execution_count": 175
        }
      ]
    },
    {
      "cell_type": "markdown",
      "metadata": {
        "id": "SmI6aY3l833U"
      },
      "source": [
        "### `join()`\n",
        "\n",
        "Permite unir os elementos de um iterável, devolvendo uma cadeia com o resultado.\n",
        "\n",
        "Sintaxe: `str.join(iterable)`"
      ]
    },
    {
      "cell_type": "code",
      "metadata": {
        "id": "QXONEmm09S1t",
        "colab": {
          "base_uri": "https://localhost:8080/",
          "height": 56
        },
        "outputId": "eee9dce9-66d2-4407-f4ef-aa4fef12d887"
      },
      "source": [
        "lista = \"Devolve a lista de ítens resultante\".split()\n",
        "print(lista)\n",
        "\";;\".join(lista)"
      ],
      "execution_count": 157,
      "outputs": [
        {
          "output_type": "stream",
          "name": "stdout",
          "text": [
            "['Devolve', 'a', 'lista', 'de', 'ítens', 'resultante']\n"
          ]
        },
        {
          "output_type": "execute_result",
          "data": {
            "text/plain": [
              "'Devolve;;a;;lista;;de;;ítens;;resultante'"
            ],
            "application/vnd.google.colaboratory.intrinsic+json": {
              "type": "string"
            }
          },
          "metadata": {},
          "execution_count": 157
        }
      ]
    },
    {
      "cell_type": "markdown",
      "metadata": {
        "id": "6mg_WIPN9vov"
      },
      "source": [
        "### `strip()`, `lstrip()`, `rstrip()`\n",
        "\n",
        "Permitem eliminar espaços em branco nos extremos (direito, esquerdo ou ambos) de uma cadeia. São muito úteis para limpar um dataset quando foi produzido manualmente."
      ]
    },
    {
      "cell_type": "code",
      "metadata": {
        "id": "S2zdkzZd-jWn",
        "colab": {
          "base_uri": "https://localhost:8080/",
          "height": 38
        },
        "outputId": "0b98515d-dc2d-4b3f-b944-d7a91998b377"
      },
      "source": [
        "sample = 'fazer,ler,devolver     '\n",
        "sample.rstrip()\n"
      ],
      "execution_count": 158,
      "outputs": [
        {
          "output_type": "execute_result",
          "data": {
            "text/plain": [
              "'fazer,ler,devolver'"
            ],
            "application/vnd.google.colaboratory.intrinsic+json": {
              "type": "string"
            }
          },
          "metadata": {},
          "execution_count": 158
        }
      ]
    },
    {
      "cell_type": "markdown",
      "metadata": {
        "id": "nX3Cni8h_Gm3"
      },
      "source": [
        "Também podemos especificar os caracteres que queremos eliminar."
      ]
    },
    {
      "cell_type": "code",
      "metadata": {
        "id": "gGd4Xm8t_Lv_",
        "colab": {
          "base_uri": "https://localhost:8080/",
          "height": 38
        },
        "outputId": "d810f854-c622-48ff-c985-0b06d3b192e7"
      },
      "source": [
        "sample = \",fazer,\"\n",
        "sample.strip(\",\")"
      ],
      "execution_count": 172,
      "outputs": [
        {
          "output_type": "execute_result",
          "data": {
            "text/plain": [
              "'fazer'"
            ],
            "application/vnd.google.colaboratory.intrinsic+json": {
              "type": "string"
            }
          },
          "metadata": {},
          "execution_count": 172
        }
      ]
    },
    {
      "cell_type": "markdown",
      "metadata": {
        "id": "PdGn4n2hHnCe"
      },
      "source": [
        "### `startswith()`, `endswith()`\n",
        "\n",
        "Devolvem um booleano indicando se uma cadeia começa ou termina de uma determinada maneira.\n",
        "\n",
        "Sintaxe: str.startswith(str)"
      ]
    },
    {
      "cell_type": "code",
      "metadata": {
        "id": "x5f8UiUYHlr9",
        "colab": {
          "base_uri": "https://localhost:8080/"
        },
        "outputId": "0ed9990f-e600-4831-d715-5a864366f35d"
      },
      "source": [
        "sample = \"Lore ipsum.\"\n",
        "sample.startswith('lore')"
      ],
      "execution_count": 177,
      "outputs": [
        {
          "output_type": "execute_result",
          "data": {
            "text/plain": [
              "False"
            ]
          },
          "metadata": {},
          "execution_count": 177
        }
      ]
    },
    {
      "cell_type": "code",
      "metadata": {
        "id": "LZK_-9jDIOOy",
        "colab": {
          "base_uri": "https://localhost:8080/"
        },
        "outputId": "9989b119-b446-4f15-dcac-4aa40ce4fb96"
      },
      "source": [
        "sample.endswith('.')"
      ],
      "execution_count": 178,
      "outputs": [
        {
          "output_type": "execute_result",
          "data": {
            "text/plain": [
              "True"
            ]
          },
          "metadata": {},
          "execution_count": 178
        }
      ]
    },
    {
      "cell_type": "markdown",
      "metadata": {
        "id": "bLlT7oYFaycX"
      },
      "source": [
        "### `find()`, `index()`\n",
        "\n",
        "Estes métodos permitem localizar cadeias dentro de outras. A diferença entre eles está principalmente no facto de que `find()` devolve `-1` se não encontrar o que procura, enquanto `index()` gera uma exceção. No caso de encontrar a cadeia procurada, ambos métodos devolvem a posição do primeiro carácter.\n",
        "\n",
        "Sintaxe:    \n",
        "> `str.find(string)`   \n",
        "> `str.index(string)`    "
      ]
    },
    {
      "cell_type": "code",
      "metadata": {
        "id": "ItyDXpPMbNzs",
        "colab": {
          "base_uri": "https://localhost:8080/",
          "height": 182
        },
        "outputId": "e0678de3-89a6-4bc2-8677-c152daf26ae6"
      },
      "source": [
        "print(sample)\n",
        "sample.index(\"método\")"
      ],
      "execution_count": 179,
      "outputs": [
        {
          "output_type": "stream",
          "name": "stdout",
          "text": [
            "Lore ipsum.\n"
          ]
        },
        {
          "output_type": "error",
          "ename": "ValueError",
          "evalue": "substring not found",
          "traceback": [
            "\u001b[0;31m---------------------------------------------------------------------------\u001b[0m",
            "\u001b[0;31mValueError\u001b[0m                                Traceback (most recent call last)",
            "\u001b[0;32m<ipython-input-179-67d8210a534c>\u001b[0m in \u001b[0;36m<cell line: 2>\u001b[0;34m()\u001b[0m\n\u001b[1;32m      1\u001b[0m \u001b[0mprint\u001b[0m\u001b[0;34m(\u001b[0m\u001b[0msample\u001b[0m\u001b[0;34m)\u001b[0m\u001b[0;34m\u001b[0m\u001b[0;34m\u001b[0m\u001b[0m\n\u001b[0;32m----> 2\u001b[0;31m \u001b[0msample\u001b[0m\u001b[0;34m.\u001b[0m\u001b[0mindex\u001b[0m\u001b[0;34m(\u001b[0m\u001b[0;34m\"método\"\u001b[0m\u001b[0;34m)\u001b[0m\u001b[0;34m\u001b[0m\u001b[0;34m\u001b[0m\u001b[0m\n\u001b[0m",
            "\u001b[0;31mValueError\u001b[0m: substring not found"
          ]
        }
      ]
    },
    {
      "cell_type": "code",
      "metadata": {
        "id": "A3LLHyHsbcfO",
        "colab": {
          "base_uri": "https://localhost:8080/"
        },
        "outputId": "e2ee4f3b-91e6-490e-b724-bf605e4fc98e"
      },
      "source": [
        "try:\n",
        "    pos = sample.index(\"método\")\n",
        "except ValueError:\n",
        "    pos = None\n",
        "    print(\"Não foi encontrada a cadeia procurada, e index() provoca uma exceção do tipo ValueError.\")"
      ],
      "execution_count": 181,
      "outputs": [
        {
          "output_type": "stream",
          "name": "stdout",
          "text": [
            "Não foi encontrada a cadeia procurada, e index() provoca uma exceção do tipo ValueError.\n"
          ]
        }
      ]
    },
    {
      "cell_type": "code",
      "metadata": {
        "id": "mVwS6DBPcQeE",
        "colab": {
          "base_uri": "https://localhost:8080/"
        },
        "outputId": "3e181dfd-c4e3-4528-f638-4cbdf6947fae"
      },
      "source": [
        "sample.find(\"método\")"
      ],
      "execution_count": 182,
      "outputs": [
        {
          "output_type": "execute_result",
          "data": {
            "text/plain": [
              "-1"
            ]
          },
          "metadata": {},
          "execution_count": 182
        }
      ]
    },
    {
      "cell_type": "code",
      "metadata": {
        "id": "Vi6FuuZFcU-d",
        "colab": {
          "base_uri": "https://localhost:8080/"
        },
        "outputId": "51c12f44-09ec-4252-cda0-83dc6ccd5179"
      },
      "source": [
        "sample.index(\"ipsum\")"
      ],
      "execution_count": 183,
      "outputs": [
        {
          "output_type": "execute_result",
          "data": {
            "text/plain": [
              "5"
            ]
          },
          "metadata": {},
          "execution_count": 183
        }
      ]
    },
    {
      "cell_type": "code",
      "source": [
        "sample.find(\"ipsum\")"
      ],
      "metadata": {
        "colab": {
          "base_uri": "https://localhost:8080/"
        },
        "id": "g45fwq6nVQ5w",
        "outputId": "5ac46b2b-1d63-43bc-cf78-63e6c0bf96ef"
      },
      "execution_count": 185,
      "outputs": [
        {
          "output_type": "execute_result",
          "data": {
            "text/plain": [
              "5"
            ]
          },
          "metadata": {},
          "execution_count": 185
        }
      ]
    },
    {
      "cell_type": "markdown",
      "metadata": {
        "id": "hFiO-f2FeQBz"
      },
      "source": [
        "### `replace()`\n",
        "\n",
        "Permite substituir uma sequência de caracteres por outra dentro de uma cadeia. Se especificarmos um terceiro argumento, a substituição será feita apenas `count` vezes.\n",
        "\n",
        "Sintaxe\n",
        "\n",
        "> `str.replace(old, new[, count])`"
      ]
    },
    {
      "cell_type": "code",
      "metadata": {
        "id": "J9tUpPuaetR6",
        "colab": {
          "base_uri": "https://localhost:8080/",
          "height": 38
        },
        "outputId": "526b287a-bb7d-4640-af8d-2339459920dd"
      },
      "source": [
        "sample = \"Isto é uma prova, é um teste.\"\n",
        "sample.replace('um', 'UM')"
      ],
      "execution_count": 168,
      "outputs": [
        {
          "output_type": "execute_result",
          "data": {
            "text/plain": [
              "'Isto é UMa prova, é UM teste.'"
            ],
            "application/vnd.google.colaboratory.intrinsic+json": {
              "type": "string"
            }
          },
          "metadata": {},
          "execution_count": 168
        }
      ]
    },
    {
      "cell_type": "code",
      "metadata": {
        "id": "o6ZVl_oPfq5b",
        "colab": {
          "base_uri": "https://localhost:8080/",
          "height": 38
        },
        "outputId": "c0210382-15ff-41dc-e16b-d5ce05e4aa0c"
      },
      "source": [
        "sample.replace('é', 'e', 1)"
      ],
      "execution_count": 169,
      "outputs": [
        {
          "output_type": "execute_result",
          "data": {
            "text/plain": [
              "'Isto e uma prova, é um teste.'"
            ],
            "application/vnd.google.colaboratory.intrinsic+json": {
              "type": "string"
            }
          },
          "metadata": {},
          "execution_count": 169
        }
      ]
    },
    {
      "cell_type": "markdown",
      "metadata": {
        "id": "xPqDgCeage44"
      },
      "source": [
        "### `count()`\n",
        "\n",
        "Devolve o número de vezes que uma sequência de caracteres aparece dentro de uma cadeia.\n",
        "\n",
        "Sintaxe:\n",
        "\n",
        "> str.count(substring)"
      ]
    },
    {
      "cell_type": "code",
      "metadata": {
        "id": "G5PZzM_6gfef",
        "colab": {
          "base_uri": "https://localhost:8080/"
        },
        "outputId": "ef8bda0c-5f76-465b-aa43-623542007fb3"
      },
      "source": [
        "sample.count('um')"
      ],
      "execution_count": 170,
      "outputs": [
        {
          "output_type": "execute_result",
          "data": {
            "text/plain": [
              "2"
            ]
          },
          "metadata": {},
          "execution_count": 170
        }
      ]
    },
    {
      "cell_type": "markdown",
      "source": [
        "## `List`\n",
        "\n",
        "Alguns dos métodos mais importantes do tipo de objeto List:\n"
      ],
      "metadata": {
        "id": "jAD1RwUzu8CT"
      }
    },
    {
      "cell_type": "markdown",
      "source": [
        "### `sort()`\n",
        "\n",
        "Sintaxe: `list.sort([key=func()], [reverse=True|False])`\n",
        "\n",
        "Ordena (*in-place*) uma lista alfabeticamente de menor a maior, sendo possível obter a ordem descendente usando `reverse=True`. Com `key`, é possível especificar uma função de ordenação de um argumento que é utilizada para obter uma chave de comparação para cada elemento da lista."
      ],
      "metadata": {
        "id": "zldJR68mvBG2"
      }
    },
    {
      "cell_type": "code",
      "source": [
        "# Ordem ascendente\n",
        "cores = ['laranja', 'preto', 'verde', 'azul', 'branco', 'amarelo']\n",
        "cores.sort()\n",
        "\n",
        "print(cores)"
      ],
      "metadata": {
        "colab": {
          "base_uri": "https://localhost:8080/"
        },
        "id": "Q1k__Ey_ySdE",
        "outputId": "cbb7c2b8-dc4e-4c5b-b22f-f877b0653f46"
      },
      "execution_count": 186,
      "outputs": [
        {
          "output_type": "stream",
          "name": "stdout",
          "text": [
            "['amarelo', 'azul', 'branco', 'laranja', 'preto', 'verde']\n"
          ]
        }
      ]
    },
    {
      "cell_type": "markdown",
      "source": [
        "Ordem descendente."
      ],
      "metadata": {
        "id": "HUoQYmcBxLU_"
      }
    },
    {
      "cell_type": "code",
      "source": [
        "# Ordem descendente\n",
        "cores = ['laranja', 'preto', 'verde', 'azul', 'branco', 'amarelo']\n",
        "cores.sort(reverse=True)\n",
        "\n",
        "print(cores)"
      ],
      "metadata": {
        "colab": {
          "base_uri": "https://localhost:8080/"
        },
        "id": "-WVOGjOpy4OD",
        "outputId": "e2ca87ee-70b5-4231-c10b-a1e12f310ae4"
      },
      "execution_count": 188,
      "outputs": [
        {
          "output_type": "stream",
          "name": "stdout",
          "text": [
            "['verde', 'preto', 'laranja', 'branco', 'azul', 'amarelo']\n"
          ]
        }
      ]
    },
    {
      "cell_type": "markdown",
      "source": [
        "**Ollo:**"
      ],
      "metadata": {
        "id": "8ltzdz2FwpOv"
      }
    },
    {
      "cell_type": "code",
      "source": [
        "cores = ['laranja', 'preto', 'verde', 'Azul', 'branco', 'amarelo']\n",
        "cores.sort()\n",
        "\n",
        "print(cores)"
      ],
      "metadata": {
        "colab": {
          "base_uri": "https://localhost:8080/"
        },
        "id": "bCaWT4J7w8QK",
        "outputId": "56585c95-154c-490c-8f44-2888f5e47897"
      },
      "execution_count": 189,
      "outputs": [
        {
          "output_type": "stream",
          "name": "stdout",
          "text": [
            "['Azul', 'amarelo', 'branco', 'laranja', 'preto', 'verde']\n"
          ]
        }
      ]
    },
    {
      "cell_type": "markdown",
      "source": [
        "Porque é que a ordem muda neste caso?\n",
        "\n",
        "> https://www.ascii-code.com/  \n",
        "> https://en.wikipedia.org/wiki/Basic_Latin_(Unicode_block)  \n",
        "> https://docs.python.org/3/library/stdtypes.html#list.sort\n",
        "\n",
        "Pode ser resolvido utilizando uma função de ordenação que normalize.\n"
      ],
      "metadata": {
        "id": "Zd_68MH_xYbj"
      }
    },
    {
      "cell_type": "code",
      "source": [
        "def normalize(s):\n",
        "  return s.lower()\n",
        "\n",
        "cores = ['laranxa', 'negro', 'verde', 'Azul', 'branco', 'amarelo']\n",
        "cores.sort(key=normalize)\n",
        "\n",
        "print(cores)"
      ],
      "metadata": {
        "colab": {
          "base_uri": "https://localhost:8080/"
        },
        "id": "dYXdyVgW3Zsr",
        "outputId": "2f203425-933e-4398-ee06-9f6b2078a0dd"
      },
      "execution_count": 190,
      "outputs": [
        {
          "output_type": "stream",
          "name": "stdout",
          "text": [
            "['amarelo', 'Azul', 'branco', 'laranxa', 'negro', 'verde']\n"
          ]
        }
      ]
    },
    {
      "cell_type": "markdown",
      "source": [
        "Outros exemplos de utilização:"
      ],
      "metadata": {
        "id": "d5AYeSLR9C9j"
      }
    },
    {
      "cell_type": "code",
      "source": [
        "# Ordem ascendente por tamanho do elemento (utilizando função básica)\n",
        "cores = ['laranja', 'preto', 'verde', 'azul', 'branco', 'amarelo']\n",
        "cores.sort(key=len)\n",
        "\n",
        "print(cores)"
      ],
      "metadata": {
        "colab": {
          "base_uri": "https://localhost:8080/"
        },
        "id": "9f93KRxAzAIO",
        "outputId": "bec8ee4f-725f-4dd2-cd31-d87c53ea0022"
      },
      "execution_count": 191,
      "outputs": [
        {
          "output_type": "stream",
          "name": "stdout",
          "text": [
            "['azul', 'preto', 'verde', 'branco', 'laranja', 'amarelo']\n"
          ]
        }
      ]
    },
    {
      "cell_type": "code",
      "source": [
        "# Ordem alfabética descendente começando pelo final do item (usando função definida).\n",
        "def rev(s):\n",
        "  return s[::-1].lower()\n",
        "\n",
        "cores = ['laranja', 'preto', 'verde', 'azul', 'branco', 'AMARELO']\n",
        "\n",
        "cores.sort(key=rev, reverse=True)\n",
        "\n",
        "print(cores)"
      ],
      "metadata": {
        "colab": {
          "base_uri": "https://localhost:8080/"
        },
        "id": "YokcojNwzcc5",
        "outputId": "3d314860-bad6-44b8-cebf-465e69b12a8f"
      },
      "execution_count": 195,
      "outputs": [
        {
          "output_type": "stream",
          "name": "stdout",
          "text": [
            "['preto', 'AMARELO', 'branco', 'azul', 'verde', 'laranja']\n"
          ]
        }
      ]
    },
    {
      "cell_type": "markdown",
      "source": [
        "### `count(item)`\n",
        "\n",
        "Devolve a quantidade de vezes que `item` aparece na lista."
      ],
      "metadata": {
        "id": "ObR4GlD49Xf4"
      }
    },
    {
      "cell_type": "code",
      "source": [
        "cores = ['laranja', 'preto', 'verde', 'azul', 'branco', 'verde', 'amarelo']\n",
        "\n",
        "cores.count('verde')"
      ],
      "metadata": {
        "colab": {
          "base_uri": "https://localhost:8080/"
        },
        "id": "rdJRwMai9r9F",
        "outputId": "e491946c-8182-476a-eb2c-84dd0b799479"
      },
      "execution_count": 196,
      "outputs": [
        {
          "output_type": "execute_result",
          "data": {
            "text/plain": [
              "2"
            ]
          },
          "metadata": {},
          "execution_count": 196
        }
      ]
    },
    {
      "cell_type": "markdown",
      "source": [
        "### `clear()`\n",
        "\n",
        "Elimina todos os elementos da lista."
      ],
      "metadata": {
        "id": "C6x4-2mP-K3w"
      }
    },
    {
      "cell_type": "code",
      "source": [
        "print(\"Antes:\", cores)\n",
        "\n",
        "cores.clear()\n",
        "\n",
        "print(\"Depois:\", cores)"
      ],
      "metadata": {
        "colab": {
          "base_uri": "https://localhost:8080/"
        },
        "id": "0ZCGpR0z-UOh",
        "outputId": "26edaedf-ee29-4df4-c0bb-ca45e3320b0c"
      },
      "execution_count": 197,
      "outputs": [
        {
          "output_type": "stream",
          "name": "stdout",
          "text": [
            "Antes: ['laranja', 'preto', 'verde', 'azul', 'branco', 'verde', 'amarelo']\n",
            "Depois: []\n"
          ]
        }
      ]
    },
    {
      "cell_type": "markdown",
      "source": [
        "### `reverse()`\n",
        "\n",
        "Inverte a ordem dos elementos numa lista."
      ],
      "metadata": {
        "id": "sNLNnRpXACbe"
      }
    },
    {
      "cell_type": "code",
      "source": [
        "cores = ['preto', 'amarelo', 'branco', 'azul', 'verde', 'laranja']\n",
        "\n",
        "cores.reverse()\n",
        "\n",
        "cores"
      ],
      "metadata": {
        "colab": {
          "base_uri": "https://localhost:8080/"
        },
        "id": "pbbXB55GAK1s",
        "outputId": "53e7cc83-16ea-47d2-a481-6c7e8e61fb18"
      },
      "execution_count": 198,
      "outputs": [
        {
          "output_type": "execute_result",
          "data": {
            "text/plain": [
              "['laranja', 'verde', 'azul', 'branco', 'amarelo', 'preto']"
            ]
          },
          "metadata": {},
          "execution_count": 198
        }
      ]
    },
    {
      "cell_type": "markdown",
      "source": [
        "### `index()`\n",
        "\n",
        "Sintaxe: `list.index(x, [start, end])`\n",
        "\n",
        "Retorna o índice onde se encontra o primeiro elemento `x` da lista, começando em `start` e finalizando em `end` (por defeito, toda a lista). Se o elemento não existir, gera uma exceção."
      ],
      "metadata": {
        "id": "029_jvZkBmCF"
      }
    },
    {
      "cell_type": "code",
      "source": [
        "cores = ['laranja', 'preto', 'verde', 'azul', 'branco', 'verde', 'amarelo']\n",
        "\n",
        "# Índice de 'verde' na lista completa\n",
        "cores.index('verde')"
      ],
      "metadata": {
        "colab": {
          "base_uri": "https://localhost:8080/"
        },
        "id": "PeZvNkxiSZPS",
        "outputId": "9b0ee7bb-11e4-47aa-d801-9cf8fb6cbdc5"
      },
      "execution_count": 199,
      "outputs": [
        {
          "output_type": "execute_result",
          "data": {
            "text/plain": [
              "2"
            ]
          },
          "metadata": {},
          "execution_count": 199
        }
      ]
    },
    {
      "cell_type": "code",
      "source": [
        "# Índice de 'verde' a partir do elemento 4\n",
        "cores.index('verde', 4)"
      ],
      "metadata": {
        "colab": {
          "base_uri": "https://localhost:8080/"
        },
        "id": "Fc8A_eGAS90Z",
        "outputId": "f012bed4-54dc-4410-af0c-b4abf9413c9e"
      },
      "execution_count": 200,
      "outputs": [
        {
          "output_type": "execute_result",
          "data": {
            "text/plain": [
              "5"
            ]
          },
          "metadata": {},
          "execution_count": 200
        }
      ]
    },
    {
      "cell_type": "code",
      "source": [
        "# Elemento não existente tratado com try:except\n",
        "try:\n",
        "  cores.index('cinzento')\n",
        "except:\n",
        "  print(\"O 'cinzento' não faz parte da lista.\")"
      ],
      "metadata": {
        "colab": {
          "base_uri": "https://localhost:8080/"
        },
        "id": "GFL_hfLHTNSG",
        "outputId": "81357967-d801-4ae7-8dce-81d2fdd36195"
      },
      "execution_count": 204,
      "outputs": [
        {
          "output_type": "stream",
          "name": "stdout",
          "text": [
            "O 'cinzento' não faz parte da lista.\n"
          ]
        }
      ]
    },
    {
      "cell_type": "markdown",
      "source": [
        "### `copy()`\n",
        "\n",
        "Devolve unha copia da lista."
      ],
      "metadata": {
        "id": "yjpczmBp_WTS"
      }
    },
    {
      "cell_type": "code",
      "source": [
        "cores = ['laranxa', 'negro', 'verde', 'azul', 'branco', 'verde', 'amarelo']\n",
        "\n",
        "print(\"Lista orixinal:\", id(cores))\n",
        "\n",
        "cores_copy = cores.copy()\n",
        "print(\"Lista duplicada:\", id(cores_copy))"
      ],
      "metadata": {
        "colab": {
          "base_uri": "https://localhost:8080/"
        },
        "id": "Z73mSA3z_d9l",
        "outputId": "59ea1124-9c7e-4733-fe5b-e888740fcc90"
      },
      "execution_count": null,
      "outputs": [
        {
          "output_type": "stream",
          "name": "stdout",
          "text": [
            "Lista orixinal: 135722164642304\n",
            "Lista duplicada: 135722164886016\n"
          ]
        }
      ]
    },
    {
      "cell_type": "markdown",
      "source": [
        "Ollo: non se debe duplicar unha lista mediante operador de asignación."
      ],
      "metadata": {
        "id": "QnoGKh1f_4K1"
      }
    },
    {
      "cell_type": "code",
      "source": [
        "cores_asign = cores\n",
        "\n",
        "print(\"Lista copiada co operador de asignación:\", id(cores_asign))"
      ],
      "metadata": {
        "colab": {
          "base_uri": "https://localhost:8080/"
        },
        "id": "5CtL4taj_--H",
        "outputId": "81a0d348-ee09-42c3-de5a-32b8462e812c"
      },
      "execution_count": null,
      "outputs": [
        {
          "output_type": "stream",
          "name": "stdout",
          "text": [
            "Lista copiada co operador de asignación: 135722164642304\n"
          ]
        }
      ]
    },
    {
      "cell_type": "code",
      "source": [
        "print(\"Lista orixinal:            \", cores)\n",
        "print(\"Lista duplicada con copy():\", cores_copy)\n",
        "print(\"Lista duplicada con =:     \", cores_asign)"
      ],
      "metadata": {
        "colab": {
          "base_uri": "https://localhost:8080/"
        },
        "id": "FuJ12vxsANHI",
        "outputId": "1df511ab-b5a8-49ef-d8fb-23bf4cbe4837"
      },
      "execution_count": null,
      "outputs": [
        {
          "output_type": "stream",
          "name": "stdout",
          "text": [
            "Lista orixinal:             ['laranxa', 'negro', 'verde', 'azul', 'branco', 'verde', 'amarelo']\n",
            "Lista duplicada con copy(): ['laranxa', 'negro', 'verde', 'azul', 'branco', 'verde', 'amarelo']\n",
            "Lista duplicada con =:      ['laranxa', 'negro', 'verde', 'azul', 'branco', 'verde', 'amarelo']\n"
          ]
        }
      ]
    },
    {
      "cell_type": "code",
      "source": [
        "print(\"Eliminamos 'laranxa' da lista duplicada con copy()\")\n",
        "cores_copy.remove('laranxa')\n",
        "\n",
        "print(\"Eliminamos 'negro' da lista duplicada con =\")\n",
        "cores_asign.remove('negro')"
      ],
      "metadata": {
        "colab": {
          "base_uri": "https://localhost:8080/"
        },
        "id": "44LZnX3nA1q5",
        "outputId": "f61f1dea-9d21-4461-d4dc-4cd7a535465f"
      },
      "execution_count": null,
      "outputs": [
        {
          "output_type": "stream",
          "name": "stdout",
          "text": [
            "Eliminamos 'laranxa' da lista duplicada con copy()\n",
            "Eliminamos 'negro' da lista duplicada con =\n"
          ]
        }
      ]
    },
    {
      "cell_type": "code",
      "source": [
        "print(\"Lista orixinal:              \", cores)\n",
        "print(\"Lista 1 duplicada con copy():\", cores_copy)\n",
        "print(\"Lista 2 duplicada con =:     \", cores_asign)"
      ],
      "metadata": {
        "colab": {
          "base_uri": "https://localhost:8080/"
        },
        "id": "wcEGA6UWBAOl",
        "outputId": "dde70673-f41a-4cca-96cd-638e9350cf41"
      },
      "execution_count": null,
      "outputs": [
        {
          "output_type": "stream",
          "name": "stdout",
          "text": [
            "Lista orixinal:               ['laranxa', 'verde', 'azul', 'branco', 'verde', 'amarelo']\n",
            "Lista 1 duplicada con copy(): ['negro', 'verde', 'azul', 'branco', 'verde', 'amarelo']\n",
            "Lista 2 duplicada con =:      ['laranxa', 'verde', 'azul', 'branco', 'verde', 'amarelo']\n"
          ]
        }
      ]
    },
    {
      "cell_type": "markdown",
      "source": [
        "Isto é algo que é importante ter en conta nos tipos de datos mutábeis, co que tamén afecta aos dicionarios e conxuntos."
      ],
      "metadata": {
        "id": "qgGetqc5FslO"
      }
    },
    {
      "cell_type": "markdown",
      "source": [
        "## Dict\n",
        "\n",
        "Algúns dos métodos máis importantes do tipo de obxecto `Dict`:"
      ],
      "metadata": {
        "id": "J__M3zZaG0Ne"
      }
    },
    {
      "cell_type": "markdown",
      "source": [
        "### `clear()`\n",
        "\n",
        "Elimina todos os elementos do dicionario."
      ],
      "metadata": {
        "id": "1iKQGsjUtdY6"
      }
    },
    {
      "cell_type": "code",
      "source": [
        "word_freqs = {\n",
        "  \"the\": 19,\n",
        "  \"book\": 3,\n",
        "  \"is\": 20,\n",
        "  \"on\": 16,\n",
        "  \"table\": 5\n",
        "}\n",
        "\n",
        "print(word_freqs)\n",
        "\n",
        "word_freqs.clear()\n",
        "\n",
        "print(word_freqs)"
      ],
      "metadata": {
        "colab": {
          "base_uri": "https://localhost:8080/"
        },
        "id": "FDNleVNQtgzp",
        "outputId": "9429ac4b-2d9a-4819-9014-122395a34aa1"
      },
      "execution_count": null,
      "outputs": [
        {
          "output_type": "stream",
          "name": "stdout",
          "text": [
            "{'the': 19, 'book': 3, 'is': 20, 'on': 16, 'table': 5}\n",
            "{}\n"
          ]
        }
      ]
    },
    {
      "cell_type": "markdown",
      "source": [
        "### `copy()`\n",
        "\n",
        "Devolve unha copia do dicionario."
      ],
      "metadata": {
        "id": "0E2G5YbKu-hB"
      }
    },
    {
      "cell_type": "code",
      "source": [
        "word_freqs = {\n",
        "  \"the\": 19,\n",
        "  \"book\": 3,\n",
        "  \"is\": 20,\n",
        "  \"on\": 16,\n",
        "  \"table\": 5\n",
        "}\n",
        "\n",
        "copia = word_freqs.copy()\n",
        "print(id(word_freqs), word_freqs)\n",
        "print(id(copia), copia)"
      ],
      "metadata": {
        "colab": {
          "base_uri": "https://localhost:8080/"
        },
        "id": "zV_tx0qgvAoR",
        "outputId": "6318e015-3d6e-4d95-c8f0-4c14fffe6a7c"
      },
      "execution_count": null,
      "outputs": [
        {
          "output_type": "stream",
          "name": "stdout",
          "text": [
            "135722164749824 {'the': 19, 'book': 3, 'is': 20, 'on': 16, 'table': 5}\n",
            "135721993611136 {'the': 19, 'book': 3, 'is': 20, 'on': 16, 'table': 5}\n"
          ]
        }
      ]
    },
    {
      "cell_type": "markdown",
      "source": [
        "### `fromkeys(keys, [value])`\n",
        "\n",
        "Devolve un dicionario coas chaves especificadas como `keys` co mesmo valor (`value`). Se non se inclúe `value`, o valor asignado ás chaves é `None`."
      ],
      "metadata": {
        "id": "gmkW059O20Hn"
      }
    },
    {
      "cell_type": "code",
      "source": [
        "words = ['in', 'a', 'hole', 'the', 'ground', 'there', 'lived', 'hobbit', '.']\n",
        "\n",
        "freqs = dict.fromkeys(words, 0)\n",
        "\n",
        "freqs"
      ],
      "metadata": {
        "colab": {
          "base_uri": "https://localhost:8080/"
        },
        "id": "U84bWe7X5Ps6",
        "outputId": "edffdacf-aaf3-44c8-e917-24cc2b00ae2a"
      },
      "execution_count": null,
      "outputs": [
        {
          "output_type": "execute_result",
          "data": {
            "text/plain": [
              "{'in': 0,\n",
              " 'a': 0,\n",
              " 'hole': 0,\n",
              " 'the': 0,\n",
              " 'ground': 0,\n",
              " 'there': 0,\n",
              " 'lived': 0,\n",
              " 'hobbit': 0,\n",
              " '.': 0}"
            ]
          },
          "metadata": {},
          "execution_count": 64
        }
      ]
    },
    {
      "cell_type": "markdown",
      "source": [
        "### `get(key, [fallback])`\n",
        "\n",
        "Devolve o valor do dicionario asociado á chave `key`. Se a chave non existe, devolve `fallback` (por omisión é `None`)."
      ],
      "metadata": {
        "id": "FhCc4Q-U6xaL"
      }
    },
    {
      "cell_type": "code",
      "source": [
        "word_freqs = {\n",
        "  \"the\": 19,\n",
        "  \"book\": 3,\n",
        "  \"is\": 20,\n",
        "  \"on\": 16,\n",
        "  \"table\": 5\n",
        "}\n",
        "\n",
        "nouns = [\"table\", \"chair\"]\n",
        "for noun in nouns:\n",
        "    print(f\"{noun}:\", word_freqs.get(noun, f'non hai entrada para {noun}'))"
      ],
      "metadata": {
        "colab": {
          "base_uri": "https://localhost:8080/"
        },
        "id": "1Z6oMYTe8Mlw",
        "outputId": "e598777d-c25c-47ca-e292-121dae956309"
      },
      "execution_count": null,
      "outputs": [
        {
          "output_type": "stream",
          "name": "stdout",
          "text": [
            "table: 5\n",
            "chair: non hai entrada para chair\n"
          ]
        }
      ]
    },
    {
      "cell_type": "markdown",
      "source": [
        "É importante usar `get()` para recuperar elementos dun dicionario, especialmente cando exista posibilidade de que as chaves que tratamos de recuperar non existan."
      ],
      "metadata": {
        "id": "c-VRuEIR9qUt"
      }
    },
    {
      "cell_type": "code",
      "source": [
        "\n",
        "print(word_freqs.get('chair'))\n",
        "print(word_freqs['chair'])"
      ],
      "metadata": {
        "colab": {
          "base_uri": "https://localhost:8080/",
          "height": 216
        },
        "id": "zlaOegjN99JX",
        "outputId": "3dc7c6d3-e628-42e1-986a-3b7f09865477"
      },
      "execution_count": null,
      "outputs": [
        {
          "output_type": "stream",
          "name": "stdout",
          "text": [
            "None\n"
          ]
        },
        {
          "output_type": "error",
          "ename": "KeyError",
          "evalue": "'chair'",
          "traceback": [
            "\u001b[0;31m---------------------------------------------------------------------------\u001b[0m",
            "\u001b[0;31mKeyError\u001b[0m                                  Traceback (most recent call last)",
            "\u001b[0;32m<ipython-input-66-d3194c966098>\u001b[0m in \u001b[0;36m<cell line: 2>\u001b[0;34m()\u001b[0m\n\u001b[1;32m      1\u001b[0m \u001b[0mprint\u001b[0m\u001b[0;34m(\u001b[0m\u001b[0mword_freqs\u001b[0m\u001b[0;34m.\u001b[0m\u001b[0mget\u001b[0m\u001b[0;34m(\u001b[0m\u001b[0;34m'chair'\u001b[0m\u001b[0;34m)\u001b[0m\u001b[0;34m)\u001b[0m\u001b[0;34m\u001b[0m\u001b[0;34m\u001b[0m\u001b[0m\n\u001b[0;32m----> 2\u001b[0;31m \u001b[0mprint\u001b[0m\u001b[0;34m(\u001b[0m\u001b[0mword_freqs\u001b[0m\u001b[0;34m[\u001b[0m\u001b[0;34m'chair'\u001b[0m\u001b[0;34m]\u001b[0m\u001b[0;34m)\u001b[0m\u001b[0;34m\u001b[0m\u001b[0;34m\u001b[0m\u001b[0m\n\u001b[0m",
            "\u001b[0;31mKeyError\u001b[0m: 'chair'"
          ]
        }
      ]
    },
    {
      "cell_type": "markdown",
      "source": [
        "### `pop(key, [value])`\n",
        "\n",
        "Elimina o elemento do dicionario con chave `key`. Se a chave non existe e non se fornece `value`, producirase un erro de tipo `KeyError`. Se a chave existe, a entrada será suprimida."
      ],
      "metadata": {
        "id": "sYVwKX_4AJAC"
      }
    },
    {
      "cell_type": "code",
      "source": [
        "word_freqs = {\n",
        "  \"the\": 19,\n",
        "  \"book\": 3,\n",
        "  \"is\": 20,\n",
        "  \"on\": 16,\n",
        "  \"table\": 5\n",
        "}"
      ],
      "metadata": {
        "id": "ffzpttYNB6HY"
      },
      "execution_count": null,
      "outputs": []
    },
    {
      "cell_type": "code",
      "source": [
        "# Chave non existente sen valor = KeyError\n",
        "word_freqs.pop(\"chair\")"
      ],
      "metadata": {
        "colab": {
          "base_uri": "https://localhost:8080/",
          "height": 198
        },
        "id": "Rq7nb0kNCBtS",
        "outputId": "9f0ecf29-454e-456b-eae4-030b2dc9e2ce"
      },
      "execution_count": null,
      "outputs": [
        {
          "output_type": "error",
          "ename": "KeyError",
          "evalue": "'chair'",
          "traceback": [
            "\u001b[0;31m---------------------------------------------------------------------------\u001b[0m",
            "\u001b[0;31mKeyError\u001b[0m                                  Traceback (most recent call last)",
            "\u001b[0;32m<ipython-input-68-6b12a07b02a3>\u001b[0m in \u001b[0;36m<cell line: 2>\u001b[0;34m()\u001b[0m\n\u001b[1;32m      1\u001b[0m \u001b[0;31m# Chave non existente sen valor = KeyError\u001b[0m\u001b[0;34m\u001b[0m\u001b[0;34m\u001b[0m\u001b[0m\n\u001b[0;32m----> 2\u001b[0;31m \u001b[0mword_freqs\u001b[0m\u001b[0;34m.\u001b[0m\u001b[0mpop\u001b[0m\u001b[0;34m(\u001b[0m\u001b[0;34m\"chair\"\u001b[0m\u001b[0;34m)\u001b[0m\u001b[0;34m\u001b[0m\u001b[0;34m\u001b[0m\u001b[0m\n\u001b[0m",
            "\u001b[0;31mKeyError\u001b[0m: 'chair'"
          ]
        }
      ]
    },
    {
      "cell_type": "code",
      "source": [
        "# Chave non existente con valor\n",
        "word_freqs.pop(\"chair\", \"Chave non existente\")"
      ],
      "metadata": {
        "colab": {
          "base_uri": "https://localhost:8080/",
          "height": 35
        },
        "id": "WXulkh_vCHSM",
        "outputId": "b8c34000-9b75-4d5c-b24c-e9f38f96a865"
      },
      "execution_count": null,
      "outputs": [
        {
          "output_type": "execute_result",
          "data": {
            "text/plain": [
              "'Chave non existente'"
            ],
            "application/vnd.google.colaboratory.intrinsic+json": {
              "type": "string"
            }
          },
          "metadata": {},
          "execution_count": 69
        }
      ]
    },
    {
      "cell_type": "code",
      "source": [
        "# Chave existente\n",
        "word_freqs.pop(\"table\")\n",
        "\n",
        "word_freqs"
      ],
      "metadata": {
        "colab": {
          "base_uri": "https://localhost:8080/"
        },
        "id": "t98A3CF3CSQ8",
        "outputId": "7b241804-cf1c-4efe-ae0b-467243deeab7"
      },
      "execution_count": null,
      "outputs": [
        {
          "output_type": "execute_result",
          "data": {
            "text/plain": [
              "{'the': 19, 'book': 3, 'is': 20, 'on': 16}"
            ]
          },
          "metadata": {},
          "execution_count": 70
        }
      ]
    }
  ]
}