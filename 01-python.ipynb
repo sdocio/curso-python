{
  "nbformat": 4,
  "nbformat_minor": 0,
  "metadata": {
    "celltoolbar": "Raw Cell Format",
    "colab": {
      "provenance": []
    },
    "kernelspec": {
      "display_name": "Python 3 (ipykernel)",
      "language": "python",
      "name": "python3"
    },
    "language_info": {
      "codemirror_mode": {
        "name": "ipython",
        "version": 3
      },
      "file_extension": ".py",
      "mimetype": "text/x-python",
      "name": "python",
      "nbconvert_exporter": "python",
      "pygments_lexer": "ipython3",
      "version": "3.7.3"
    }
  },
  "cells": [
    {
      "cell_type": "markdown",
      "metadata": {
        "id": "pLqkvzoNSGPO"
      },
      "source": [
        "# Introdução básica ao Python (I)\n",
        "\n",
        "**Shell virtual do curso**: https://fegalaz.usc.es/linux/  \n",
        "  \n",
        "**Notebook da sessão 1**: https://i.gal/python1  \n",
        "**Notebook da sessão 2**: https://i.gal/python2  \n",
        "\n",
        "**Introdução ao Jupyter Notebook**: https://programminghistorian.org/pt/licoes/introducao-jupyter-notebooks"
      ]
    },
    {
      "cell_type": "markdown",
      "source": [
        "## Instalação\n",
        "\n",
        "### Implementação de referência\n",
        "\n",
        "1.   **Windows**\n",
        "\n",
        "> https://www.python.org/downloads/windows/\n",
        "\n",
        "\n",
        "2.  **Linux**\n",
        "\n",
        "- Pacotes incluídos em cada distribuição.\n",
        "\n",
        "> `sudo apt install python3`  \n",
        "> `sudo dnf install python3`   \n",
        "> `sudo pacman -Ss python3`   \n",
        "etc\n",
        "\n",
        "- Compilação a partir das fontes.\n",
        "\n",
        "> https://www.python.org/downloads/source/\n",
        "\n",
        "3. **MacOS**\n",
        "\n",
        "> https://www.python.org/downloads/macos/\n",
        "\n",
        "Outras implementações:\n",
        "\n",
        "> https://en.wikipedia.org/wiki/List_of_Python_software#Python_implementations\n",
        "\n",
        "### Distribuição Anaconda3\n",
        "\n",
        "Uma distribuição orientada para Data Science e que usa o `conda` como gestor de pacotes.\n",
        "\n",
        "> https://www.anaconda.com/download#downloads\n",
        "\n",
        "Se apenas estiver interessado no gestor conda e não na distribuição completa, uma alternativa é o `Miniconda`.\n",
        "\n",
        "> https://docs.anaconda.com/free/miniconda/\n",
        "\n",
        "## IDEs\n",
        "\n",
        "- pyCharm: https://www.jetbrains.com/pycharm/\n",
        "- VSCodium: https://vscodium.com\n",
        "- spyder: https://www.spyder-ide.org\n",
        "\n",
        "\n",
        "## Ambientes virtuais\n",
        "\n",
        "São utilizados para criar ambientes isolados com módulos instalados.\n",
        "\n",
        "### `venv`\n",
        "\n",
        "Criação e ativação de um ambiente com `venv`:\n",
        "\n",
        "> `$ python -m venv env`  \n",
        "> `$ source env/bin/activate`\n",
        "\n",
        "Uma vez criado e ativo, podemos instalar módulos através do `pip`.\n",
        "\n",
        "> `$ pip install spacy`\n",
        "\n",
        "Para deactivar o ambiente:\n",
        "\n",
        "> `$ deactivate`\n",
        "\n",
        "### `miniconda`\n",
        "\n",
        "Instalação de `miniconda` (Windows, MacOS e Linux):\n",
        "\n",
        "https://docs.anaconda.com/miniconda/\n",
        "\n",
        "Criação e ativação de um ambiente com `miniconda`:\n",
        "\n",
        "> `conda create --name env`\n",
        "> `conda activate env`\n",
        "\n",
        "Uma vez criado e ativo, podemos instalar módulos utilizando `conda`:\n",
        "\n",
        "> `conda install spacy`\n",
        "\n",
        "Para deactivar o ambiente:\n",
        "\n",
        "> `conda deactivate`"
      ],
      "metadata": {
        "id": "vYC60-AkfGRc"
      }
    },
    {
      "cell_type": "markdown",
      "source": [
        "## Um programa Python\n",
        "\n",
        "Um script ou programa Python é um conjunto de definições (por exemplo, variáveis ou funções) e comandos. Para executar código Python, podemos optar por sessões interactivas (intérprete de linha de comandos, *jupyter notebooks*, Google Colab, etc) ou por guardar o código num ficheiro e depois executá-lo com o intérprete.\n",
        "\n",
        "As linhas de código que começam por `#` são consideradas comentários e não são tidas em conta pelo intérprete."
      ],
      "metadata": {
        "id": "uR8LyM15YYix"
      }
    },
    {
      "cell_type": "markdown",
      "source": [
        "### Interativo"
      ],
      "metadata": {
        "id": "VBfa1DZuaIkt"
      }
    },
    {
      "cell_type": "code",
      "source": [
        "# Imprime a sequência Olá mundo\n",
        "print(\"Olá mundo\")"
      ],
      "metadata": {
        "id": "7ELBnXMjaECM",
        "colab": {
          "base_uri": "https://localhost:8080/"
        },
        "outputId": "c5be17b4-b485-4e98-86ef-a7e35d56c98f"
      },
      "execution_count": 2,
      "outputs": [
        {
          "output_type": "stream",
          "name": "stdout",
          "text": [
            "Olá mundo\n"
          ]
        }
      ]
    },
    {
      "cell_type": "markdown",
      "source": [
        "### Não interativo\n",
        "\n",
        "> `$ echo 'print(\"Olá mundo\")' > olamundo.py`  \n",
        "> `$ python olamundo.py`"
      ],
      "metadata": {
        "id": "B55Rowr5aLGB"
      }
    },
    {
      "cell_type": "markdown",
      "source": [
        "### Indentação\n",
        "\n",
        "Os scripts Python mantêm uma indentação estrita: as expressões que estão ao mesmo nível (dentro do mesmo bloco) devem ter a mesma indentação, e a indentação deve ser consistente em todo o script."
      ],
      "metadata": {
        "id": "fD9JdxeqpqX6"
      }
    },
    {
      "cell_type": "code",
      "source": [
        "# Correto\n",
        "for x in [1, 2, 3]:\n",
        "    print(x)\n",
        "    print(x * x)"
      ],
      "metadata": {
        "id": "SN9eQLJlp9YC",
        "colab": {
          "base_uri": "https://localhost:8080/"
        },
        "outputId": "15231994-9ae8-493f-9bd5-fe9f99d09d0d"
      },
      "execution_count": 3,
      "outputs": [
        {
          "output_type": "stream",
          "name": "stdout",
          "text": [
            "1\n",
            "1\n",
            "2\n",
            "4\n",
            "3\n",
            "9\n"
          ]
        }
      ]
    },
    {
      "cell_type": "code",
      "source": [
        "# Incorreto (erro de indentação)\n",
        "for x in [1, 2, 3]:\n",
        "    print(x)\n",
        "       print(x * x)"
      ],
      "metadata": {
        "id": "opMpSgO4qEsW"
      },
      "execution_count": null,
      "outputs": []
    },
    {
      "cell_type": "code",
      "source": [
        "# Bug?\n",
        "for x in [1, 2, 3]:\n",
        "    print(x)\n",
        "print(x * x)"
      ],
      "metadata": {
        "id": "O2Kz4rbArHPz",
        "colab": {
          "base_uri": "https://localhost:8080/"
        },
        "outputId": "97165a91-a955-48ab-d6e0-cfe6c2890730"
      },
      "execution_count": 4,
      "outputs": [
        {
          "output_type": "stream",
          "name": "stdout",
          "text": [
            "1\n",
            "2\n",
            "3\n",
            "9\n"
          ]
        }
      ]
    },
    {
      "cell_type": "markdown",
      "source": [
        "\n",
        "\n",
        "---\n",
        "\n"
      ],
      "metadata": {
        "id": "HV7sBiNEAH9C"
      }
    },
    {
      "cell_type": "markdown",
      "metadata": {
        "id": "Qvq6zIuhkNmo"
      },
      "source": [
        "## Variáveis\n",
        "\n",
        "As variáveis permitem guardar valores para serem utilizados mais tarde. Para as declarar utilizamos o operador de assignação `=`."
      ]
    },
    {
      "cell_type": "code",
      "metadata": {
        "id": "a5dC-N9mkNmq"
      },
      "source": [
        "# Numéricas\n",
        "x = 5\n",
        "y = 3.98\n",
        "\n",
        "# Cadeias curtas, rodeadas de ' ou \"\n",
        "text = 'amostra de cadeia'\n",
        "text2 = \"outra amostra de cadeia\"\n",
        "\n",
        "# Cadeias longas ou contendo \" ou saltos de linha\n",
        "long_text = \"\"\"Lorem ipsum dolor sit amet, consectetur adipiscing elit,\n",
        "sed do eiusmod tempor incididunt \"ut labore et dolore\n",
        "magna aliqua\". Ut enim ad minim veniam.\"\"\""
      ],
      "execution_count": 6,
      "outputs": []
    },
    {
      "cell_type": "code",
      "metadata": {
        "id": "qrIZuyyekNms",
        "colab": {
          "base_uri": "https://localhost:8080/"
        },
        "outputId": "e65f8318-f22c-4c3e-c8d8-80939c53c0ee"
      },
      "source": [
        "print(x * y)"
      ],
      "execution_count": 7,
      "outputs": [
        {
          "output_type": "stream",
          "name": "stdout",
          "text": [
            "19.9\n"
          ]
        }
      ]
    },
    {
      "cell_type": "code",
      "metadata": {
        "id": "rXHqc5zzkNmt",
        "colab": {
          "base_uri": "https://localhost:8080/"
        },
        "outputId": "a859d5c2-261c-4c8d-c60c-879a0e4a304d"
      },
      "source": [
        "print(long_text)"
      ],
      "execution_count": 8,
      "outputs": [
        {
          "output_type": "stream",
          "name": "stdout",
          "text": [
            "Lorem ipsum dolor sit amet, consectetur adipiscing elit,\n",
            "sed do eiusmod tempor incididunt \"ut labore et dolore\n",
            "magna aliqua\". Ut enim ad minim veniam.\n"
          ]
        }
      ]
    },
    {
      "cell_type": "markdown",
      "source": [
        "## Tipos de dados\n",
        "\n",
        "\n",
        "Em Python, a atribuição de dados a um nome de variável define o tipo e o intervalo de valores que um objeto pode ter."
      ],
      "metadata": {
        "id": "La0DBoZ8nt9b"
      }
    },
    {
      "cell_type": "markdown",
      "metadata": {
        "id": "xrhPA7hIkNmu"
      },
      "source": [
        "### Tipos de dados básicos: escalares\n",
        "\n",
        "Os escalares são dados que não podem ser subdivididos."
      ]
    },
    {
      "cell_type": "markdown",
      "source": [
        "#### Numéricos\n",
        "\n",
        "| Subtipo     | Palavra reservada | Exemplo |\n",
        "|-------------|-------------------|---------|\n",
        "| Enteiros    | `int`             | 3       |\n",
        "| Decimais    | `float`           | 3.89    |"
      ],
      "metadata": {
        "id": "KBEphC2wAUFs"
      }
    },
    {
      "cell_type": "code",
      "metadata": {
        "id": "R5yP7rQvkNmu"
      },
      "source": [
        "n_int = 3\n",
        "n_float = 3.89"
      ],
      "execution_count": 9,
      "outputs": []
    },
    {
      "cell_type": "markdown",
      "metadata": {
        "id": "PNtmkeIckNmu"
      },
      "source": [
        "#### Cadeias\n"
      ]
    },
    {
      "cell_type": "code",
      "metadata": {
        "id": "V4CuQOD6kNmu"
      },
      "source": [
        "v_string = \"Este é um exemplo\"\n",
        "single_q = 'Este é outro exemplo'"
      ],
      "execution_count": 11,
      "outputs": []
    },
    {
      "cell_type": "markdown",
      "source": [
        "Podemos determinar o tamanho de uma cadeia através da função `len`."
      ],
      "metadata": {
        "id": "e-oS5dFKGqKA"
      }
    },
    {
      "cell_type": "code",
      "source": [
        "len(v_string)"
      ],
      "metadata": {
        "id": "ur-ik8HPGvLv"
      },
      "execution_count": null,
      "outputs": []
    },
    {
      "cell_type": "markdown",
      "source": [
        "Para concatenar duas cadeias, podemos utilizar o operador `+`."
      ],
      "metadata": {
        "id": "kMxL2dppp1vu"
      }
    },
    {
      "cell_type": "code",
      "source": [
        "str1 = \"ola\"\n",
        "str2 = \"mundo\"\n",
        "\n",
        "print(str1 + \" \" + str2)"
      ],
      "metadata": {
        "id": "f0VCau_2qDms",
        "colab": {
          "base_uri": "https://localhost:8080/"
        },
        "outputId": "95784764-4b63-492a-9f91-1c2ba5cab3ce"
      },
      "execution_count": 13,
      "outputs": [
        {
          "output_type": "stream",
          "name": "stdout",
          "text": [
            "ola mundo\n"
          ]
        }
      ]
    },
    {
      "cell_type": "markdown",
      "source": [
        "Este operador `+` tem efeitos diferentes conforme seja aplicado a cadeias de caracteres ou a números."
      ],
      "metadata": {
        "id": "K-IFRhs4vQX8"
      }
    },
    {
      "cell_type": "code",
      "source": [
        "n1 = 2\n",
        "n2 = 2\n",
        "n1 + n2"
      ],
      "metadata": {
        "id": "GylUTJ5xva8J",
        "colab": {
          "base_uri": "https://localhost:8080/"
        },
        "outputId": "3e1eba0b-74e5-4f22-9678-1b31d3668e18"
      },
      "execution_count": 14,
      "outputs": [
        {
          "output_type": "execute_result",
          "data": {
            "text/plain": [
              "4"
            ]
          },
          "metadata": {},
          "execution_count": 14
        }
      ]
    },
    {
      "cell_type": "code",
      "source": [
        "s1 = \"2\"\n",
        "s2 = \"2\"\n",
        "s1 + s2"
      ],
      "metadata": {
        "id": "JMTjSwzevfLJ",
        "colab": {
          "base_uri": "https://localhost:8080/",
          "height": 38
        },
        "outputId": "ed258683-0fa1-41eb-f191-f980417e3878"
      },
      "execution_count": 15,
      "outputs": [
        {
          "output_type": "execute_result",
          "data": {
            "text/plain": [
              "'22'"
            ],
            "application/vnd.google.colaboratory.intrinsic+json": {
              "type": "string"
            }
          },
          "metadata": {},
          "execution_count": 15
        }
      ]
    },
    {
      "cell_type": "markdown",
      "metadata": {
        "id": "9YawhX5fkNmv"
      },
      "source": [
        "#### Booleanos\n",
        "\n",
        "Com apenas dois valores possíveis: `True` e `False`"
      ]
    },
    {
      "cell_type": "code",
      "metadata": {
        "id": "F83LMpZ2kNmv"
      },
      "source": [
        "v_boolean = True"
      ],
      "execution_count": 16,
      "outputs": []
    },
    {
      "cell_type": "markdown",
      "metadata": {
        "id": "0jFTfsADkNmw"
      },
      "source": [
        "#### Indefinido (NoneType)\n",
        "\n",
        "Têm um único valor (`NoneType`)."
      ]
    },
    {
      "cell_type": "code",
      "metadata": {
        "id": "DPc_o7UKkNmx"
      },
      "source": [
        "v_none = None"
      ],
      "execution_count": 17,
      "outputs": []
    },
    {
      "cell_type": "markdown",
      "metadata": {
        "id": "htf1HWbikNmz"
      },
      "source": [
        "Com `type()` podemos conhecer o tipo de um objeto."
      ]
    },
    {
      "cell_type": "code",
      "metadata": {
        "id": "xx-iiQNykNmz",
        "colab": {
          "base_uri": "https://localhost:8080/"
        },
        "outputId": "46800418-ee14-4d14-c954-673115f59a86"
      },
      "source": [
        "type(n_int)"
      ],
      "execution_count": 18,
      "outputs": [
        {
          "output_type": "execute_result",
          "data": {
            "text/plain": [
              "int"
            ]
          },
          "metadata": {},
          "execution_count": 18
        }
      ]
    },
    {
      "cell_type": "code",
      "metadata": {
        "id": "bBmJiXlSkNm0",
        "colab": {
          "base_uri": "https://localhost:8080/"
        },
        "outputId": "e5dc9e10-21ba-4aa9-88d5-8b9d5ed69e8b"
      },
      "source": [
        "type(n_float)"
      ],
      "execution_count": 19,
      "outputs": [
        {
          "output_type": "execute_result",
          "data": {
            "text/plain": [
              "float"
            ]
          },
          "metadata": {},
          "execution_count": 19
        }
      ]
    },
    {
      "cell_type": "code",
      "metadata": {
        "id": "GRoFlufAkNm1",
        "colab": {
          "base_uri": "https://localhost:8080/"
        },
        "outputId": "47d11811-539d-4926-c3da-524aea15eef8"
      },
      "source": [
        "type(v_string)"
      ],
      "execution_count": 20,
      "outputs": [
        {
          "output_type": "execute_result",
          "data": {
            "text/plain": [
              "str"
            ]
          },
          "metadata": {},
          "execution_count": 20
        }
      ]
    },
    {
      "cell_type": "code",
      "metadata": {
        "id": "nvo5hVQPkNm2",
        "colab": {
          "base_uri": "https://localhost:8080/"
        },
        "outputId": "95401871-f2fd-4943-f920-a5955d480ac3"
      },
      "source": [
        "type(v_boolean)"
      ],
      "execution_count": 21,
      "outputs": [
        {
          "output_type": "execute_result",
          "data": {
            "text/plain": [
              "bool"
            ]
          },
          "metadata": {},
          "execution_count": 21
        }
      ]
    },
    {
      "cell_type": "code",
      "metadata": {
        "id": "VjMGCijqkNm3",
        "colab": {
          "base_uri": "https://localhost:8080/"
        },
        "outputId": "98646e8f-2ae9-4a1e-8df6-f5db91c0449a"
      },
      "source": [
        "type(v_none)"
      ],
      "execution_count": 22,
      "outputs": [
        {
          "output_type": "execute_result",
          "data": {
            "text/plain": [
              "NoneType"
            ]
          },
          "metadata": {},
          "execution_count": 22
        }
      ]
    },
    {
      "cell_type": "code",
      "metadata": {
        "id": "OheP-EBwkNm4",
        "colab": {
          "base_uri": "https://localhost:8080/"
        },
        "outputId": "fe80e704-462f-42bd-84c2-fbb234bc8cb8"
      },
      "source": [
        "x = 3.89\n",
        "y = '3.89'\n",
        "\n",
        "print('Tipo de x: ', end='')\n",
        "print(type(x))\n",
        "\n",
        "print('Tipo de y: ', end='')\n",
        "print(type(y))"
      ],
      "execution_count": 23,
      "outputs": [
        {
          "output_type": "stream",
          "name": "stdout",
          "text": [
            "Tipo de x: <class 'float'>\n",
            "Tipo de y: <class 'str'>\n"
          ]
        }
      ]
    },
    {
      "cell_type": "markdown",
      "source": [
        "#### Exercícios"
      ],
      "metadata": {
        "id": "G3ScY4f2fcSY"
      }
    },
    {
      "cell_type": "markdown",
      "source": [
        "1. Define dúas variáveis numéricas\n",
        "  - *`year`* (contendo o ano atual)\n",
        "  - *`pi`* (contendo o valor de PI)"
      ],
      "metadata": {
        "id": "ripBm6_BgSGs"
      }
    },
    {
      "cell_type": "code",
      "source": [],
      "metadata": {
        "id": "7JQZX7c9tvMr"
      },
      "execution_count": null,
      "outputs": []
    },
    {
      "cell_type": "markdown",
      "source": [
        "2. Imprime o contido de `year`."
      ],
      "metadata": {
        "id": "g34NvyOsgbFX"
      }
    },
    {
      "cell_type": "code",
      "source": [],
      "metadata": {
        "id": "c9ikXN3tgjmt"
      },
      "execution_count": null,
      "outputs": []
    },
    {
      "cell_type": "markdown",
      "source": [
        "3. Imprime o tipo de dado de `year`."
      ],
      "metadata": {
        "id": "X8GyFyNCos3m"
      }
    },
    {
      "cell_type": "code",
      "source": [],
      "metadata": {
        "id": "KTYnI4VwowLr"
      },
      "execution_count": null,
      "outputs": []
    },
    {
      "cell_type": "markdown",
      "source": [
        "4. Imprime o seguinte texto:\n",
        "\n",
        "Há uma velha maldição que diz: \"Que vivas em tempos interessantes\"."
      ],
      "metadata": {
        "id": "ZJ8tWgnW-w5H"
      }
    },
    {
      "cell_type": "code",
      "source": [
        "\n"
      ],
      "metadata": {
        "id": "-Miv4Mgv_6V0"
      },
      "execution_count": null,
      "outputs": []
    },
    {
      "cell_type": "markdown",
      "metadata": {
        "id": "8DxK9M9nkNm5"
      },
      "source": [
        "### Tipos de dados complexos (não escalares)"
      ]
    },
    {
      "cell_type": "markdown",
      "metadata": {
        "id": "1CHWjvN9atp7"
      },
      "source": [
        "#### Listas\n",
        "\n",
        "Sequências ordenadas e mutáveis de valores que podem ser acedidas através do seu índice expresso entre parênteses rectos. Este índice começa a contar a partir de zero. Se o índice for negativo, conta-se a partir do fim."
      ]
    },
    {
      "cell_type": "code",
      "metadata": {
        "id": "BHLR3ehrkNm5",
        "colab": {
          "base_uri": "https://localhost:8080/"
        },
        "outputId": "2ff31bf2-67ee-4665-de63-349b92528a0a"
      },
      "source": [
        "cores = [\"amarelo\", \"gris\", \"verde\"]\n",
        "print(cores[1])\n",
        "print(cores[-3])"
      ],
      "execution_count": 24,
      "outputs": [
        {
          "output_type": "stream",
          "name": "stdout",
          "text": [
            "gris\n",
            "amarelo\n"
          ]
        }
      ]
    },
    {
      "cell_type": "markdown",
      "metadata": {
        "id": "MqQLZj1exMPJ"
      },
      "source": [
        "Pódese declarar unha lista sen inicializala, para asignarlle valores posteriormente mediante os seguintes métodos:\n",
        "\n",
        " * `append`: engade un elemento ao final da lista\n",
        " * `insert`: engade un elemento na posición especificada\n",
        " * `extend`: estende unha lista cos contidos de outra\n"
      ]
    },
    {
      "cell_type": "code",
      "source": [
        "# Declaración\n",
        "mais_cores = []"
      ],
      "metadata": {
        "id": "QHU2AppV45-k"
      },
      "execution_count": null,
      "outputs": []
    },
    {
      "cell_type": "code",
      "metadata": {
        "id": "5I7cy3iYxH6U"
      },
      "source": [
        "# Asignación de valores con append\n",
        "mais_cores.append(\"laranxa\")\n",
        "mais_cores.append([\"negro\", \"branco\"])\n",
        "mais_cores.append(\"azul\")\n",
        "\n",
        "print(mais_cores)"
      ],
      "execution_count": null,
      "outputs": []
    },
    {
      "cell_type": "code",
      "source": [
        "# Que pasa se imprimo o item que está no índice 1?\n",
        "print(mais_cores[1])"
      ],
      "metadata": {
        "id": "Fg4icCI7t8Nn"
      },
      "execution_count": null,
      "outputs": []
    },
    {
      "cell_type": "code",
      "source": [
        "# Asignación de valores con insert\n",
        "mais_cores.insert(2, \"verde\")\n",
        "\n",
        "print(mais_cores)"
      ],
      "metadata": {
        "id": "hg8YOvXH40c8"
      },
      "execution_count": null,
      "outputs": []
    },
    {
      "cell_type": "code",
      "source": [
        "# Estensión da lista con extend\n",
        "mais_cores.extend([\"branco\", \"amarelo\"])"
      ],
      "metadata": {
        "id": "2KzlBmgH7oYD"
      },
      "execution_count": null,
      "outputs": []
    },
    {
      "cell_type": "code",
      "source": [
        "# E agora? Que pasa se imprimo o último elemento da lista?\n",
        "print(mais_cores[-1])"
      ],
      "metadata": {
        "id": "ZfslXHgz8uXq"
      },
      "execution_count": null,
      "outputs": []
    },
    {
      "cell_type": "code",
      "source": [
        "# Impresión da lista final\n",
        "print(mais_cores)"
      ],
      "metadata": {
        "id": "_Xq6wfNu9PEV"
      },
      "execution_count": null,
      "outputs": []
    },
    {
      "cell_type": "markdown",
      "source": [
        "Tamén podemos eliminar elementos dunha lista:\n",
        "\n",
        "- `pop`: elimina o índice especificado\n",
        "- `remove`: elimina o valor especificado"
      ],
      "metadata": {
        "id": "kQx9AYTsP58r"
      }
    },
    {
      "cell_type": "code",
      "source": [
        "cores = ['laranxa', 'negro', 'branco', 'azul', 'verde']\n",
        "cores.remove(\"negro\")\n",
        "print(cores)"
      ],
      "metadata": {
        "id": "Tsq241W3QWVu"
      },
      "execution_count": null,
      "outputs": []
    },
    {
      "cell_type": "code",
      "source": [
        "cores.pop(0)\n",
        "cores.pop(-1)   # list.pop() e list.pop(-1) son equivalentes\n",
        "print(cores)"
      ],
      "metadata": {
        "id": "VRB2Epy9QtBQ"
      },
      "execution_count": null,
      "outputs": []
    },
    {
      "cell_type": "markdown",
      "source": [
        "##### Extraer subconxuntos das listas"
      ],
      "metadata": {
        "id": "x_S5itIc5hdx"
      }
    },
    {
      "cell_type": "markdown",
      "metadata": {
        "id": "96pWlOcrCSif"
      },
      "source": [
        "Tamén se poden extraer subconxuntos das listas (*slice*) especificando o valor de inicio (incluído) e o de fin (non incluído) separados por `:`"
      ]
    },
    {
      "cell_type": "code",
      "metadata": {
        "id": "KQD0SQZECgVO"
      },
      "source": [
        "# índices 1 e 2 (o 3 só marca a fin do subconxunto, non se inclúe)\n",
        "mais_cores[1:3]"
      ],
      "execution_count": null,
      "outputs": []
    },
    {
      "cell_type": "markdown",
      "metadata": {
        "id": "NShFeNfwDEYt"
      },
      "source": [
        "O primeiro e o último elemento do subconxunto pódense omitir cando coincidan co primeiro e último da lista."
      ]
    },
    {
      "cell_type": "code",
      "metadata": {
        "id": "fn-18HDVDXX-"
      },
      "source": [
        "nums = [0, 1, 2, 3, 4, 5, 6, 7, 8, 9, 10]"
      ],
      "execution_count": null,
      "outputs": []
    },
    {
      "cell_type": "code",
      "source": [
        "print(\"Desde o primeiro valor até o 4 (non incluído)\")\n",
        "print(nums[:4])"
      ],
      "metadata": {
        "id": "vhv0RHx00sa-"
      },
      "execution_count": null,
      "outputs": []
    },
    {
      "cell_type": "code",
      "source": [
        "print(\"Desde o séptimo valor (incluído) até o último\")\n",
        "print(nums[7:])"
      ],
      "metadata": {
        "id": "C6SXr5gE0uZp"
      },
      "execution_count": null,
      "outputs": []
    },
    {
      "cell_type": "code",
      "source": [
        "print(\"Todos os valores (devolve unha lista idéntica)\")\n",
        "print(nums[:])"
      ],
      "metadata": {
        "id": "uM-H4EoL0vyj"
      },
      "execution_count": null,
      "outputs": []
    },
    {
      "cell_type": "markdown",
      "source": [
        "Ao usarmos números negativos no *slice*, comeza a contar polo final."
      ],
      "metadata": {
        "id": "cRBE_dM302m6"
      }
    },
    {
      "cell_type": "code",
      "source": [
        "print(\"Desde o índice na posición -3 até o final\")\n",
        "print(nums[-3:])"
      ],
      "metadata": {
        "id": "jej0bOqU1IdN"
      },
      "execution_count": null,
      "outputs": []
    },
    {
      "cell_type": "markdown",
      "source": [
        "Se incluímos un terceiro valor no *slice*, este representa o salto (por omisión é 1)."
      ],
      "metadata": {
        "id": "j6ODsYagv-tQ"
      }
    },
    {
      "cell_type": "code",
      "source": [
        "print(\"Todos os valores contando índices de 2 en 2\")\n",
        "print(nums[::2])"
      ],
      "metadata": {
        "id": "fr2sS0llwIfj"
      },
      "execution_count": null,
      "outputs": []
    },
    {
      "cell_type": "code",
      "source": [
        "# Que pasa se o salto é negativo?\n",
        "print(nums[10:2:-3])"
      ],
      "metadata": {
        "id": "Kizq1J96xuoi"
      },
      "execution_count": null,
      "outputs": []
    },
    {
      "cell_type": "markdown",
      "source": [
        "\n",
        "\n",
        "---\n",
        "\n",
        "\n",
        "\n",
        "A efectos de extraer subcadeas (*slicing*) ou uso de índices (*indexing*), **as cadeas** funcionan como as listas, sendo posíbel acceder/extraer os caracteres individuais que as compoñen mediante os índices."
      ],
      "metadata": {
        "id": "r2VWmQs5BN0S"
      }
    },
    {
      "cell_type": "code",
      "source": [
        "sample = \"Olá mundo\""
      ],
      "metadata": {
        "id": "dHsOTkK2Beop"
      },
      "execution_count": null,
      "outputs": []
    },
    {
      "cell_type": "code",
      "source": [
        "# Indexing\n",
        "print(sample[2])"
      ],
      "metadata": {
        "id": "772vaiTPqmOB"
      },
      "execution_count": null,
      "outputs": []
    },
    {
      "cell_type": "code",
      "source": [
        "# Slicing\n",
        "print(sample[1:6])"
      ],
      "metadata": {
        "id": "YZf0RFCFBmL6"
      },
      "execution_count": null,
      "outputs": []
    },
    {
      "cell_type": "code",
      "source": [
        "print(sample[-4:])"
      ],
      "metadata": {
        "id": "Rxam1L3RCXhJ"
      },
      "execution_count": null,
      "outputs": []
    },
    {
      "cell_type": "code",
      "source": [
        "print(sample[-1:-4:-1])"
      ],
      "metadata": {
        "id": "bsJIAc80BtjT"
      },
      "execution_count": null,
      "outputs": []
    },
    {
      "cell_type": "markdown",
      "source": [
        "##### Exercicios\n",
        "\n"
      ],
      "metadata": {
        "id": "6AeAnP4Qy5jS"
      }
    },
    {
      "cell_type": "markdown",
      "source": [
        "1. Crea unha lista de 5 números enteiros e con nome `numeros`."
      ],
      "metadata": {
        "id": "4wSQHUG7zA08"
      }
    },
    {
      "cell_type": "code",
      "source": [
        "numeros = [1, 3, 5, 7, 2]"
      ],
      "metadata": {
        "id": "LyyBW9Ze3g9m"
      },
      "execution_count": null,
      "outputs": []
    },
    {
      "cell_type": "markdown",
      "source": [
        "2. No final da lista `numeros` engade 2 números máis de tipo decimal (flotante)."
      ],
      "metadata": {
        "id": "MjYebepCzIEj"
      }
    },
    {
      "cell_type": "code",
      "source": [
        "numeros.extend([1.4, 1.5])"
      ],
      "metadata": {
        "id": "7SWHsmeu3hlq"
      },
      "execution_count": null,
      "outputs": []
    },
    {
      "cell_type": "code",
      "source": [
        "numeros\n"
      ],
      "metadata": {
        "id": "sx1uG4xDR8c6"
      },
      "execution_count": null,
      "outputs": []
    },
    {
      "cell_type": "markdown",
      "source": [
        "3. Imprime os 3 últimos números da lista."
      ],
      "metadata": {
        "id": "aaRxRi5xz7ne"
      }
    },
    {
      "cell_type": "code",
      "source": [
        "numeros[-3:]"
      ],
      "metadata": {
        "id": "OHWeQZUc3iOD"
      },
      "execution_count": null,
      "outputs": []
    },
    {
      "cell_type": "markdown",
      "source": [
        "4. Imprime a lista do revés"
      ],
      "metadata": {
        "id": "b8dTDygu2rcZ"
      }
    },
    {
      "cell_type": "code",
      "source": [
        "numeros[::-1]"
      ],
      "metadata": {
        "id": "qyj09Nsc3i5E"
      },
      "execution_count": null,
      "outputs": []
    },
    {
      "cell_type": "markdown",
      "source": [
        "5. Elimina da lista os elementos de tipo decimal"
      ],
      "metadata": {
        "id": "o8hfK7cITJ0t"
      }
    },
    {
      "cell_type": "code",
      "source": [
        "numeros.remove(1.4)\n",
        "numeros.remove(1.5)\n",
        "numeros"
      ],
      "metadata": {
        "id": "4gXe2CmBTNz4"
      },
      "execution_count": null,
      "outputs": []
    },
    {
      "cell_type": "markdown",
      "source": [
        "6. Extrae a cadea *Galaxy* de `str1` usando notación de *slicing*, almacénaa noutra variábel (`slice1`) e imprímea"
      ],
      "metadata": {
        "id": "FM-nZ3QbrnxH"
      }
    },
    {
      "cell_type": "code",
      "source": [
        "str1 = \"The Hitchhiker’s Guide to the Galaxy\"\n",
        "# escrebe aquí a solución\n",
        "slice1 = str1[-6:]\n",
        "print(slice1)"
      ],
      "metadata": {
        "id": "9MBC2D2HsCAD"
      },
      "execution_count": null,
      "outputs": []
    },
    {
      "cell_type": "markdown",
      "metadata": {
        "id": "Lu3kQ87BkNm5"
      },
      "source": [
        "#### Dicionarios\n",
        "\n",
        "Estruturas chave-valor en que a chave é un escalar e o valor pode ser escalar ou non escalar."
      ]
    },
    {
      "cell_type": "code",
      "metadata": {
        "id": "ugD7emwFkNm6"
      },
      "source": [
        "freq = {\n",
        "    \"miedo,tener\": 1209,\n",
        "    \"mezcla,débil\": 10,\n",
        "    \"presencia,mayor\": 154\n",
        "}"
      ],
      "execution_count": null,
      "outputs": []
    },
    {
      "cell_type": "markdown",
      "metadata": {
        "id": "QTr8BtaVFXm7"
      },
      "source": [
        "Pódese declarar un dicionario sen inicializalo, para asignarlle valores posteriormente."
      ]
    },
    {
      "cell_type": "code",
      "metadata": {
        "id": "USYEo7MbFcPn"
      },
      "source": [
        "colloc = {}\n",
        "\n",
        "colloc.update({\"miedo,tener\": 1209})\n",
        "print(colloc)\n",
        "\n",
        "colloc.update({\"mezcla,débil\": 10})\n",
        "\n",
        "# forma alternativa\n",
        "colloc[\"presencia,mayor\"] = 154\n",
        "\n",
        "print(colloc)"
      ],
      "execution_count": null,
      "outputs": []
    },
    {
      "cell_type": "markdown",
      "metadata": {
        "id": "9Nkxfw2fF4Ur"
      },
      "source": [
        "Mediante os métodos keys() e values() é posible acceder á lista de chaves e valores dun dicionario por separado."
      ]
    },
    {
      "cell_type": "code",
      "metadata": {
        "id": "nxqk5audF40s"
      },
      "source": [
        "colloc.keys()"
      ],
      "execution_count": null,
      "outputs": []
    },
    {
      "cell_type": "code",
      "metadata": {
        "id": "LoNz3memGKok"
      },
      "source": [
        "colloc.values()"
      ],
      "execution_count": null,
      "outputs": []
    },
    {
      "cell_type": "markdown",
      "metadata": {
        "id": "2kv7T-kjHHzR"
      },
      "source": [
        "Co método items() accedemos ao par chave-valor."
      ]
    },
    {
      "cell_type": "code",
      "metadata": {
        "id": "qdwqF2JiHNks"
      },
      "source": [
        "colloc.items()"
      ],
      "execution_count": null,
      "outputs": []
    },
    {
      "cell_type": "markdown",
      "source": [
        "#### Set\n",
        "\n",
        "Un conxunto é un tipo de datos iterábel, non ordenado, mutable e que non permite duplicados. Declárase mediante o uso de chaves."
      ],
      "metadata": {
        "id": "ZvQd9DczmZGt"
      }
    },
    {
      "cell_type": "code",
      "source": [
        "primes = {2, 3, 5, 7, 11, 11, 13, 17}\n",
        "\n",
        "print(type(primes))\n",
        "\n",
        "primes\n"
      ],
      "metadata": {
        "colab": {
          "base_uri": "https://localhost:8080/"
        },
        "id": "kP79uAIaPvjM",
        "outputId": "7aed88a4-1f79-41be-9f8f-299306cad118"
      },
      "execution_count": null,
      "outputs": [
        {
          "output_type": "stream",
          "name": "stdout",
          "text": [
            "<class 'set'>\n"
          ]
        },
        {
          "output_type": "execute_result",
          "data": {
            "text/plain": [
              "{2, 3, 5, 7, 11, 13, 17}"
            ]
          },
          "metadata": {},
          "execution_count": 35
        }
      ]
    },
    {
      "cell_type": "markdown",
      "source": [
        "Unha vez inicializado o conxunto, é posíbel engadir máis elementos mediante os métodos `add()` (un elemento) ou `update()` (varios)."
      ],
      "metadata": {
        "id": "_PSLKQ7Wm6P-"
      }
    },
    {
      "cell_type": "code",
      "source": [
        "primes = {2, 3, 5, 7, 11, 11, 13, 17}\n",
        "primes.add(19)\n",
        "\n",
        "primes"
      ],
      "metadata": {
        "colab": {
          "base_uri": "https://localhost:8080/"
        },
        "id": "sUMEDmGynDGj",
        "outputId": "03a86912-5c92-4b09-bbe3-4b0e975f24c5"
      },
      "execution_count": null,
      "outputs": [
        {
          "output_type": "execute_result",
          "data": {
            "text/plain": [
              "{2, 3, 5, 7, 11, 13, 17, 19}"
            ]
          },
          "metadata": {},
          "execution_count": 36
        }
      ]
    },
    {
      "cell_type": "code",
      "source": [
        "primes.update([23, 29, 31, 31, 31])\n",
        "\n",
        "primes"
      ],
      "metadata": {
        "colab": {
          "base_uri": "https://localhost:8080/"
        },
        "id": "tFpkyvJtn6cd",
        "outputId": "25f88d6a-1914-4c7b-a6ef-1cd75bc6bf21"
      },
      "execution_count": null,
      "outputs": [
        {
          "output_type": "execute_result",
          "data": {
            "text/plain": [
              "{2, 3, 5, 7, 11, 13, 17, 19, 23, 29, 31}"
            ]
          },
          "metadata": {},
          "execution_count": 37
        }
      ]
    },
    {
      "cell_type": "markdown",
      "source": [
        "#### Tuple\n",
        "\n",
        "Unha tupla é un tipo de datos iterábel, ordenado e inmutábel. É similar a unha lista, mais non se pode modificar."
      ],
      "metadata": {
        "id": "CxOCMyDVoacx"
      }
    },
    {
      "cell_type": "code",
      "source": [
        "# Declaración de tupla sen elementos\n",
        "tuple1 = ()\n",
        "\n",
        "print(len(tuple1))\n",
        "print(type(tuple1))"
      ],
      "metadata": {
        "colab": {
          "base_uri": "https://localhost:8080/"
        },
        "id": "czrwDQpHqqNU",
        "outputId": "a1b6e628-3e3b-49c7-e046-56f05602bde5"
      },
      "execution_count": null,
      "outputs": [
        {
          "output_type": "stream",
          "name": "stdout",
          "text": [
            "0\n",
            "<class 'tuple'>\n"
          ]
        }
      ]
    },
    {
      "cell_type": "code",
      "source": [
        "# Declaración de tupla con un elemento\n",
        "tuple2 = (24,)\n",
        "\n",
        "print(len(tuple2))\n",
        "print(type(tuple2))\n"
      ],
      "metadata": {
        "colab": {
          "base_uri": "https://localhost:8080/"
        },
        "id": "NYpJwCQiqxc7",
        "outputId": "d892dbcb-3eb9-4d8e-d79b-6cbd6e98c841"
      },
      "execution_count": null,
      "outputs": [
        {
          "output_type": "stream",
          "name": "stdout",
          "text": [
            "1\n",
            "<class 'tuple'>\n"
          ]
        }
      ]
    },
    {
      "cell_type": "code",
      "source": [
        "# Declaración de tupla con varios elementos (tamén duplicados) e acceso mediante índices\n",
        "tuple3 = (24, 15, 15, 15, \"ovni\", 1.65, True)\n",
        "\n",
        "print(len(tuple3))\n",
        "print(type(tuple3))\n",
        "\n",
        "tuple3[4]"
      ],
      "metadata": {
        "colab": {
          "base_uri": "https://localhost:8080/",
          "height": 71
        },
        "id": "PZNNn0aVrMJ4",
        "outputId": "279f727f-6100-4338-e15b-1a40eaa8856d"
      },
      "execution_count": null,
      "outputs": [
        {
          "output_type": "stream",
          "name": "stdout",
          "text": [
            "7\n",
            "<class 'tuple'>\n"
          ]
        },
        {
          "output_type": "execute_result",
          "data": {
            "text/plain": [
              "'ovni'"
            ],
            "application/vnd.google.colaboratory.intrinsic+json": {
              "type": "string"
            }
          },
          "metadata": {},
          "execution_count": 41
        }
      ]
    },
    {
      "cell_type": "markdown",
      "metadata": {
        "id": "9cCjpwXskNm7"
      },
      "source": [
        "### Casting\n",
        "\n",
        "Unha operación de casting cambia o tipo dun obxecto. Dependendo do tipo de casting poden supor perda de información."
      ]
    },
    {
      "cell_type": "code",
      "metadata": {
        "id": "OBnd-G4hkNm7"
      },
      "source": [
        "# De enteiro a decimal\n",
        "float(8)"
      ],
      "execution_count": null,
      "outputs": []
    },
    {
      "cell_type": "code",
      "metadata": {
        "id": "kcH-mfjVkNm8"
      },
      "source": [
        "# De decimal a enteiro\n",
        "int(3.9881)"
      ],
      "execution_count": null,
      "outputs": []
    },
    {
      "cell_type": "code",
      "metadata": {
        "id": "dIGO58wAkNm8"
      },
      "source": [
        "# Casting a cadea de texto\n",
        "str(3.998)"
      ],
      "execution_count": null,
      "outputs": []
    },
    {
      "cell_type": "code",
      "source": [
        "# Casting de cadea a numérico\n",
        "\n",
        "# Enteiro\n",
        "int(\"4\")"
      ],
      "metadata": {
        "id": "-rfzikjcomMd"
      },
      "execution_count": null,
      "outputs": []
    },
    {
      "cell_type": "code",
      "source": [
        "# Decimal\n",
        "float(\"4.980\")"
      ],
      "metadata": {
        "id": "6zvlA8LAo5g-"
      },
      "execution_count": null,
      "outputs": []
    },
    {
      "cell_type": "code",
      "source": [
        "# Casting de lista a conxunto (set), pérdese a información dos elementos duplicados\n",
        "set([2, 2, 3, 5, 5, 5, 7, 11, 11, 13, 17])"
      ],
      "metadata": {
        "id": "-Zon3lE1s4dl"
      },
      "execution_count": null,
      "outputs": []
    },
    {
      "cell_type": "code",
      "source": [
        "# Casting de lista a tupla\n",
        "tuple([2, 2, 3, 5, 5, 5, 7, 11, 11, 13, 17])"
      ],
      "metadata": {
        "id": "_Cc_DUN7tRFX"
      },
      "execution_count": null,
      "outputs": []
    },
    {
      "cell_type": "markdown",
      "source": [
        "E se os tipos non son os correctos ao facer o casting?"
      ],
      "metadata": {
        "id": "AK4g025Eo9DE"
      }
    },
    {
      "cell_type": "code",
      "source": [
        "int(\"isto non vai\")"
      ],
      "metadata": {
        "id": "NNtDpZaKpBoF"
      },
      "execution_count": null,
      "outputs": []
    },
    {
      "cell_type": "markdown",
      "source": [
        "### Tipos mutábeis e inmutábeis\n",
        "\n",
        "Os tipos de datos inmutábeis son aqueles aos que non se lle pode modificar o estado unha vez creados. En Python, son inmutábeis os tipos escalares (cadeas, datos numéricos) e algúns dos non escalares (tuplas). Pola contra, son mutábeis as listas, os dicionarios e os conxuntos.\n",
        "\n",
        "Exemplos:\n",
        "\n",
        "**Strings**"
      ],
      "metadata": {
        "id": "Sx0pGGmwNcpU"
      }
    },
    {
      "cell_type": "code",
      "source": [
        "cadea = \"Olá\"\n",
        "print(cadea)\n",
        "id(cadea)"
      ],
      "metadata": {
        "id": "Weg604zwORWE"
      },
      "execution_count": null,
      "outputs": []
    },
    {
      "cell_type": "code",
      "source": [
        "cadea = cadea + \" mundo!\"\n",
        "print(cadea)\n",
        "id(cadea)"
      ],
      "metadata": {
        "id": "vnoT25bdOXcT"
      },
      "execution_count": null,
      "outputs": []
    },
    {
      "cell_type": "markdown",
      "source": [
        "**Listas**"
      ],
      "metadata": {
        "id": "xdsybxjwOpw_"
      }
    },
    {
      "cell_type": "code",
      "source": [
        "lista = [1, 4, \"verde\"]\n",
        "print(lista)\n",
        "id(lista)"
      ],
      "metadata": {
        "id": "g6_Ru3-zOsVJ"
      },
      "execution_count": null,
      "outputs": []
    },
    {
      "cell_type": "code",
      "source": [
        "lista.append(8)\n",
        "lista.remove(\"verde\")\n",
        "print(lista)\n",
        "id(lista)"
      ],
      "metadata": {
        "id": "baPhZGGRO1lw"
      },
      "execution_count": null,
      "outputs": []
    },
    {
      "cell_type": "markdown",
      "metadata": {
        "id": "7CFQ1WDXS6jp"
      },
      "source": [
        "## Operadores"
      ]
    },
    {
      "cell_type": "markdown",
      "metadata": {
        "id": "JLzNDF0dkNm8"
      },
      "source": [
        "### Aritméticos"
      ]
    },
    {
      "cell_type": "markdown",
      "metadata": {
        "id": "R-o6V2ODTCt5"
      },
      "source": [
        "operador      |   significado\n",
        "--------------|----------------\n",
        "`**`          | Exponente\n",
        "`%`           | Módulo (resto)\n",
        "`//`\t        | División enteira\n",
        "`/`\t          | División\n",
        "`*`\t          | Multiplicación\n",
        "`-`\t          | Resta\n",
        "`+`           | Suma\n",
        "\n",
        "**Exemplos**:"
      ]
    },
    {
      "cell_type": "code",
      "metadata": {
        "id": "xa3zK6XsU3fe"
      },
      "source": [
        "4 / 3"
      ],
      "execution_count": null,
      "outputs": []
    },
    {
      "cell_type": "markdown",
      "metadata": {
        "id": "CYs9J9B4kNm9"
      },
      "source": [
        "Na división enteira descártase a parte decimal."
      ]
    },
    {
      "cell_type": "code",
      "metadata": {
        "id": "QU2s2NFdSb9F"
      },
      "source": [
        "# División enteira\n",
        "4 // 3"
      ],
      "execution_count": null,
      "outputs": []
    },
    {
      "cell_type": "markdown",
      "metadata": {
        "id": "I8qnKZPMkNm9"
      },
      "source": [
        "Cando unha división non enteira é exacta devolve un float."
      ]
    },
    {
      "cell_type": "code",
      "metadata": {
        "id": "UaDFy5OJkNm9"
      },
      "source": [
        "# División enteira sen resto\n",
        "4 / 2"
      ],
      "execution_count": null,
      "outputs": []
    },
    {
      "cell_type": "code",
      "metadata": {
        "id": "j1VoyaykU1Fl"
      },
      "source": [
        "# Módulo\n",
        "4 % 2"
      ],
      "execution_count": null,
      "outputs": []
    },
    {
      "cell_type": "markdown",
      "metadata": {
        "id": "99IMFysANAcf"
      },
      "source": [
        "O operador composto permite facer a un tempo a operación e a asignación."
      ]
    },
    {
      "cell_type": "code",
      "metadata": {
        "id": "UgvhY1LzNKSB"
      },
      "source": [
        "x = 5\n",
        "x += 15\n",
        "print(x)\n",
        "\n",
        "x //= 4\n",
        "print(x)"
      ],
      "execution_count": null,
      "outputs": []
    },
    {
      "cell_type": "markdown",
      "metadata": {
        "id": "SL5S1fxdkNnB"
      },
      "source": [
        "#### Precedencia"
      ]
    },
    {
      "cell_type": "code",
      "metadata": {
        "id": "pQ3DaFTvkNnC"
      },
      "source": [
        "2 + 3 * 4"
      ],
      "execution_count": null,
      "outputs": []
    },
    {
      "cell_type": "code",
      "metadata": {
        "id": "Nhj2FDmKkNnE"
      },
      "source": [
        "2 + (3 * 4)"
      ],
      "execution_count": null,
      "outputs": []
    },
    {
      "cell_type": "code",
      "metadata": {
        "id": "i0jsqQXnkNnE"
      },
      "source": [
        "(2 + 3) * 4"
      ],
      "execution_count": null,
      "outputs": []
    },
    {
      "cell_type": "markdown",
      "metadata": {
        "id": "tNaSZwdiUtiA"
      },
      "source": [
        "### Relacionais\n",
        "\n",
        "Teñen como resultado sempre un booleano (True ou False).\n",
        "\n",
        "operador       |    significado\n",
        "---------------|-------------------\n",
        "==             | igual\n",
        "!=             | distinto\n",
        "<              | menor que\n",
        ">              | maior que\n",
        "<=             | menor ou igual que\n",
        ">=             | maior ou igual que"
      ]
    },
    {
      "cell_type": "code",
      "metadata": {
        "id": "tpejZ6RHkNnF"
      },
      "source": [
        "4 < 5"
      ],
      "execution_count": null,
      "outputs": []
    },
    {
      "cell_type": "code",
      "metadata": {
        "id": "GnzwrpkVkNnF"
      },
      "source": [
        "4 == 5"
      ],
      "execution_count": null,
      "outputs": []
    },
    {
      "cell_type": "code",
      "metadata": {
        "id": "prXs4R-tkNnF"
      },
      "source": [
        "x = y = 10\n",
        "x != y"
      ],
      "execution_count": null,
      "outputs": []
    },
    {
      "cell_type": "markdown",
      "metadata": {
        "id": "5IVQ_Y_Cq43B"
      },
      "source": [
        "### Lóxicos\n",
        "\n",
        "Permiten avaliar expresións que teñen como resultado un booleano.\n",
        "\n",
        "- `and`"
      ]
    },
    {
      "cell_type": "code",
      "metadata": {
        "id": "blmilUknrwT5"
      },
      "source": [
        "print(x)\n",
        "x < 100 and x > 1"
      ],
      "execution_count": null,
      "outputs": []
    },
    {
      "cell_type": "markdown",
      "metadata": {
        "id": "lg0PZbau1ixs"
      },
      "source": [
        "- or"
      ]
    },
    {
      "cell_type": "code",
      "metadata": {
        "id": "rypNY7gy1ncd"
      },
      "source": [
        "x > 20 or x < 11"
      ],
      "execution_count": null,
      "outputs": []
    },
    {
      "cell_type": "markdown",
      "metadata": {
        "id": "Dpqvp6rK14A2"
      },
      "source": [
        "- not"
      ]
    },
    {
      "cell_type": "code",
      "metadata": {
        "id": "BsAwSUYa15ln"
      },
      "source": [
        "not x > 20"
      ],
      "execution_count": null,
      "outputs": []
    },
    {
      "cell_type": "code",
      "metadata": {
        "id": "h9UNIMch3SMN"
      },
      "source": [
        "txt = 'actuar'\n",
        "'c' in txt and len(txt) > 6"
      ],
      "execution_count": null,
      "outputs": []
    },
    {
      "cell_type": "code",
      "metadata": {
        "id": "vPjBY6XG5m3-"
      },
      "source": [
        "x = None\n",
        "y = 5\n",
        "x or y"
      ],
      "execution_count": null,
      "outputs": []
    },
    {
      "cell_type": "code",
      "metadata": {
        "id": "ye3ohWmY6WNr"
      },
      "source": [
        "x = 1\n",
        "x or y"
      ],
      "execution_count": null,
      "outputs": []
    },
    {
      "cell_type": "markdown",
      "metadata": {
        "id": "jHh_W-hlOFZf"
      },
      "source": [
        "## Control de fluxo"
      ]
    },
    {
      "cell_type": "markdown",
      "metadata": {
        "id": "smyviuNfOMpu"
      },
      "source": [
        "### Condicional `if`\n",
        "\n",
        "Comproba se unha expresión é certa."
      ]
    },
    {
      "cell_type": "code",
      "metadata": {
        "id": "ja9NeS-zOG8Q"
      },
      "source": [
        "num = 5\n",
        "if num < 3:\n",
        "  print(\"menor a 3\")\n",
        "elif num <= 5:\n",
        "  print(\"menor ou igual a 5\")\n",
        "else:\n",
        "  print(\"maior de 5\")"
      ],
      "execution_count": null,
      "outputs": []
    },
    {
      "cell_type": "markdown",
      "metadata": {
        "id": "j5ri5BvxQOfq"
      },
      "source": [
        "### Bucle `for`\n",
        "\n",
        "Permite percorrer un grupo de elementos que sexan iterábeis (por exemplo, as listas)."
      ]
    },
    {
      "cell_type": "code",
      "source": [
        "for n in [1, 2, 3]:\n",
        "  print(n)\n",
        "\n",
        "colloc"
      ],
      "metadata": {
        "id": "n6g3T1XTYdX4"
      },
      "execution_count": null,
      "outputs": []
    },
    {
      "cell_type": "code",
      "metadata": {
        "id": "jTYRAg_gOKuA"
      },
      "source": [
        "for k, v in colloc.items():\n",
        "  print(f\"chave: {k} // valor: {v}\")\n",
        "  print(\"chave: {} // valor: {}\".format(k, v))\n",
        "\n",
        "print(\"\\nFibonacci\\n\")\n",
        "\n",
        "fibonacci = [1, 1, 2, 3, 5, 8, 13, 21]\n",
        "for idx, num in enumerate(fibonacci):\n",
        "  print(f\"posición {idx}: {num}\")\n",
        "\n",
        "print(\"\\nFibonacci ^ 2\\n\")\n",
        "\n",
        "for num in (fibonacci):\n",
        "  print(num * num)"
      ],
      "execution_count": null,
      "outputs": []
    },
    {
      "cell_type": "markdown",
      "source": [
        "Podemos utilizar a función `range()` para producir unha secuencia de números e percorrelos mediante un bucle.\n",
        "\n",
        "Sintaxe: `range([init], end, [step])`\n",
        "\n",
        "Crea unha secuencia de números comezando por `init` (incluído) e finalizando por `end` (non incluído), con salto de `step`. Se non se especifica `init`, enténdese por omisión 0. Da mesma maneira, se non se especifica `step` o valor empregado será 1."
      ],
      "metadata": {
        "id": "1cPjyg_WzpHs"
      }
    },
    {
      "cell_type": "code",
      "source": [
        "# secuencia entre 0 e 9\n",
        "for num in range(10):\n",
        "    print(num)"
      ],
      "metadata": {
        "id": "3Rp1qCne0yF9"
      },
      "execution_count": null,
      "outputs": []
    },
    {
      "cell_type": "code",
      "source": [
        "# secuencia entre 0 e 9 de 3 en 3\n",
        "for num in range(0, 10, 3):\n",
        "    print(num)"
      ],
      "metadata": {
        "id": "1G6DS75I1BIB"
      },
      "execution_count": null,
      "outputs": []
    },
    {
      "cell_type": "code",
      "source": [
        "# secuencia entre 10 e 1 de 2 en 2\n",
        "for num in range(10, 0, -2):\n",
        "    print(num)"
      ],
      "metadata": {
        "id": "ji8ZOYF41R1z"
      },
      "execution_count": null,
      "outputs": []
    },
    {
      "cell_type": "markdown",
      "metadata": {
        "id": "piXdTwOr43Ze"
      },
      "source": [
        "### Bucle `while`\n",
        "\n",
        "Executa un bucle mentras se cumpla a condición."
      ]
    },
    {
      "cell_type": "code",
      "metadata": {
        "id": "VZ6exCwx69ZV"
      },
      "source": [
        "x = 0\n",
        "while x < 5:\n",
        "  print(f'{x} * 2 = {x * 2}')\n",
        "  x += 1"
      ],
      "execution_count": null,
      "outputs": []
    },
    {
      "cell_type": "markdown",
      "metadata": {
        "id": "QkRqDInz7uzs"
      },
      "source": [
        "É posible forzar a saída mediante `break` sen necesidade de chegar a que se cumpla a condición."
      ]
    },
    {
      "cell_type": "code",
      "metadata": {
        "id": "pnBHdtpk74IU"
      },
      "source": [
        "x = 29\n",
        "while x > 0:\n",
        "  print(f\"x = {x}\")\n",
        "  if x % 5 == 0:\n",
        "    break\n",
        "  x -= 1"
      ],
      "execution_count": null,
      "outputs": []
    },
    {
      "cell_type": "markdown",
      "metadata": {
        "id": "taXuzbyAB8C_"
      },
      "source": [
        "Cando hai bucles aniñados, o `break` sae do bucle no que está, non de todos."
      ]
    },
    {
      "cell_type": "code",
      "metadata": {
        "id": "wkqBa1uIB5fL"
      },
      "source": [
        "x = 380\n",
        "primes = [1]\n",
        "while x > 1:\n",
        "  for n in range(2, x + 1):\n",
        "    if x % n == 0:\n",
        "      primes.append(n)\n",
        "      x //= n\n",
        "      break\n",
        "\n",
        "print(primes)"
      ],
      "execution_count": null,
      "outputs": []
    },
    {
      "cell_type": "markdown",
      "metadata": {
        "id": "7K185tZBCbJt"
      },
      "source": [
        "Mediante `continue` podemos interromper a execución do código nun punto e facer que salte á seguinte iteración."
      ]
    },
    {
      "cell_type": "code",
      "metadata": {
        "id": "E_5-mNur92wa"
      },
      "source": [
        "x = 19\n",
        "while x > 0:\n",
        "  if x % 2 == 0:\n",
        "    x -= 1\n",
        "    continue\n",
        "\n",
        "  print(f\"Número impar {x}\")\n",
        "  x -= 1"
      ],
      "execution_count": null,
      "outputs": []
    },
    {
      "cell_type": "markdown",
      "metadata": {
        "id": "3sPNvrFSGBYE"
      },
      "source": [
        "## Funcións\n",
        "\n",
        "Permiten crear bloques de código que se pode executar moitas veces ao largo do script. A súa sintaxe típica é:\n",
        "\n",
        "```\n",
        "def nome(arg1, arg2, argN):\n",
        "    código\n",
        "    código\n",
        "\n",
        "    return valor\n",
        "```\n",
        "\n",
        "Se non se especifica un valor de retorno, as funcións devolven `None`."
      ]
    },
    {
      "cell_type": "code",
      "metadata": {
        "id": "HYUr2gv0tlBE"
      },
      "source": [
        "def factors(x):\n",
        "  factors = [1]\n",
        "  while x > 1:\n",
        "    for n in range(2, x + 1):\n",
        "      if x % n == 0:\n",
        "        factors.append(n)\n",
        "        x //= n\n",
        "        break\n",
        "  return factors\n",
        "\n",
        "\n",
        "n1 = 380\n",
        "n2 = 96\n",
        "\n",
        "factors1 = factors(n1)\n",
        "factors2 = factors(n2)\n",
        "\n",
        "print(f'Factores de {n1}: {factors1}')\n",
        "print(f'Factores de {n2}: {factors2}')"
      ],
      "execution_count": null,
      "outputs": []
    },
    {
      "cell_type": "markdown",
      "metadata": {
        "id": "QRpYYMBhy7Gr"
      },
      "source": [
        "### Ámbito das variables\n",
        "\n",
        "As variables declaradas dentro dunha función son locais e só accesibles desde esa función. As variables declaradas fóra de funcións pertencen ao ámbito global e son visibles desde calquera punto do código. Porén, para poder traballar con elas (por exemplo, modificalas), deberemos declaralas como globais con `global`."
      ]
    },
    {
      "cell_type": "code",
      "metadata": {
        "id": "dQ9xDK0GwGHd"
      },
      "source": [
        "def func():\n",
        "  a = 10\n",
        "  global b\n",
        "  print(f'(dentro func 1) a: {a}, b: {b}, c: {c}')\n",
        "\n",
        "  a += 20\n",
        "  b -= 150\n",
        "  print(f'(dentro func 2) a: {a}, b: {b}, c: {c}')\n",
        "\n",
        "\n",
        "a = 100\n",
        "b = 200\n",
        "c = 300\n",
        "\n",
        "print(f'(fóra func 1) a: {a}, b: {b}, c: {c}')\n",
        "func()\n",
        "print(f'(fóra func 2) a: {a}, b: {b}, c: {c}')"
      ],
      "execution_count": null,
      "outputs": []
    },
    {
      "cell_type": "markdown",
      "metadata": {
        "id": "R-0Uc7PPfLoz"
      },
      "source": [
        "## Métodos\n",
        "\n",
        "Son como as funcións, pero aplícanse sempre sobre un obxecto mediante o operador punto ('.').\n",
        "\n",
        "```\n",
        "obxecto.metodo(arg1, arg2, argN)\n",
        "```\n",
        "\n",
        "Coas funcións comparten o feito de poderen recibir diferentes argumentos e que sempre devolven polo menos un valor (que por omisión será `None`).\n",
        "\n",
        "A diferenza das funcións, só poderemos definir os nosos propios metodos dentro de clases.\n",
        "\n",
        "Como os métodos van necesariamente ligados a un obxecto, pódense clasificar en función do tipo de obxecto.\n",
        "\n",
        "\n"
      ]
    },
    {
      "cell_type": "markdown",
      "metadata": {
        "id": "RcCfsn_muSPC"
      },
      "source": [
        "### `String`\n",
        "\n",
        "Algúns dos métodos máis importantes do tipo de obxecto `String`:\n",
        "\n"
      ]
    },
    {
      "cell_type": "markdown",
      "metadata": {
        "id": "6rOy8UTYuWvS"
      },
      "source": [
        "#### `split()`\n",
        "\n",
        "Sintaxe: `str.split([sep], [maxsplits])`\n",
        "\n",
        "Devolve a lista de elementos resultante de separar a cadea `str` polo separador `sep`."
      ]
    },
    {
      "cell_type": "code",
      "metadata": {
        "id": "96yBJwGJnwpw"
      },
      "source": [
        "sample = \"135,9,6\"\n",
        "sample.split(\",\")"
      ],
      "execution_count": null,
      "outputs": []
    },
    {
      "cell_type": "markdown",
      "metadata": {
        "id": "3KyW_WzgxC5f"
      },
      "source": [
        "Se non se especifica `sep`, toma o espazo en branco por omisión."
      ]
    },
    {
      "cell_type": "code",
      "metadata": {
        "id": "lWeQdccqxG0X"
      },
      "source": [
        "sample = \"Devolve a lista de elementos resultante de separar a cadea str polo separador separator.\"\n",
        "sample.split()"
      ],
      "execution_count": null,
      "outputs": []
    },
    {
      "cell_type": "markdown",
      "metadata": {
        "id": "PsHxO9mj1Iw_"
      },
      "source": [
        "Se queremos cambiar a orde natural dos argumentos do método ou ben omitimos algún, nese caso debemos facer explícito o argumento fornecido."
      ]
    },
    {
      "cell_type": "code",
      "metadata": {
        "id": "Pv4SRTj_zqZB"
      },
      "source": [
        "sample.split(maxsplit=5)"
      ],
      "execution_count": null,
      "outputs": []
    },
    {
      "cell_type": "code",
      "metadata": {
        "id": "WMJo1_2Z4Tvf"
      },
      "source": [
        "sample = \"superficie,ocupar;32,64,8;6.49363310277496\"\n",
        "sample.split(maxsplit=1, sep=\";\")"
      ],
      "execution_count": null,
      "outputs": []
    },
    {
      "cell_type": "markdown",
      "metadata": {
        "id": "tNAPssR_zpMm"
      },
      "source": [
        "Esta última sería equivalente a:"
      ]
    },
    {
      "cell_type": "code",
      "metadata": {
        "id": "6DOtQ47E4q6w"
      },
      "source": [
        "sample.split(\";\", 1)"
      ],
      "execution_count": null,
      "outputs": []
    },
    {
      "cell_type": "markdown",
      "metadata": {
        "id": "WYix0DcK5DWo"
      },
      "source": [
        "#### `lower()`, `upper()`, `swapcase()`, `capitalize()`, `title()`\n",
        "\n",
        "Mudan para maiúsculas ou minúsculas segundo o método empregado, devolvendo a cadea modificada. Non aceptan argumento ningún."
      ]
    },
    {
      "cell_type": "code",
      "metadata": {
        "id": "AU_OrUQo5T04"
      },
      "source": [
        "sample = \"Devolvería a lista de elementos resultante\"\n",
        "print(\"upper(): \", sample.upper())\n",
        "print(\"lower(): \", sample.lower())\n",
        "print(\"swapcase(): \", sample.swapcase())"
      ],
      "execution_count": null,
      "outputs": []
    },
    {
      "cell_type": "code",
      "metadata": {
        "id": "AoMFioa06oFR"
      },
      "source": [
        "sample = \"un método é diferente a unha función\"\n",
        "print(\"capitalize(): \", sample.capitalize())\n",
        "print(\"title(): \", sample.title())"
      ],
      "execution_count": null,
      "outputs": []
    },
    {
      "cell_type": "markdown",
      "metadata": {
        "id": "oZb16s5pJz-F"
      },
      "source": [
        "#### `islower()`, `isupper()`, `istitle()`\n",
        "\n",
        "Algúns dos métodos anteriores teñen o seu correlato para averiguar se unha cadea está en maiúsculas, minúsculas ou é un título.\n",
        "\n"
      ]
    },
    {
      "cell_type": "code",
      "metadata": {
        "id": "q0H5e9nlMaNy"
      },
      "source": [
        "sample.upper().isupper()"
      ],
      "execution_count": null,
      "outputs": []
    },
    {
      "cell_type": "code",
      "metadata": {
        "id": "1DSpSyxkM13U"
      },
      "source": [
        "sample.lower().isupper()"
      ],
      "execution_count": null,
      "outputs": []
    },
    {
      "cell_type": "markdown",
      "metadata": {
        "id": "SmI6aY3l833U"
      },
      "source": [
        "#### `join()`\n",
        "\n",
        "Permite unir os elementos dun iterábel, devolvendo unha cadea co resultado.\n",
        "\n",
        "Sintaxe: `str.join(iterable)`"
      ]
    },
    {
      "cell_type": "code",
      "metadata": {
        "id": "QXONEmm09S1t"
      },
      "source": [
        "lista = \"Devolvería a lista de elementos resultante\".split()\n",
        "print(lista)\n",
        "\";;\".join(lista)"
      ],
      "execution_count": null,
      "outputs": []
    },
    {
      "cell_type": "markdown",
      "metadata": {
        "id": "6mg_WIPN9vov"
      },
      "source": [
        "#### `strip()`, `lstrip()`, `rstrip()`\n",
        "\n",
        "Permiten eliminar espazos en branco nos estremos (dereito, esquerdo ou os dous) dunha cadea. Son moi útiles para limpar a entrada cando foi producida de forma manual."
      ]
    },
    {
      "cell_type": "code",
      "metadata": {
        "id": "S2zdkzZd-jWn"
      },
      "source": [
        "sample = 'rol,jugar,parte,tener     '\n",
        "sample.rstrip()\n"
      ],
      "execution_count": null,
      "outputs": []
    },
    {
      "cell_type": "markdown",
      "metadata": {
        "id": "nX3Cni8h_Gm3"
      },
      "source": [
        "Tamén se poden especificar os caracteres que queremos eliminar."
      ]
    },
    {
      "cell_type": "code",
      "metadata": {
        "id": "gGd4Xm8t_Lv_"
      },
      "source": [
        "s2 = sample.rstrip()\n",
        "s2.strip('r')"
      ],
      "execution_count": null,
      "outputs": []
    },
    {
      "cell_type": "markdown",
      "metadata": {
        "id": "X2eVauLo_hlM"
      },
      "source": [
        "Os métodos poden polo xeral concatenarse nunha única expresión. O exemplo anterior podería ser reescrito como:"
      ]
    },
    {
      "cell_type": "code",
      "metadata": {
        "id": "UaQXrWpt_xKQ"
      },
      "source": [
        "sample.rstrip().strip('r')"
      ],
      "execution_count": null,
      "outputs": []
    },
    {
      "cell_type": "code",
      "metadata": {
        "id": "Lh8sLgVpAB6M"
      },
      "source": [
        "sample.rstrip().strip('r').upper().split(',')"
      ],
      "execution_count": null,
      "outputs": []
    },
    {
      "cell_type": "markdown",
      "metadata": {
        "id": "PdGn4n2hHnCe"
      },
      "source": [
        "#### `startswith()`, `endswith()`\n",
        "\n",
        "Devolven un booleano indicando se unha cadea comeza ou finaliza dunha determinada maneira.\n",
        "\n",
        "Sintaxe: str.startswith(str)"
      ]
    },
    {
      "cell_type": "code",
      "metadata": {
        "id": "x5f8UiUYHlr9"
      },
      "source": [
        "sample.startswith('rol')"
      ],
      "execution_count": null,
      "outputs": []
    },
    {
      "cell_type": "code",
      "metadata": {
        "id": "LZK_-9jDIOOy"
      },
      "source": [
        "sample.endswith(',')"
      ],
      "execution_count": null,
      "outputs": []
    },
    {
      "cell_type": "markdown",
      "metadata": {
        "id": "bLlT7oYFaycX"
      },
      "source": [
        "#### `find()`, `index()`\n",
        "\n",
        "Estes métodos permiten localizar unhas cadeas dentro de outras. A diferenza entre elas está principalmente en que `find()` devolve `-1` se non encontra o que se procura, mentres que `index()` produce unha excepción. No caso de que si encontre a cadea procurada, devolve a posición do primeiro carácter.\n",
        "\n",
        "Sintaxe:    \n",
        "> `str.find(string)`   \n",
        "> `str.index(string)`    "
      ]
    },
    {
      "cell_type": "code",
      "metadata": {
        "id": "ItyDXpPMbNzs"
      },
      "source": [
        "print(sample)\n",
        "sample.index(\"método\")"
      ],
      "execution_count": null,
      "outputs": []
    },
    {
      "cell_type": "code",
      "metadata": {
        "id": "A3LLHyHsbcfO"
      },
      "source": [
        "try:\n",
        "    pos = sample.index(\"metodo\")\n",
        "except ValueError:\n",
        "    pos = None\n",
        "    print(\"Non se encontrou a cadea procurada, e index() provoca unha excepción de tipo ValueError.\")"
      ],
      "execution_count": null,
      "outputs": []
    },
    {
      "cell_type": "code",
      "metadata": {
        "id": "mVwS6DBPcQeE"
      },
      "source": [
        "sample.find(\"método\")"
      ],
      "execution_count": null,
      "outputs": []
    },
    {
      "cell_type": "code",
      "metadata": {
        "id": "Vi6FuuZFcU-d"
      },
      "source": [
        "sample.find(\"tener\")"
      ],
      "execution_count": null,
      "outputs": []
    },
    {
      "cell_type": "markdown",
      "metadata": {
        "id": "hFiO-f2FeQBz"
      },
      "source": [
        "#### `replace()`\n",
        "\n",
        "Permite substituír unha secuencia de caracteres por outra dentro dunha cadea. Se especificamos un terceiro argumento, a substitución só se fará `count` veces.\n",
        "\n",
        "Sintaxe\n",
        "\n",
        "> `str.replace(old, new[, count])`"
      ]
    },
    {
      "cell_type": "code",
      "metadata": {
        "id": "J9tUpPuaetR6"
      },
      "source": [
        "sample = \"Isto é unha proba, é unha proba.\"\n",
        "sample.replace('un', 'UN')"
      ],
      "execution_count": null,
      "outputs": []
    },
    {
      "cell_type": "code",
      "metadata": {
        "id": "o6ZVl_oPfq5b"
      },
      "source": [
        "sample.replace('é', 'e', 1)"
      ],
      "execution_count": null,
      "outputs": []
    },
    {
      "cell_type": "markdown",
      "metadata": {
        "id": "xPqDgCeage44"
      },
      "source": [
        "#### `count()`\n",
        "\n",
        "Devolve o número de veces que unha secuencia de caracteres aparece dentro dunha cadea.\n",
        "\n",
        "Sintaxe:\n",
        "\n",
        "> str.count(substring)"
      ]
    },
    {
      "cell_type": "code",
      "metadata": {
        "id": "G5PZzM_6gfef"
      },
      "source": [
        "sample.count('un')"
      ],
      "execution_count": null,
      "outputs": []
    },
    {
      "cell_type": "markdown",
      "source": [
        "### `List`\n",
        "\n",
        "Algúns dos métodos máis importantes do tipo de obxecto `List`:\n"
      ],
      "metadata": {
        "id": "jAD1RwUzu8CT"
      }
    },
    {
      "cell_type": "markdown",
      "source": [
        "#### `sort()`\n",
        "\n",
        "Sintaxe: `list.sort([key=func()], [reverse=True|False])`\n",
        "\n",
        "Ordena (*in-place*) unha lista alfabeticamente de menor a maior, aínda que con `reverse=True` podemos obter a orde descendente. Con `key` é posíbel especificar unha función de ordenación de un argumento que se emprega para obter unha chave de comparación para cada elemento da lista."
      ],
      "metadata": {
        "id": "zldJR68mvBG2"
      }
    },
    {
      "cell_type": "code",
      "source": [
        "# Orde ascendente\n",
        "cores = ['laranxa', 'negro', 'verde', 'azul', 'branco', 'amarelo']\n",
        "cores.sort()\n",
        "\n",
        "print(cores)"
      ],
      "metadata": {
        "colab": {
          "base_uri": "https://localhost:8080/"
        },
        "id": "Q1k__Ey_ySdE",
        "outputId": "98f7debf-b60e-4280-ed72-591866bf9884"
      },
      "execution_count": null,
      "outputs": [
        {
          "output_type": "stream",
          "name": "stdout",
          "text": [
            "['amarelo', 'azul', 'branco', 'laranxa', 'negro', 'verde']\n"
          ]
        }
      ]
    },
    {
      "cell_type": "markdown",
      "source": [
        "Orde descendente."
      ],
      "metadata": {
        "id": "HUoQYmcBxLU_"
      }
    },
    {
      "cell_type": "code",
      "source": [
        "# Orde descendente\n",
        "cores = ['laranxa', 'negro', 'verde', 'azul', 'branco', 'amarelo']\n",
        "cores.sort(reverse=True)\n",
        "\n",
        "print(cores)"
      ],
      "metadata": {
        "colab": {
          "base_uri": "https://localhost:8080/"
        },
        "id": "-WVOGjOpy4OD",
        "outputId": "0b3194f1-48f6-4afd-9219-1ba14e097f18"
      },
      "execution_count": null,
      "outputs": [
        {
          "output_type": "stream",
          "name": "stdout",
          "text": [
            "['verde', 'negro', 'laranxa', 'branco', 'azul', 'amarelo']\n"
          ]
        }
      ]
    },
    {
      "cell_type": "markdown",
      "source": [
        "**Ollo:**"
      ],
      "metadata": {
        "id": "8ltzdz2FwpOv"
      }
    },
    {
      "cell_type": "code",
      "source": [
        "cores = ['laranxa', 'negro', 'verde', 'Azul', 'branco', 'amarelo']\n",
        "cores.sort()\n",
        "\n",
        "print(cores)"
      ],
      "metadata": {
        "colab": {
          "base_uri": "https://localhost:8080/"
        },
        "id": "bCaWT4J7w8QK",
        "outputId": "a757c1c7-793c-411f-80c8-d66c68cfd49a"
      },
      "execution_count": null,
      "outputs": [
        {
          "output_type": "stream",
          "name": "stdout",
          "text": [
            "['Azul', 'amarelo', 'branco', 'laranxa', 'negro', 'verde']\n"
          ]
        }
      ]
    },
    {
      "cell_type": "markdown",
      "source": [
        "Por que muda a ordenación neste caso?\n",
        "\n",
        "> https://www.ascii-code.com/  \n",
        "> https://en.wikipedia.org/wiki/Basic_Latin_(Unicode_block)  \n",
        "> https://docs.python.org/3/library/stdtypes.html#list.sort\n",
        "\n",
        "Pódese resolver empregando unha función de ordenación que normalice.\n"
      ],
      "metadata": {
        "id": "Zd_68MH_xYbj"
      }
    },
    {
      "cell_type": "code",
      "source": [
        "def normalize(s):\n",
        "  return s.lower()\n",
        "\n",
        "cores = ['laranxa', 'negro', 'verde', 'Azul', 'branco', 'amarelo']\n",
        "cores.sort(key=normalize)\n",
        "\n",
        "print(cores)"
      ],
      "metadata": {
        "colab": {
          "base_uri": "https://localhost:8080/"
        },
        "id": "dYXdyVgW3Zsr",
        "outputId": "45a261a3-0d06-4275-b7c8-b20ce9b87266"
      },
      "execution_count": null,
      "outputs": [
        {
          "output_type": "stream",
          "name": "stdout",
          "text": [
            "['amarelo', 'Azul', 'branco', 'laranxa', 'negro', 'verde']\n"
          ]
        }
      ]
    },
    {
      "cell_type": "markdown",
      "source": [
        "Outros exemplos de uso:"
      ],
      "metadata": {
        "id": "d5AYeSLR9C9j"
      }
    },
    {
      "cell_type": "code",
      "source": [
        "# Orde ascendente por tamaño do elemento (usando función básica)\n",
        "cores = ['laranxa', 'negro', 'verde', 'azul', 'branco', 'amarelo']\n",
        "cores.sort(key=len)\n",
        "\n",
        "print(cores)"
      ],
      "metadata": {
        "colab": {
          "base_uri": "https://localhost:8080/"
        },
        "id": "9f93KRxAzAIO",
        "outputId": "f173cbf7-48a7-4120-d73c-f73c18052f53"
      },
      "execution_count": null,
      "outputs": [
        {
          "output_type": "stream",
          "name": "stdout",
          "text": [
            "['azul', 'negro', 'verde', 'branco', 'laranxa', 'amarelo']\n"
          ]
        }
      ]
    },
    {
      "cell_type": "code",
      "source": [
        "# Orde descendente alfabético comezando polo final do item (usando función definida)\n",
        "def rev(s):\n",
        "  return s[::-1].lower()\n",
        "\n",
        "cores = ['laranxa', 'negro', 'verde', 'azul', 'branco', 'AMARELO']\n",
        "\n",
        "cores.sort(key=rev, reverse=True)\n",
        "\n",
        "print(cores)"
      ],
      "metadata": {
        "colab": {
          "base_uri": "https://localhost:8080/"
        },
        "id": "YokcojNwzcc5",
        "outputId": "2ecc2b94-9d90-41e7-c3e9-dbab28d9dbd3"
      },
      "execution_count": null,
      "outputs": [
        {
          "output_type": "stream",
          "name": "stdout",
          "text": [
            "['negro', 'AMARELO', 'branco', 'azul', 'verde', 'laranxa']\n"
          ]
        }
      ]
    },
    {
      "cell_type": "markdown",
      "source": [
        "#### `count(item)`\n",
        "\n",
        "Devolve a cantidade de veces que `item` aparece na lista."
      ],
      "metadata": {
        "id": "ObR4GlD49Xf4"
      }
    },
    {
      "cell_type": "code",
      "source": [
        "cores = ['laranxa', 'negro', 'verde', 'azul', 'branco', 'verde', 'amarelo']\n",
        "\n",
        "cores.count('verde')"
      ],
      "metadata": {
        "colab": {
          "base_uri": "https://localhost:8080/"
        },
        "id": "rdJRwMai9r9F",
        "outputId": "7d0d0e71-8c36-493f-fcea-d77cfbc008bb"
      },
      "execution_count": null,
      "outputs": [
        {
          "output_type": "execute_result",
          "data": {
            "text/plain": [
              "2"
            ]
          },
          "metadata": {},
          "execution_count": 51
        }
      ]
    },
    {
      "cell_type": "markdown",
      "source": [
        "#### `clear()`\n",
        "\n",
        "Elimina todos os elementos da lista."
      ],
      "metadata": {
        "id": "C6x4-2mP-K3w"
      }
    },
    {
      "cell_type": "code",
      "source": [
        "print(\"Antes:\", cores)\n",
        "\n",
        "cores.clear()\n",
        "\n",
        "print(\"Despois:\", cores)"
      ],
      "metadata": {
        "colab": {
          "base_uri": "https://localhost:8080/"
        },
        "id": "0ZCGpR0z-UOh",
        "outputId": "f3177b73-3065-480e-985c-418c83d59a60"
      },
      "execution_count": null,
      "outputs": [
        {
          "output_type": "stream",
          "name": "stdout",
          "text": [
            "Antes: ['laranxa', 'negro', 'verde', 'azul', 'branco', 'verde', 'amarelo']\n",
            "Despois: []\n"
          ]
        }
      ]
    },
    {
      "cell_type": "markdown",
      "source": [
        "#### `reverse()`\n",
        "\n",
        "Invirte a orde dos elementos nunha lista."
      ],
      "metadata": {
        "id": "sNLNnRpXACbe"
      }
    },
    {
      "cell_type": "code",
      "source": [
        "cores = ['negro', 'amarelo', 'branco', 'azul', 'verde', 'laranxa']\n",
        "\n",
        "cores.reverse()\n",
        "\n",
        "cores"
      ],
      "metadata": {
        "colab": {
          "base_uri": "https://localhost:8080/"
        },
        "id": "pbbXB55GAK1s",
        "outputId": "861cadcb-29ba-4050-b7d6-2ff1630e7916"
      },
      "execution_count": null,
      "outputs": [
        {
          "output_type": "execute_result",
          "data": {
            "text/plain": [
              "['laranxa', 'verde', 'azul', 'branco', 'amarelo', 'negro']"
            ]
          },
          "metadata": {},
          "execution_count": 53
        }
      ]
    },
    {
      "cell_type": "markdown",
      "source": [
        "#### `index()`\n",
        "\n",
        "Sintaxe: `list.index(x, [start, end])`\n",
        "\n",
        "Devolve o índice en que se encontra o primeiro elemento `x` na lista, comenzando en `start` e finalizando en `end` (por omisión a lista completa). Se o elemento non existe produce unha excepción."
      ],
      "metadata": {
        "id": "029_jvZkBmCF"
      }
    },
    {
      "cell_type": "code",
      "source": [
        "cores = ['laranxa', 'negro', 'verde', 'azul', 'branco', 'verde', 'amarelo']\n",
        "\n",
        "# Índice de 'verde' na lista completa\n",
        "cores.index('verde')"
      ],
      "metadata": {
        "colab": {
          "base_uri": "https://localhost:8080/"
        },
        "id": "PeZvNkxiSZPS",
        "outputId": "429c4c76-56f2-4780-8135-1ff69b5b0d0b"
      },
      "execution_count": null,
      "outputs": [
        {
          "output_type": "execute_result",
          "data": {
            "text/plain": [
              "2"
            ]
          },
          "metadata": {},
          "execution_count": 54
        }
      ]
    },
    {
      "cell_type": "code",
      "source": [
        "# Índice de 'verde' a partir do elemento 4\n",
        "cores.index('verde', 4)"
      ],
      "metadata": {
        "colab": {
          "base_uri": "https://localhost:8080/"
        },
        "id": "Fc8A_eGAS90Z",
        "outputId": "9c98ad3b-140e-41fb-8cc2-a7dcd7131d58"
      },
      "execution_count": null,
      "outputs": [
        {
          "output_type": "execute_result",
          "data": {
            "text/plain": [
              "5"
            ]
          },
          "metadata": {},
          "execution_count": 55
        }
      ]
    },
    {
      "cell_type": "code",
      "source": [
        "# Elemento non existente tratado con try:except\n",
        "try:\n",
        "  cores.index('cincento')\n",
        "except:\n",
        "  print(\"A cor 'cincento' non está na lista.\")"
      ],
      "metadata": {
        "colab": {
          "base_uri": "https://localhost:8080/"
        },
        "id": "GFL_hfLHTNSG",
        "outputId": "5a28928f-ba7d-400e-feeb-5a143cb53b12"
      },
      "execution_count": null,
      "outputs": [
        {
          "output_type": "stream",
          "name": "stdout",
          "text": [
            "A cor 'cincento' non está na lista.\n"
          ]
        }
      ]
    },
    {
      "cell_type": "markdown",
      "source": [
        "#### `copy()`\n",
        "\n",
        "Devolve unha copia da lista."
      ],
      "metadata": {
        "id": "yjpczmBp_WTS"
      }
    },
    {
      "cell_type": "code",
      "source": [
        "cores = ['laranxa', 'negro', 'verde', 'azul', 'branco', 'verde', 'amarelo']\n",
        "\n",
        "print(\"Lista orixinal:\", id(cores))\n",
        "\n",
        "cores_copy = cores.copy()\n",
        "print(\"Lista duplicada:\", id(cores_copy))"
      ],
      "metadata": {
        "colab": {
          "base_uri": "https://localhost:8080/"
        },
        "id": "Z73mSA3z_d9l",
        "outputId": "59ea1124-9c7e-4733-fe5b-e888740fcc90"
      },
      "execution_count": null,
      "outputs": [
        {
          "output_type": "stream",
          "name": "stdout",
          "text": [
            "Lista orixinal: 135722164642304\n",
            "Lista duplicada: 135722164886016\n"
          ]
        }
      ]
    },
    {
      "cell_type": "markdown",
      "source": [
        "Ollo: non se debe duplicar unha lista mediante operador de asignación."
      ],
      "metadata": {
        "id": "QnoGKh1f_4K1"
      }
    },
    {
      "cell_type": "code",
      "source": [
        "cores_asign = cores\n",
        "\n",
        "print(\"Lista copiada co operador de asignación:\", id(cores_asign))"
      ],
      "metadata": {
        "colab": {
          "base_uri": "https://localhost:8080/"
        },
        "id": "5CtL4taj_--H",
        "outputId": "81a0d348-ee09-42c3-de5a-32b8462e812c"
      },
      "execution_count": null,
      "outputs": [
        {
          "output_type": "stream",
          "name": "stdout",
          "text": [
            "Lista copiada co operador de asignación: 135722164642304\n"
          ]
        }
      ]
    },
    {
      "cell_type": "code",
      "source": [
        "print(\"Lista orixinal:            \", cores)\n",
        "print(\"Lista duplicada con copy():\", cores_copy)\n",
        "print(\"Lista duplicada con =:     \", cores_asign)"
      ],
      "metadata": {
        "colab": {
          "base_uri": "https://localhost:8080/"
        },
        "id": "FuJ12vxsANHI",
        "outputId": "1df511ab-b5a8-49ef-d8fb-23bf4cbe4837"
      },
      "execution_count": null,
      "outputs": [
        {
          "output_type": "stream",
          "name": "stdout",
          "text": [
            "Lista orixinal:             ['laranxa', 'negro', 'verde', 'azul', 'branco', 'verde', 'amarelo']\n",
            "Lista duplicada con copy(): ['laranxa', 'negro', 'verde', 'azul', 'branco', 'verde', 'amarelo']\n",
            "Lista duplicada con =:      ['laranxa', 'negro', 'verde', 'azul', 'branco', 'verde', 'amarelo']\n"
          ]
        }
      ]
    },
    {
      "cell_type": "code",
      "source": [
        "print(\"Eliminamos 'laranxa' da lista duplicada con copy()\")\n",
        "cores_copy.remove('laranxa')\n",
        "\n",
        "print(\"Eliminamos 'negro' da lista duplicada con =\")\n",
        "cores_asign.remove('negro')"
      ],
      "metadata": {
        "colab": {
          "base_uri": "https://localhost:8080/"
        },
        "id": "44LZnX3nA1q5",
        "outputId": "f61f1dea-9d21-4461-d4dc-4cd7a535465f"
      },
      "execution_count": null,
      "outputs": [
        {
          "output_type": "stream",
          "name": "stdout",
          "text": [
            "Eliminamos 'laranxa' da lista duplicada con copy()\n",
            "Eliminamos 'negro' da lista duplicada con =\n"
          ]
        }
      ]
    },
    {
      "cell_type": "code",
      "source": [
        "print(\"Lista orixinal:              \", cores)\n",
        "print(\"Lista 1 duplicada con copy():\", cores_copy)\n",
        "print(\"Lista 2 duplicada con =:     \", cores_asign)"
      ],
      "metadata": {
        "colab": {
          "base_uri": "https://localhost:8080/"
        },
        "id": "wcEGA6UWBAOl",
        "outputId": "dde70673-f41a-4cca-96cd-638e9350cf41"
      },
      "execution_count": null,
      "outputs": [
        {
          "output_type": "stream",
          "name": "stdout",
          "text": [
            "Lista orixinal:               ['laranxa', 'verde', 'azul', 'branco', 'verde', 'amarelo']\n",
            "Lista 1 duplicada con copy(): ['negro', 'verde', 'azul', 'branco', 'verde', 'amarelo']\n",
            "Lista 2 duplicada con =:      ['laranxa', 'verde', 'azul', 'branco', 'verde', 'amarelo']\n"
          ]
        }
      ]
    },
    {
      "cell_type": "markdown",
      "source": [
        "Isto é algo que é importante ter en conta nos tipos de datos mutábeis, co que tamén afecta aos dicionarios e conxuntos."
      ],
      "metadata": {
        "id": "qgGetqc5FslO"
      }
    },
    {
      "cell_type": "markdown",
      "source": [
        "### Dict\n",
        "\n",
        "Algúns dos métodos máis importantes do tipo de obxecto `Dict`:"
      ],
      "metadata": {
        "id": "J__M3zZaG0Ne"
      }
    },
    {
      "cell_type": "markdown",
      "source": [
        "#### `clear()`\n",
        "\n",
        "Elimina todos os elementos do dicionario."
      ],
      "metadata": {
        "id": "1iKQGsjUtdY6"
      }
    },
    {
      "cell_type": "code",
      "source": [
        "word_freqs = {\n",
        "  \"the\": 19,\n",
        "  \"book\": 3,\n",
        "  \"is\": 20,\n",
        "  \"on\": 16,\n",
        "  \"table\": 5\n",
        "}\n",
        "\n",
        "print(word_freqs)\n",
        "\n",
        "word_freqs.clear()\n",
        "\n",
        "print(word_freqs)"
      ],
      "metadata": {
        "colab": {
          "base_uri": "https://localhost:8080/"
        },
        "id": "FDNleVNQtgzp",
        "outputId": "9429ac4b-2d9a-4819-9014-122395a34aa1"
      },
      "execution_count": null,
      "outputs": [
        {
          "output_type": "stream",
          "name": "stdout",
          "text": [
            "{'the': 19, 'book': 3, 'is': 20, 'on': 16, 'table': 5}\n",
            "{}\n"
          ]
        }
      ]
    },
    {
      "cell_type": "markdown",
      "source": [
        "#### `copy()`\n",
        "\n",
        "Devolve unha copia do dicionario."
      ],
      "metadata": {
        "id": "0E2G5YbKu-hB"
      }
    },
    {
      "cell_type": "code",
      "source": [
        "word_freqs = {\n",
        "  \"the\": 19,\n",
        "  \"book\": 3,\n",
        "  \"is\": 20,\n",
        "  \"on\": 16,\n",
        "  \"table\": 5\n",
        "}\n",
        "\n",
        "copia = word_freqs.copy()\n",
        "print(id(word_freqs), word_freqs)\n",
        "print(id(copia), copia)"
      ],
      "metadata": {
        "colab": {
          "base_uri": "https://localhost:8080/"
        },
        "id": "zV_tx0qgvAoR",
        "outputId": "6318e015-3d6e-4d95-c8f0-4c14fffe6a7c"
      },
      "execution_count": null,
      "outputs": [
        {
          "output_type": "stream",
          "name": "stdout",
          "text": [
            "135722164749824 {'the': 19, 'book': 3, 'is': 20, 'on': 16, 'table': 5}\n",
            "135721993611136 {'the': 19, 'book': 3, 'is': 20, 'on': 16, 'table': 5}\n"
          ]
        }
      ]
    },
    {
      "cell_type": "markdown",
      "source": [
        "#### `fromkeys(keys, [value])`\n",
        "\n",
        "Devolve un dicionario coas chaves especificadas como `keys` co mesmo valor (`value`). Se non se inclúe `value`, o valor asignado ás chaves é `None`."
      ],
      "metadata": {
        "id": "gmkW059O20Hn"
      }
    },
    {
      "cell_type": "code",
      "source": [
        "words = ['in', 'a', 'hole', 'the', 'ground', 'there', 'lived', 'hobbit', '.']\n",
        "\n",
        "freqs = dict.fromkeys(words, 0)\n",
        "\n",
        "freqs"
      ],
      "metadata": {
        "colab": {
          "base_uri": "https://localhost:8080/"
        },
        "id": "U84bWe7X5Ps6",
        "outputId": "edffdacf-aaf3-44c8-e917-24cc2b00ae2a"
      },
      "execution_count": null,
      "outputs": [
        {
          "output_type": "execute_result",
          "data": {
            "text/plain": [
              "{'in': 0,\n",
              " 'a': 0,\n",
              " 'hole': 0,\n",
              " 'the': 0,\n",
              " 'ground': 0,\n",
              " 'there': 0,\n",
              " 'lived': 0,\n",
              " 'hobbit': 0,\n",
              " '.': 0}"
            ]
          },
          "metadata": {},
          "execution_count": 64
        }
      ]
    },
    {
      "cell_type": "markdown",
      "source": [
        "#### `get(key, [fallback])`\n",
        "\n",
        "Devolve o valor do dicionario asociado á chave `key`. Se a chave non existe, devolve `fallback` (por omisión é `None`)."
      ],
      "metadata": {
        "id": "FhCc4Q-U6xaL"
      }
    },
    {
      "cell_type": "code",
      "source": [
        "word_freqs = {\n",
        "  \"the\": 19,\n",
        "  \"book\": 3,\n",
        "  \"is\": 20,\n",
        "  \"on\": 16,\n",
        "  \"table\": 5\n",
        "}\n",
        "\n",
        "nouns = [\"table\", \"chair\"]\n",
        "for noun in nouns:\n",
        "    print(f\"{noun}:\", word_freqs.get(noun, f'non hai entrada para {noun}'))"
      ],
      "metadata": {
        "colab": {
          "base_uri": "https://localhost:8080/"
        },
        "id": "1Z6oMYTe8Mlw",
        "outputId": "e598777d-c25c-47ca-e292-121dae956309"
      },
      "execution_count": null,
      "outputs": [
        {
          "output_type": "stream",
          "name": "stdout",
          "text": [
            "table: 5\n",
            "chair: non hai entrada para chair\n"
          ]
        }
      ]
    },
    {
      "cell_type": "markdown",
      "source": [
        "É importante usar `get()` para recuperar elementos dun dicionario, especialmente cando exista posibilidade de que as chaves que tratamos de recuperar non existan."
      ],
      "metadata": {
        "id": "c-VRuEIR9qUt"
      }
    },
    {
      "cell_type": "code",
      "source": [
        "\n",
        "print(word_freqs.get('chair'))\n",
        "print(word_freqs['chair'])"
      ],
      "metadata": {
        "colab": {
          "base_uri": "https://localhost:8080/",
          "height": 216
        },
        "id": "zlaOegjN99JX",
        "outputId": "3dc7c6d3-e628-42e1-986a-3b7f09865477"
      },
      "execution_count": null,
      "outputs": [
        {
          "output_type": "stream",
          "name": "stdout",
          "text": [
            "None\n"
          ]
        },
        {
          "output_type": "error",
          "ename": "KeyError",
          "evalue": "'chair'",
          "traceback": [
            "\u001b[0;31m---------------------------------------------------------------------------\u001b[0m",
            "\u001b[0;31mKeyError\u001b[0m                                  Traceback (most recent call last)",
            "\u001b[0;32m<ipython-input-66-d3194c966098>\u001b[0m in \u001b[0;36m<cell line: 2>\u001b[0;34m()\u001b[0m\n\u001b[1;32m      1\u001b[0m \u001b[0mprint\u001b[0m\u001b[0;34m(\u001b[0m\u001b[0mword_freqs\u001b[0m\u001b[0;34m.\u001b[0m\u001b[0mget\u001b[0m\u001b[0;34m(\u001b[0m\u001b[0;34m'chair'\u001b[0m\u001b[0;34m)\u001b[0m\u001b[0;34m)\u001b[0m\u001b[0;34m\u001b[0m\u001b[0;34m\u001b[0m\u001b[0m\n\u001b[0;32m----> 2\u001b[0;31m \u001b[0mprint\u001b[0m\u001b[0;34m(\u001b[0m\u001b[0mword_freqs\u001b[0m\u001b[0;34m[\u001b[0m\u001b[0;34m'chair'\u001b[0m\u001b[0;34m]\u001b[0m\u001b[0;34m)\u001b[0m\u001b[0;34m\u001b[0m\u001b[0;34m\u001b[0m\u001b[0m\n\u001b[0m",
            "\u001b[0;31mKeyError\u001b[0m: 'chair'"
          ]
        }
      ]
    },
    {
      "cell_type": "markdown",
      "source": [
        "#### `pop(key, [value])`\n",
        "\n",
        "Elimina o elemento do dicionario con chave `key`. Se a chave non existe e non se fornece `value`, producirase un erro de tipo `KeyError`. Se a chave existe, a entrada será suprimida."
      ],
      "metadata": {
        "id": "sYVwKX_4AJAC"
      }
    },
    {
      "cell_type": "code",
      "source": [
        "word_freqs = {\n",
        "  \"the\": 19,\n",
        "  \"book\": 3,\n",
        "  \"is\": 20,\n",
        "  \"on\": 16,\n",
        "  \"table\": 5\n",
        "}"
      ],
      "metadata": {
        "id": "ffzpttYNB6HY"
      },
      "execution_count": null,
      "outputs": []
    },
    {
      "cell_type": "code",
      "source": [
        "# Chave non existente sen valor = KeyError\n",
        "word_freqs.pop(\"chair\")"
      ],
      "metadata": {
        "colab": {
          "base_uri": "https://localhost:8080/",
          "height": 198
        },
        "id": "Rq7nb0kNCBtS",
        "outputId": "9f0ecf29-454e-456b-eae4-030b2dc9e2ce"
      },
      "execution_count": null,
      "outputs": [
        {
          "output_type": "error",
          "ename": "KeyError",
          "evalue": "'chair'",
          "traceback": [
            "\u001b[0;31m---------------------------------------------------------------------------\u001b[0m",
            "\u001b[0;31mKeyError\u001b[0m                                  Traceback (most recent call last)",
            "\u001b[0;32m<ipython-input-68-6b12a07b02a3>\u001b[0m in \u001b[0;36m<cell line: 2>\u001b[0;34m()\u001b[0m\n\u001b[1;32m      1\u001b[0m \u001b[0;31m# Chave non existente sen valor = KeyError\u001b[0m\u001b[0;34m\u001b[0m\u001b[0;34m\u001b[0m\u001b[0m\n\u001b[0;32m----> 2\u001b[0;31m \u001b[0mword_freqs\u001b[0m\u001b[0;34m.\u001b[0m\u001b[0mpop\u001b[0m\u001b[0;34m(\u001b[0m\u001b[0;34m\"chair\"\u001b[0m\u001b[0;34m)\u001b[0m\u001b[0;34m\u001b[0m\u001b[0;34m\u001b[0m\u001b[0m\n\u001b[0m",
            "\u001b[0;31mKeyError\u001b[0m: 'chair'"
          ]
        }
      ]
    },
    {
      "cell_type": "code",
      "source": [
        "# Chave non existente con valor\n",
        "word_freqs.pop(\"chair\", \"Chave non existente\")"
      ],
      "metadata": {
        "colab": {
          "base_uri": "https://localhost:8080/",
          "height": 35
        },
        "id": "WXulkh_vCHSM",
        "outputId": "b8c34000-9b75-4d5c-b24c-e9f38f96a865"
      },
      "execution_count": null,
      "outputs": [
        {
          "output_type": "execute_result",
          "data": {
            "text/plain": [
              "'Chave non existente'"
            ],
            "application/vnd.google.colaboratory.intrinsic+json": {
              "type": "string"
            }
          },
          "metadata": {},
          "execution_count": 69
        }
      ]
    },
    {
      "cell_type": "code",
      "source": [
        "# Chave existente\n",
        "word_freqs.pop(\"table\")\n",
        "\n",
        "word_freqs"
      ],
      "metadata": {
        "colab": {
          "base_uri": "https://localhost:8080/"
        },
        "id": "t98A3CF3CSQ8",
        "outputId": "7b241804-cf1c-4efe-ae0b-467243deeab7"
      },
      "execution_count": null,
      "outputs": [
        {
          "output_type": "execute_result",
          "data": {
            "text/plain": [
              "{'the': 19, 'book': 3, 'is': 20, 'on': 16}"
            ]
          },
          "metadata": {},
          "execution_count": 70
        }
      ]
    },
    {
      "cell_type": "markdown",
      "source": [
        "## Comprehensions\n",
        "\n",
        "As *comprehensions* son unha sintaxe alternativa e máis compacta para un bucle `for` que percorre e manipula un elemento iterábel e devolve outra como resultado.\n",
        "\n",
        "Sintaxe:\n",
        "\n",
        "```resultado = [expression for item in iterable]```\n",
        "\n",
        "**Exemplo**\n",
        "\n",
        "A partir dunha lista de enteiros, obter unha lista dos seus cadrados."
      ],
      "metadata": {
        "id": "nAHo-Wo7xtvO"
      }
    },
    {
      "cell_type": "code",
      "source": [
        "# Usando un bucle `for`\n",
        "integers = [2, 3, 4, 5, 6, 9, 14]\n",
        "squares = []\n",
        "for i in integers:\n",
        "    squares.append(i * i)\n",
        "\n",
        "print(squares)"
      ],
      "metadata": {
        "colab": {
          "base_uri": "https://localhost:8080/"
        },
        "id": "zhwZx3xyzQ7S",
        "outputId": "a4f77311-0d04-4537-d659-6d26883451a3"
      },
      "execution_count": null,
      "outputs": [
        {
          "output_type": "stream",
          "name": "stdout",
          "text": [
            "[4, 9, 16, 25, 36, 81, 196]\n"
          ]
        }
      ]
    },
    {
      "cell_type": "code",
      "source": [
        "# Usando unha 'comprehension'\n",
        "integers = [2, 3, 4, 5, 6, 9, 14]\n",
        "squares = [i * i for i in integers]\n",
        "\n",
        "print(squares)"
      ],
      "metadata": {
        "colab": {
          "base_uri": "https://localhost:8080/"
        },
        "id": "RVR7adB31s9_",
        "outputId": "898c4c39-72d0-4b2f-9bc4-69c077d6e7e1"
      },
      "execution_count": null,
      "outputs": [
        {
          "output_type": "stream",
          "name": "stdout",
          "text": [
            "[4, 9, 16, 25, 36, 81, 196]\n"
          ]
        }
      ]
    },
    {
      "cell_type": "markdown",
      "source": [
        "Tamén poden incluír condicionais.\n",
        "\n",
        "Sintaxe:\n",
        "\n",
        "```resultado = [expression for item in iterable if condition == True]```\n",
        "\n",
        "**Exemplo**\n",
        "\n",
        "A partir dunha lista de enteiros, obter unha lista dos cadrados para aqueles enteiros que non sexan pares."
      ],
      "metadata": {
        "id": "7bLxcjjE2ija"
      }
    },
    {
      "cell_type": "code",
      "source": [
        "# Usando un bucle `for`\n",
        "integers = [2, 3, 4, 5, 6, 9, 14]\n",
        "squares = []\n",
        "for i in integers:\n",
        "    if i % 2 != 0:\n",
        "        squares.append(i * i)\n",
        "\n",
        "print(squares)"
      ],
      "metadata": {
        "colab": {
          "base_uri": "https://localhost:8080/"
        },
        "id": "DdUOIBri28tU",
        "outputId": "bd9e6098-8772-4739-a263-6e6a0a318ab9"
      },
      "execution_count": null,
      "outputs": [
        {
          "output_type": "stream",
          "name": "stdout",
          "text": [
            "[9, 25, 81]\n"
          ]
        }
      ]
    },
    {
      "cell_type": "code",
      "source": [
        "# Usando unha 'comprehension'\n",
        "integers = [2, 3, 4, 5, 6, 9, 14]\n",
        "squares = [i * i for i in integers if i% 2 != 0]\n",
        "\n",
        "print(squares)"
      ],
      "metadata": {
        "colab": {
          "base_uri": "https://localhost:8080/"
        },
        "id": "0fABuKPZ2_uV",
        "outputId": "d6ed1619-3f9e-4eb6-de89-cc22974ea818"
      },
      "execution_count": null,
      "outputs": [
        {
          "output_type": "stream",
          "name": "stdout",
          "text": [
            "[9, 25, 81]\n"
          ]
        }
      ]
    },
    {
      "cell_type": "markdown",
      "source": [
        "## Funcións `lambda`\n",
        "\n",
        "Son funcións anónimas que poden tomar calquera número de argumentos, e só unha única expresión.\n",
        "\n",
        "Sintaxe:\n",
        "\n",
        "```lambda x1, [x2], [xn]: expression```\n",
        "\n",
        "**Exemplos**\n",
        "\n",
        "Calcular o cadrado de calquera número."
      ],
      "metadata": {
        "id": "CgJv_3r84dzy"
      }
    },
    {
      "cell_type": "code",
      "source": [
        "# Usando función estándar\n",
        "def square(x):\n",
        "    return x * x\n",
        "\n",
        "print(square(3))\n",
        "print(square(8))"
      ],
      "metadata": {
        "colab": {
          "base_uri": "https://localhost:8080/"
        },
        "id": "lFk9eu-b5nHz",
        "outputId": "c2109859-a20c-4ebc-bf23-7b547e019fc1"
      },
      "execution_count": null,
      "outputs": [
        {
          "output_type": "stream",
          "name": "stdout",
          "text": [
            "9\n",
            "64\n"
          ]
        }
      ]
    },
    {
      "cell_type": "code",
      "source": [
        "# Usando función lambda\n",
        "square = lambda x: x * x\n",
        "\n",
        "print(square(3))\n",
        "print(square(8))"
      ],
      "metadata": {
        "colab": {
          "base_uri": "https://localhost:8080/"
        },
        "id": "OvbJZiFg5SOM",
        "outputId": "792e3ca4-6cb1-4336-c652-64c4ce11cd26"
      },
      "execution_count": null,
      "outputs": [
        {
          "output_type": "stream",
          "name": "stdout",
          "text": [
            "9\n",
            "64\n"
          ]
        }
      ]
    },
    {
      "cell_type": "markdown",
      "source": [
        "Unha función `lambda` que suma tres números."
      ],
      "metadata": {
        "id": "c2QJriUs97_K"
      }
    },
    {
      "cell_type": "code",
      "source": [
        "suma = lambda x, y, z: x + y +z\n",
        "\n",
        "suma(2, 3, 4)"
      ],
      "metadata": {
        "colab": {
          "base_uri": "https://localhost:8080/"
        },
        "id": "V2H-IWMB-Baw",
        "outputId": "8f28462d-2023-4349-fa71-e2617481f115"
      },
      "execution_count": null,
      "outputs": [
        {
          "output_type": "execute_result",
          "data": {
            "text/plain": [
              "9"
            ]
          },
          "metadata": {},
          "execution_count": 78
        }
      ]
    },
    {
      "cell_type": "markdown",
      "source": [
        "Un exemplo algo máis complexo de como se pode usar unha función `lambda` para resolver ecuacións de segundo grao.\n",
        "\n",
        "$\\frac{-b±\\sqrt{b^2-4ac}}{2a}$"
      ],
      "metadata": {
        "id": "zVoULUcc749c"
      }
    },
    {
      "cell_type": "code",
      "source": [
        "from math import sqrt\n",
        "\n",
        "quad_equation = lambda a, b, c: ((-b + sqrt((b * b) - (4 * a * c))) / (2 * a), (-b - sqrt((b * b) - (4 * a * c))) / (2 * a))\n",
        "\n",
        "# x^2 - 5x + 6\n",
        "quad_equation(1, -5, 6)"
      ],
      "metadata": {
        "colab": {
          "base_uri": "https://localhost:8080/"
        },
        "id": "WmxPjEkW7O1g",
        "outputId": "d0b58509-5d15-49f9-9545-fd499ed3236f"
      },
      "execution_count": null,
      "outputs": [
        {
          "output_type": "execute_result",
          "data": {
            "text/plain": [
              "(3.0, 2.0)"
            ]
          },
          "metadata": {},
          "execution_count": 79
        }
      ]
    }
  ]
}