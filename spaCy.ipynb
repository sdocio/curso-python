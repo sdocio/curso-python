{
  "cells": [
    {
      "cell_type": "markdown",
      "id": "91996fe7-7fc0-49d4-8b0b-1bc880a5dc17",
      "metadata": {
        "id": "91996fe7-7fc0-49d4-8b0b-1bc880a5dc17"
      },
      "source": [
        "# Anotação de entidades mencionadas: Trafilatura e spaCy"
      ]
    },
    {
      "cell_type": "markdown",
      "id": "52c74f3d-e18d-4f6b-8699-85f17d245725",
      "metadata": {
        "id": "52c74f3d-e18d-4f6b-8699-85f17d245725"
      },
      "source": [
        "## Trafilatura"
      ]
    },
    {
      "cell_type": "markdown",
      "id": "2da7e499-c63d-4510-9457-faf59bfc7dd8",
      "metadata": {
        "id": "2da7e499-c63d-4510-9457-faf59bfc7dd8"
      },
      "source": [
        "Ferramenta desenvolvida para obter dados textuais da web, podendo ser utilizada como programa de linha de comandos ou como módulo Python.\n",
        "\n",
        "Instalação de Trafilatura utilizando `pip`."
      ]
    },
    {
      "cell_type": "code",
      "execution_count": null,
      "id": "cbdfd9b0-d23c-49d0-9375-dc3039d4d639",
      "metadata": {
        "id": "cbdfd9b0-d23c-49d0-9375-dc3039d4d639"
      },
      "outputs": [],
      "source": [
        "pip install trafilatura"
      ]
    },
    {
      "cell_type": "markdown",
      "id": "7fc10c92-f4ab-4a4f-9036-fe175a08f973",
      "metadata": {
        "id": "7fc10c92-f4ab-4a4f-9036-fe175a08f973"
      },
      "source": [
        "A opção `-h` fornece ajuda."
      ]
    },
    {
      "cell_type": "code",
      "execution_count": null,
      "id": "11ac77b6-c0aa-4bc3-920c-7848be9ec035",
      "metadata": {
        "id": "11ac77b6-c0aa-4bc3-920c-7848be9ec035"
      },
      "outputs": [],
      "source": [
        "!trafilatura -h"
      ]
    },
    {
      "cell_type": "markdown",
      "id": "bed9c7ee-d362-4311-9ecf-8826c23ef904",
      "metadata": {
        "id": "bed9c7ee-d362-4311-9ecf-8826c23ef904"
      },
      "source": [
        "Criamos o ficheiro `list.txt` com a lista de URLs que queremos descarregar em formato de texto para construir o nosso corpus. Isto é apenas uma prova de funcionamento. Em ambientes reais, é aconselhável usar Trafilatura como *web crawler*, pesquisando sites inteiros e seguindo recursivamente links (opções de navegação: `--feed`, `--sitemap`, `--crawl`, etc). Se a lista de sites for grande, é melhor explorar a paralelização de processos (`--parallel`)."
      ]
    },
    {
      "cell_type": "code",
      "execution_count": null,
      "id": "75cf4a1c-ff7a-41ad-806e-f4246a5ea446",
      "metadata": {
        "id": "75cf4a1c-ff7a-41ad-806e-f4246a5ea446"
      },
      "outputs": [],
      "source": [
        "%%bash\n",
        "echo \"https://www.publico.pt/2024/07/08/mundo/noticia/patriotas-europa-novo-grupo-parlamentar-direita-radical-reune-partidos-le-pen-orban-salvini-2096807\n",
        "https://www.publico.pt/2024/06/26/mundo/noticia/alemanha-exige-reconhecimento-direito-israel-existir-conceder-cidadania-2095333\n",
        "https://www.publico.pt/2024/06/30/mundo/noticia/viktor-orban-anuncia-criacao-novo-grupo-direita-radical-parlamento-europeu-2095827\n",
        "https://www.publico.pt/2024/06/22/mundo/noticia/luta-barcelona-alojamento-local-transformada-batalha-juridica-2094894\" > list.txt"
      ]
    },
    {
      "cell_type": "code",
      "source": [
        "!cat list.txt"
      ],
      "metadata": {
        "id": "cT9ZQlYHwsVm"
      },
      "id": "cT9ZQlYHwsVm",
      "execution_count": null,
      "outputs": []
    },
    {
      "cell_type": "markdown",
      "id": "e7df71ef-8822-47fc-9f0c-5e3a34b2fccb",
      "metadata": {
        "id": "e7df71ef-8822-47fc-9f0c-5e3a34b2fccb"
      },
      "source": [
        "Iniciamos o programa indicando que não queremos comentários (`--no-comments`) nem tabelas (`--no-tables`).\n",
        "\n",
        "A lista de URLs a extrair está no ficheiro `list.txt` (opção `-i`) e o resultado será guardado em `textos` (opção `-o`)."
      ]
    },
    {
      "cell_type": "code",
      "execution_count": null,
      "id": "2d658241-14d1-4b1b-91b7-15ecedacff55",
      "metadata": {
        "id": "2d658241-14d1-4b1b-91b7-15ecedacff55"
      },
      "outputs": [],
      "source": [
        "!trafilatura --no-comments --no-tables -i list.txt -o texts"
      ]
    },
    {
      "cell_type": "markdown",
      "id": "8ca116be-c2e1-42f5-b75e-140435a591d7",
      "metadata": {
        "id": "8ca116be-c2e1-42f5-b75e-140435a591d7"
      },
      "source": [
        "*Verificamos* que existem documentos limpos (sem tags HTML) correspondentes às entradas no ficheiro `list.txt`."
      ]
    },
    {
      "cell_type": "code",
      "execution_count": null,
      "id": "320c2f68-c428-45dd-9385-bfab1e0d4ee3",
      "metadata": {
        "id": "320c2f68-c428-45dd-9385-bfab1e0d4ee3"
      },
      "outputs": [],
      "source": [
        "# Lista de documentos na pasta texts\n",
        "\n",
        "!ls texts"
      ]
    },
    {
      "cell_type": "code",
      "execution_count": null,
      "id": "04de07fd-c058-4153-9fa2-8ff2f5992541",
      "metadata": {
        "id": "04de07fd-c058-4153-9fa2-8ff2f5992541"
      },
      "outputs": [],
      "source": [
        "# Três primeiras linhas de um dos documentos descarregados\n",
        "\n",
        "!head -3 texts/PbCd6uixgZ3cGf-e.txt"
      ]
    },
    {
      "cell_type": "markdown",
      "source": [
        "Os titulos dos documentos (primeira linha) não levam pontuação final. O código a seguir carrega cada ficheiro e, se a primeira liña ao finaliza com pontuação, acrescenta um ponto. Também adiciona um salto de linha mais para separar os parágrafos."
      ],
      "metadata": {
        "id": "yC2swHkvyxOf"
      },
      "id": "yC2swHkvyxOf"
    },
    {
      "cell_type": "code",
      "execution_count": null,
      "id": "2d5442ac-2caa-46c7-899d-9dff4e18fcd2",
      "metadata": {
        "id": "2d5442ac-2caa-46c7-899d-9dff4e18fcd2"
      },
      "outputs": [],
      "source": [
        "import glob\n",
        "import regex as re\n",
        "\n",
        "# Abre cada um dos ficheiros em texts com extensão .txt\n",
        "for ifile in glob.glob('texts/*.txt'):\n",
        "    f = open(ifile, 'r')\n",
        "\n",
        "    # Carrega em lines todas as linhas do ficheiro\n",
        "    lines = f.readlines()\n",
        "    f.close()\n",
        "\n",
        "    # Abre ficheiro para escrita com o mesmo nome.\n",
        "    # Este ficheiro levará a pontuação final.\n",
        "    with open(ifile, 'w') as ofile:\n",
        "        # Elimina brancos no início e no final da primeira linha\n",
        "        line = lines[0].strip()\n",
        "\n",
        "        # Se a primeira linha não finaliza em pontuação, acrescenta um ponto\n",
        "        if not re.search(r\"\\p{P}$\", lines[0]):\n",
        "            lines[0] = line + \".\\n\"\n",
        "\n",
        "        # Escreve de volta todas as linhas (já com a primeira modificada) para\n",
        "        # o ficheiro de saída\n",
        "        # Ao unirmos as linhas con '\\n' (salto de linha), no final teremos dous\n",
        "        # saltos en vez de um\n",
        "        ofile.write(\"\\n\".join(lines))"
      ]
    },
    {
      "cell_type": "code",
      "execution_count": null,
      "id": "8d8bc024-ab77-4217-b066-62c82a0c1012",
      "metadata": {
        "id": "8d8bc024-ab77-4217-b066-62c82a0c1012"
      },
      "outputs": [],
      "source": [
        "# Seis primeiras linhas do mesmo ficheiro, agora modificado\n",
        "\n",
        "!head -6 texts/PbCd6uixgZ3cGf-e.txt"
      ]
    },
    {
      "cell_type": "markdown",
      "id": "cde2ec63-2e1b-4c9b-ac8d-6aa0c4f197c0",
      "metadata": {
        "id": "cde2ec63-2e1b-4c9b-ac8d-6aa0c4f197c0"
      },
      "source": [
        "Máis información:\n",
        "\n",
        "- https://trafilatura.readthedocs.io/en/latest/tutorials.html"
      ]
    },
    {
      "cell_type": "markdown",
      "id": "8c377337-ace5-40f7-ac61-b21907f35222",
      "metadata": {
        "id": "8c377337-ace5-40f7-ac61-b21907f35222"
      },
      "source": [
        "## spaCy"
      ]
    },
    {
      "cell_type": "markdown",
      "id": "4c7585a9-39b0-4acc-99b9-e680a8e8e1ef",
      "metadata": {
        "id": "4c7585a9-39b0-4acc-99b9-e680a8e8e1ef"
      },
      "source": [
        "spaCy é um módulo ou biblioteca Python para processamento de linguagem natural e suporte para mais de 64 idiomas. Inclui componentes como o reconhecimento das entidades mencionadas, a anotação morfossintáctica, lematização, análise de dependências sintácticas, segmentação em frases, entre outras.\n",
        "\n",
        "![spaCy pipeline](https://spacy.io/images/pipeline.svg \"spaCy pipeline\")\n",
        "\n",
        "URL: https://spacy.io/"
      ]
    },
    {
      "cell_type": "markdown",
      "id": "ed2338dd-5eb5-412a-9525-6939a1e34c5a",
      "metadata": {
        "id": "ed2338dd-5eb5-412a-9525-6939a1e34c5a"
      },
      "source": [
        "### Instalação de spaCy"
      ]
    },
    {
      "cell_type": "code",
      "execution_count": null,
      "id": "c6d54f90-9ee5-4b8b-a30e-d6395952edc1",
      "metadata": {
        "id": "c6d54f90-9ee5-4b8b-a30e-d6395952edc1"
      },
      "outputs": [],
      "source": [
        "pip install spacy"
      ]
    },
    {
      "cell_type": "markdown",
      "id": "44071a83-bb11-482a-ad61-3547ae72f135",
      "metadata": {
        "id": "44071a83-bb11-482a-ad61-3547ae72f135"
      },
      "source": [
        "### Instalação de um modelo"
      ]
    },
    {
      "cell_type": "markdown",
      "id": "14516598-ee67-4651-8ea1-67c0c018ff98",
      "metadata": {
        "id": "14516598-ee67-4651-8ea1-67c0c018ff98"
      },
      "source": [
        "Mediante o `spacy download` descarregamos um modelo para português. Os modelos LG (*large*) apresentam *a priori* melhor desempenho que os modelos SM (*small*) ou MD (*medium*), mas também consomem mais recursos."
      ]
    },
    {
      "cell_type": "code",
      "execution_count": null,
      "id": "eab51bef-1a62-4b52-885b-b3b57fa61d29",
      "metadata": {
        "id": "eab51bef-1a62-4b52-885b-b3b57fa61d29"
      },
      "outputs": [],
      "source": [
        "!python -m spacy download pt_core_news_lg\n",
        "# !python -m spacy download pt_core_news_md\n",
        "# !python -m spacy download pt_core_news_sm"
      ]
    },
    {
      "cell_type": "markdown",
      "id": "6bd8c4bf-ab5f-438c-a78f-0a4c0e3e0033",
      "metadata": {
        "id": "6bd8c4bf-ab5f-438c-a78f-0a4c0e3e0033"
      },
      "source": [
        "### Carga do módulo e o modelo"
      ]
    },
    {
      "cell_type": "markdown",
      "id": "7cb7202c-a950-48b5-8d46-acac575330f3",
      "metadata": {
        "id": "7cb7202c-a950-48b5-8d46-acac575330f3"
      },
      "source": [
        "Carregamos o módulo (`import spacy`) e o modelo que queremos utilizar. Neste caso os textos estão em português, pelo que utilizaremos um modelo nesta língua.\n",
        "\n",
        "Os modelos que apresentam maior desempenho são os baseados em *Transformers* (`trf`), mas são também os que requerem mais recursos computacionais e de armazenamento. Atualmente não há modelos baseados em Transformers para português no spaCy.\n",
        "\n",
        "Mais modelos en: https://spacy.io/models"
      ]
    },
    {
      "cell_type": "code",
      "execution_count": null,
      "id": "8b87fbe4-04ab-4098-8593-db58c5b41788",
      "metadata": {
        "id": "8b87fbe4-04ab-4098-8593-db58c5b41788"
      },
      "outputs": [],
      "source": [
        "import spacy\n",
        "\n",
        "nlp = spacy.load(\"pt_core_news_lg\")\n",
        "# nlp = spacy.load(\"pt_core_news_md\")\n",
        "# nlp = spacy.load(\"pt_core_news_sm\")"
      ]
    },
    {
      "cell_type": "markdown",
      "id": "370bb8b2-1b1e-4147-8fdc-345205610378",
      "metadata": {
        "id": "370bb8b2-1b1e-4147-8fdc-345205610378"
      },
      "source": [
        "Lançámos o *pipeline* de processamento do spaCy chamando `nlp()` e processando um pequeno texto de exemplo."
      ]
    },
    {
      "cell_type": "code",
      "execution_count": null,
      "id": "06f9d157-9aae-4475-93f8-974560e7cf49",
      "metadata": {
        "id": "06f9d157-9aae-4475-93f8-974560e7cf49"
      },
      "outputs": [],
      "source": [
        "sample = \"A Google foi fundada pelos cientistas Larry Page e Sergey Brin quando eram estudantes na Universidade de Stanford, na Califórnia.\"\n",
        "\n",
        "doc = nlp(sample)"
      ]
    },
    {
      "cell_type": "markdown",
      "id": "81ba67a8-2d7c-44cb-815d-027d065503c9",
      "metadata": {
        "id": "81ba67a8-2d7c-44cb-815d-027d065503c9"
      },
      "source": [
        "Uma vez lançado o *pipeline*, em `doc` temos os resultados de todos os seus componentes."
      ]
    },
    {
      "cell_type": "code",
      "execution_count": null,
      "id": "39080102-66c8-47bb-8bf7-094158f5d070",
      "metadata": {
        "id": "39080102-66c8-47bb-8bf7-094158f5d070"
      },
      "outputs": [],
      "source": [
        "# Componentes da pipeline\n",
        "\n",
        "nlp.pipe_names"
      ]
    },
    {
      "cell_type": "markdown",
      "id": "63390678-499d-4c28-aca8-e22616403d87",
      "metadata": {
        "id": "63390678-499d-4c28-aca8-e22616403d87"
      },
      "source": [
        "**Etiquetação morfossintática**\n",
        "\n"
      ]
    },
    {
      "cell_type": "code",
      "execution_count": null,
      "id": "e6c129d0-3c4b-4a13-8125-56a1d06b3e97",
      "metadata": {
        "id": "e6c129d0-3c4b-4a13-8125-56a1d06b3e97"
      },
      "outputs": [],
      "source": [
        "# PoS tagging (tagger)\n",
        "for token in doc:\n",
        "    # Imprime cada palabra, o seu lema e a etiqueta morfossintática\n",
        "    print(f'{token.text} {token.lemma_} {token.pos_}')"
      ]
    },
    {
      "cell_type": "markdown",
      "id": "5e5983f9-6c05-4874-8b0b-16207125ec8f",
      "metadata": {
        "id": "5e5983f9-6c05-4874-8b0b-16207125ec8f"
      },
      "source": [
        "**Análise sintática de dependências**"
      ]
    },
    {
      "cell_type": "code",
      "execution_count": null,
      "id": "d7ee6ff0-6c38-4665-b0b0-1c2813073f0a",
      "metadata": {
        "id": "d7ee6ff0-6c38-4665-b0b0-1c2813073f0a"
      },
      "outputs": [],
      "source": [
        "# Dependency parsing (parser)\n",
        "for token in doc:\n",
        "    # Imprime cada palabra, o seu lema, a etiqueta morfossintática, a dependência sintática e o token de que depende (*head*)\n",
        "    print(f'{token.text} {token.lemma_} {token.pos_} {token.dep_} (head: {token.head})')"
      ]
    },
    {
      "cell_type": "markdown",
      "id": "bdeea05a-4f9f-43fe-b8cc-1923ab7c8918",
      "metadata": {
        "id": "bdeea05a-4f9f-43fe-b8cc-1923ab7c8918"
      },
      "source": [
        "**Reconhecimento de Entidades Mencionadas**"
      ]
    },
    {
      "cell_type": "code",
      "execution_count": null,
      "id": "e72e46a2-bf50-4761-b8fb-2b0c0f7abd7a",
      "metadata": {
        "id": "e72e46a2-bf50-4761-b8fb-2b0c0f7abd7a"
      },
      "outputs": [],
      "source": [
        "# Named-Entity Recognition and Classification (NERC)\n",
        "for ent in doc.ents:\n",
        "    # Imprime cada entidade e o seu tipo\n",
        "    print(f'{ent.text} {ent.label_}')"
      ]
    },
    {
      "cell_type": "markdown",
      "id": "06200ced-d222-466f-87a0-61b42287b768",
      "metadata": {
        "id": "06200ced-d222-466f-87a0-61b42287b768"
      },
      "source": [
        "Alguns dos componentes (como *parser* ou *NERC*) incluem um módulo de visualização.\n",
        "\n",
        "Exemplo de visualização do analisador:"
      ]
    },
    {
      "cell_type": "code",
      "execution_count": null,
      "id": "0afb74a5-3e6b-4978-b8bf-e1aed05a5943",
      "metadata": {
        "id": "0afb74a5-3e6b-4978-b8bf-e1aed05a5943"
      },
      "outputs": [],
      "source": [
        "from spacy import displacy\n",
        "\n",
        "small_doc = nlp(\"A Google foi fundada pelos cientistas Larry Page e Sergey Brin.\")\n",
        "displacy.render(small_doc, jupyter=True, style=\"dep\", options={\"distance\": 150})"
      ]
    },
    {
      "cell_type": "markdown",
      "id": "2e9c9be0-434d-432d-9ac2-8ca03db2e18b",
      "metadata": {
        "id": "2e9c9be0-434d-432d-9ac2-8ca03db2e18b"
      },
      "source": [
        "Exemplo de visualização do NER:"
      ]
    },
    {
      "cell_type": "code",
      "execution_count": null,
      "id": "fe74f1d6-d4d9-423a-a388-456676a558a3",
      "metadata": {
        "id": "fe74f1d6-d4d9-423a-a388-456676a558a3"
      },
      "outputs": [],
      "source": [
        "from spacy import displacy\n",
        "\n",
        "options = {\"colors\": {\"DATE\": \"lightgreen\"}}\n",
        "displacy.render(doc, jupyter=True, style=\"ent\", options=options)"
      ]
    },
    {
      "cell_type": "markdown",
      "id": "2e9829ee-0584-4505-8a4e-35a8f72161a7",
      "metadata": {
        "id": "2e9829ee-0584-4505-8a4e-35a8f72161a7"
      },
      "source": [
        "### Processado do corpus"
      ]
    },
    {
      "cell_type": "markdown",
      "id": "b62e984e-3560-4e5c-b2f5-c8c06077475c",
      "metadata": {
        "id": "b62e984e-3560-4e5c-b2f5-c8c06077475c"
      },
      "source": [
        "Utilizaremos o spaCy para processar os textos do corpus e extrair as entidades mencionadas."
      ]
    },
    {
      "cell_type": "code",
      "execution_count": null,
      "id": "faf34956-b2f7-4aec-840d-cf9229f6f293",
      "metadata": {
        "id": "faf34956-b2f7-4aec-840d-cf9229f6f293"
      },
      "outputs": [],
      "source": [
        "import spacy\n",
        "import glob\n",
        "\n",
        "model = \"pt_core_news_lg\"\n",
        "\n",
        "# carregamos o modelo de língua large para PT e desativamos os módulos que não empregaremos\n",
        "nlp = spacy.load(model, disable=[\"tagger\", \"parser\", \"attribute_ruler\"])\n",
        "\n",
        "for input_file in glob.glob('texts/*.txt'):\n",
        "    # Abrimos cada um dos ficheiros em texts\n",
        "    with open(input_file) as ifile:\n",
        "        text = ifile.read()\n",
        "        output_file = input_file[:-3] + 'ner'\n",
        "        # Abrimos o ficheiro de saída, com o mesmo nome mas com extensão .ner\n",
        "        with open(output_file, 'w') as ofile:\n",
        "            # Processamos o texto usando o modelo de spaCy\n",
        "            doc = nlp(text)\n",
        "            for token in doc:\n",
        "                # Produzimos a etiqueta em formato IOB2\n",
        "                # B = Primeiro token de uma entidade mencionada\n",
        "                # I = Segundo token (ou posterior) de uma entidade mencionada\n",
        "                # O = Não é uma entidade mencionada\n",
        "                iob = f'{token.ent_iob_}' if token.ent_iob_ == 'O' else f'{token.ent_iob_}-{token.ent_type_}'\n",
        "\n",
        "                # Escrevemos a palavra, o lema, a etiqueta morfossintática e a etiqueta IOB2\n",
        "                print(f'{token.text} {token.lemma_} {token.pos_} {iob}', file=ofile)"
      ]
    },
    {
      "cell_type": "code",
      "execution_count": null,
      "id": "9f00ae0e-b14c-4042-bc24-255f8e1809c0",
      "metadata": {
        "id": "9f00ae0e-b14c-4042-bc24-255f8e1809c0"
      },
      "outputs": [],
      "source": [
        "!ls texts"
      ]
    },
    {
      "cell_type": "code",
      "execution_count": null,
      "id": "82324861-b7da-4518-ad52-53d682e293b7",
      "metadata": {
        "id": "82324861-b7da-4518-ad52-53d682e293b7"
      },
      "outputs": [],
      "source": [
        "!head -60 texts/PbCd6uixgZ3cGf-e.ner"
      ]
    },
    {
      "cell_type": "markdown",
      "id": "4d4c0cf1-73e3-4e29-b5bf-d589b5166ff8",
      "metadata": {
        "id": "4d4c0cf1-73e3-4e29-b5bf-d589b5166ff8"
      },
      "source": [
        "Podemos usar o displaCy para mostrar as entidades detectadas."
      ]
    },
    {
      "cell_type": "code",
      "execution_count": null,
      "id": "7fa1f705-8e88-4e39-9aba-beb0f37a5370",
      "metadata": {
        "id": "7fa1f705-8e88-4e39-9aba-beb0f37a5370"
      },
      "outputs": [],
      "source": [
        "from spacy import displacy\n",
        "\n",
        "with open(\"texts/PbCd6uixgZ3cGf-e.txt\") as ifile:\n",
        "    text = ifile.read()\n",
        "    doc = nlp(text)\n",
        "\n",
        "options = {\"colors\": {\"DATE\": \"lightgreen\"}}\n",
        "displacy.render(doc, jupyter=True, style=\"ent\", options=options)"
      ]
    }
  ],
  "metadata": {
    "kernelspec": {
      "display_name": "Python 3 (ipykernel)",
      "language": "python",
      "name": "python3"
    },
    "language_info": {
      "codemirror_mode": {
        "name": "ipython",
        "version": 3
      },
      "file_extension": ".py",
      "mimetype": "text/x-python",
      "name": "python",
      "nbconvert_exporter": "python",
      "pygments_lexer": "ipython3",
      "version": "3.11.2"
    },
    "colab": {
      "provenance": []
    }
  },
  "nbformat": 4,
  "nbformat_minor": 5
}
