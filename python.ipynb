{
 "cells": [
  {
   "cell_type": "markdown",
   "metadata": {
    "id": "pLqkvzoNSGPO"
   },
   "source": [
    "# Introdução básica ao Python\n",
    "\n",
    "**Introdução ao Jupyter Notebook**: https://programminghistorian.org/pt/licoes/introducao-jupyter-notebooks"
   ]
  },
  {
   "cell_type": "markdown",
   "metadata": {
    "id": "vYC60-AkfGRc"
   },
   "source": [
    "# Instalação\n",
    "\n",
    "## Implementação de referência\n",
    "\n",
    "1.   **Windows**\n",
    "\n",
    "> https://www.python.org/downloads/windows/\n",
    "\n",
    "\n",
    "2.  **Linux**\n",
    "\n",
    "- Pacotes incluídos em cada distribuição.\n",
    "\n",
    "> `sudo apt install python3`  \n",
    "> `sudo dnf install python3`   \n",
    "> `sudo pacman -Ss python3`   \n",
    "etc\n",
    "\n",
    "- Compilação a partir das fontes.\n",
    "\n",
    "> https://www.python.org/downloads/source/\n",
    "\n",
    "3. **MacOS**\n",
    "\n",
    "> https://www.python.org/downloads/macos/\n",
    "\n",
    "Outras implementações:\n",
    "\n",
    "> https://en.wikipedia.org/wiki/List_of_Python_software#Python_implementations\n",
    "\n",
    "## Distribuição Anaconda3\n",
    "\n",
    "Uma distribuição orientada para Data Science e que usa o `conda` como gestor de pacotes.\n",
    "\n",
    "> https://www.anaconda.com/download#downloads\n",
    "\n",
    "Se apenas estiver interessado no gestor conda e não na distribuição completa, uma alternativa é o `Miniconda`.\n",
    "\n",
    "> https://docs.anaconda.com/free/miniconda/\n",
    "\n",
    "# IDEs\n",
    "\n",
    "- pyCharm: https://www.jetbrains.com/pycharm/\n",
    "- VSCodium: https://vscodium.com\n",
    "- spyder: https://www.spyder-ide.org\n",
    "\n",
    "\n",
    "# Ambientes virtuais\n",
    "\n",
    "São utilizados para criar ambientes isolados com módulos instalados.\n",
    "\n",
    "## `venv`\n",
    "\n",
    "Criação e ativação de um ambiente com `venv`:\n",
    "\n",
    "> `$ python -m venv env`  \n",
    "> `$ source env/bin/activate`\n",
    "\n",
    "Uma vez criado e ativo, podemos instalar módulos através do `pip`.\n",
    "\n",
    "> `$ pip install spacy`\n",
    "\n",
    "Para deactivar o ambiente:\n",
    "\n",
    "> `$ deactivate`\n",
    "\n",
    "## `miniconda`\n",
    "\n",
    "Instalação de `miniconda` (Windows, MacOS e Linux):\n",
    "\n",
    "https://docs.anaconda.com/miniconda/\n",
    "\n",
    "Criação e ativação de um ambiente com `miniconda`:\n",
    "\n",
    "> `conda create --name env`\n",
    "> `conda activate env`\n",
    "\n",
    "Uma vez criado e ativo, podemos instalar módulos utilizando `conda`:\n",
    "\n",
    "> `conda install spacy`\n",
    "\n",
    "Para deactivar o ambiente:\n",
    "\n",
    "> `conda deactivate`"
   ]
  },
  {
   "cell_type": "markdown",
   "metadata": {
    "id": "uR8LyM15YYix"
   },
   "source": [
    "# Um programa Python\n",
    "\n",
    "Um script ou programa Python é um conjunto de definições (por exemplo, variáveis ou funções) e comandos. Para executar código Python, podemos optar por sessões interactivas (intérprete de linha de comandos, *jupyter notebooks*, Google Colab, etc) ou por guardar o código num ficheiro e depois executá-lo com o intérprete.\n",
    "\n",
    "As linhas de código que começam por `#` são consideradas comentários e não são tidas em conta pelo intérprete."
   ]
  },
  {
   "cell_type": "markdown",
   "metadata": {
    "id": "VBfa1DZuaIkt"
   },
   "source": [
    "## Interativo"
   ]
  },
  {
   "cell_type": "code",
   "execution_count": null,
   "metadata": {
    "id": "7ELBnXMjaECM"
   },
   "outputs": [],
   "source": [
    "# Imprime a sequência Olá mundo\n",
    "print(\"Olá mundo\")"
   ]
  },
  {
   "cell_type": "markdown",
   "metadata": {
    "id": "B55Rowr5aLGB"
   },
   "source": [
    "## Não interativo\n",
    "\n",
    "> `$ echo 'print(\"Olá mundo\")' > olamundo.py`  \n",
    "> `$ python olamundo.py`"
   ]
  },
  {
   "cell_type": "markdown",
   "metadata": {
    "id": "fD9JdxeqpqX6"
   },
   "source": [
    "## Indentação\n",
    "\n",
    "Os scripts Python mantêm uma indentação estrita: as expressões que estão ao mesmo nível (dentro do mesmo bloco) devem ter a mesma indentação, e a indentação deve ser consistente em todo o script."
   ]
  },
  {
   "cell_type": "code",
   "execution_count": null,
   "metadata": {
    "id": "SN9eQLJlp9YC"
   },
   "outputs": [],
   "source": [
    "# Correto\n",
    "for x in [1, 2, 3]:\n",
    "    print(x)\n",
    "    print(x * x)"
   ]
  },
  {
   "cell_type": "code",
   "execution_count": null,
   "metadata": {
    "id": "opMpSgO4qEsW"
   },
   "outputs": [],
   "source": [
    "# Incorreto (erro de indentação)\n",
    "for x in [1, 2, 3]:\n",
    "    print(x)\n",
    "       print(x * x)"
   ]
  },
  {
   "cell_type": "code",
   "execution_count": null,
   "metadata": {
    "id": "O2Kz4rbArHPz"
   },
   "outputs": [],
   "source": [
    "# Bug?\n",
    "for x in [1, 2, 3]:\n",
    "    print(x)\n",
    "print(x * x)"
   ]
  },
  {
   "cell_type": "markdown",
   "metadata": {
    "id": "HV7sBiNEAH9C"
   },
   "source": [
    "\n",
    "\n",
    "---\n",
    "\n"
   ]
  },
  {
   "cell_type": "markdown",
   "metadata": {
    "id": "Qvq6zIuhkNmo"
   },
   "source": [
    "# Variáveis\n",
    "\n",
    "As variáveis permitem guardar valores para serem utilizados mais tarde. Para as declarar utilizamos o operador de assignação `=`."
   ]
  },
  {
   "cell_type": "code",
   "execution_count": null,
   "metadata": {
    "id": "a5dC-N9mkNmq"
   },
   "outputs": [],
   "source": [
    "# Numéricas\n",
    "x = 5\n",
    "y = 3.98\n",
    "\n",
    "# Cadeias curtas, rodeadas de ' ou \"\n",
    "text = 'amostra de cadeia'\n",
    "text2 = \"outra amostra de cadeia\"\n",
    "\n",
    "# Cadeias longas ou contendo \" ou saltos de linha\n",
    "long_text = \"\"\"Lorem ipsum dolor sit amet, consectetur adipiscing elit,\n",
    "sed do eiusmod tempor incididunt \"ut labore et dolore\n",
    "magna aliqua\". Ut enim ad minim veniam.\"\"\""
   ]
  },
  {
   "cell_type": "code",
   "execution_count": null,
   "metadata": {
    "id": "qrIZuyyekNms"
   },
   "outputs": [],
   "source": [
    "print(x * y)"
   ]
  },
  {
   "cell_type": "code",
   "execution_count": null,
   "metadata": {
    "id": "rXHqc5zzkNmt"
   },
   "outputs": [],
   "source": [
    "print(long_text)"
   ]
  },
  {
   "cell_type": "markdown",
   "metadata": {
    "id": "La0DBoZ8nt9b"
   },
   "source": [
    "# Tipos de dados\n",
    "\n",
    "\n",
    "Em Python, a atribuição de dados a um nome de variável define o tipo e o intervalo de valores que um objeto pode ter."
   ]
  },
  {
   "cell_type": "markdown",
   "metadata": {
    "id": "xrhPA7hIkNmu"
   },
   "source": [
    "## Tipos de dados básicos: escalares\n",
    "\n",
    "Os escalares são dados que não podem ser subdivididos."
   ]
  },
  {
   "cell_type": "markdown",
   "metadata": {
    "id": "KBEphC2wAUFs"
   },
   "source": [
    "### Numéricos\n",
    "\n",
    "| Subtipo     | Palavra reservada | Exemplo |\n",
    "|-------------|-------------------|---------|\n",
    "| Enteiros    | `int`             | 3       |\n",
    "| Decimais    | `float`           | 3.89    |"
   ]
  },
  {
   "cell_type": "code",
   "execution_count": null,
   "metadata": {
    "id": "R5yP7rQvkNmu"
   },
   "outputs": [],
   "source": [
    "n_int = 3\n",
    "n_float = 3.89"
   ]
  },
  {
   "cell_type": "markdown",
   "metadata": {
    "id": "PNtmkeIckNmu"
   },
   "source": [
    "### Cadeias\n"
   ]
  },
  {
   "cell_type": "code",
   "execution_count": null,
   "metadata": {
    "id": "V4CuQOD6kNmu"
   },
   "outputs": [],
   "source": [
    "v_string = \"Este é um exemplo\"\n",
    "single_q = 'Este é outro exemplo'"
   ]
  },
  {
   "cell_type": "markdown",
   "metadata": {
    "id": "e-oS5dFKGqKA"
   },
   "source": [
    "Podemos determinar o tamanho de uma cadeia através da função `len`."
   ]
  },
  {
   "cell_type": "code",
   "execution_count": null,
   "metadata": {
    "id": "ur-ik8HPGvLv"
   },
   "outputs": [],
   "source": [
    "len(v_string)"
   ]
  },
  {
   "cell_type": "markdown",
   "metadata": {
    "id": "kMxL2dppp1vu"
   },
   "source": [
    "Para concatenar duas cadeias, podemos utilizar o operador `+`."
   ]
  },
  {
   "cell_type": "code",
   "execution_count": null,
   "metadata": {
    "id": "f0VCau_2qDms"
   },
   "outputs": [],
   "source": [
    "str1 = \"ola\"\n",
    "str2 = \"mundo\"\n",
    "\n",
    "print(str1 + \" \" + str2)"
   ]
  },
  {
   "cell_type": "markdown",
   "metadata": {
    "id": "K-IFRhs4vQX8"
   },
   "source": [
    "Este operador `+` tem efeitos diferentes conforme seja aplicado a cadeias de caracteres ou a números."
   ]
  },
  {
   "cell_type": "code",
   "execution_count": null,
   "metadata": {
    "id": "GylUTJ5xva8J"
   },
   "outputs": [],
   "source": [
    "n1 = 2\n",
    "n2 = 2\n",
    "n1 + n2"
   ]
  },
  {
   "cell_type": "code",
   "execution_count": null,
   "metadata": {
    "id": "JMTjSwzevfLJ"
   },
   "outputs": [],
   "source": [
    "s1 = \"2\"\n",
    "s2 = \"2\"\n",
    "s1 + s2"
   ]
  },
  {
   "cell_type": "markdown",
   "metadata": {
    "id": "9YawhX5fkNmv"
   },
   "source": [
    "### Booleanos\n",
    "\n",
    "Com apenas dois valores possíveis: `True` e `False`"
   ]
  },
  {
   "cell_type": "code",
   "execution_count": null,
   "metadata": {
    "id": "F83LMpZ2kNmv"
   },
   "outputs": [],
   "source": [
    "v_boolean = True"
   ]
  },
  {
   "cell_type": "markdown",
   "metadata": {
    "id": "0jFTfsADkNmw"
   },
   "source": [
    "### Indefinido (NoneType)\n",
    "\n",
    "Têm um único valor (`NoneType`)."
   ]
  },
  {
   "cell_type": "code",
   "execution_count": null,
   "metadata": {
    "id": "DPc_o7UKkNmx"
   },
   "outputs": [],
   "source": [
    "v_none = None"
   ]
  },
  {
   "cell_type": "markdown",
   "metadata": {
    "id": "htf1HWbikNmz"
   },
   "source": [
    "Com `type()` podemos conhecer o tipo de um objeto."
   ]
  },
  {
   "cell_type": "code",
   "execution_count": null,
   "metadata": {
    "id": "xx-iiQNykNmz"
   },
   "outputs": [],
   "source": [
    "type(n_int)"
   ]
  },
  {
   "cell_type": "code",
   "execution_count": null,
   "metadata": {
    "id": "bBmJiXlSkNm0"
   },
   "outputs": [],
   "source": [
    "type(n_float)"
   ]
  },
  {
   "cell_type": "code",
   "execution_count": null,
   "metadata": {
    "id": "GRoFlufAkNm1"
   },
   "outputs": [],
   "source": [
    "type(v_string)"
   ]
  },
  {
   "cell_type": "code",
   "execution_count": null,
   "metadata": {
    "id": "nvo5hVQPkNm2"
   },
   "outputs": [],
   "source": [
    "type(v_boolean)"
   ]
  },
  {
   "cell_type": "code",
   "execution_count": null,
   "metadata": {
    "id": "VjMGCijqkNm3"
   },
   "outputs": [],
   "source": [
    "type(v_none)"
   ]
  },
  {
   "cell_type": "code",
   "execution_count": null,
   "metadata": {
    "id": "OheP-EBwkNm4"
   },
   "outputs": [],
   "source": [
    "x = 3.89\n",
    "y = '3.89'\n",
    "\n",
    "print('Tipo de x: ', end='')\n",
    "print(type(x))\n",
    "\n",
    "print('Tipo de y: ', end='')\n",
    "print(type(y))"
   ]
  },
  {
   "cell_type": "markdown",
   "metadata": {
    "id": "G3ScY4f2fcSY"
   },
   "source": [
    "### Exercícios"
   ]
  },
  {
   "cell_type": "markdown",
   "metadata": {
    "id": "ripBm6_BgSGs"
   },
   "source": [
    "1. Define dúas variáveis numéricas\n",
    "  - *`year`* (contendo o ano atual)\n",
    "  - *`pi`* (contendo o valor de PI)"
   ]
  },
  {
   "cell_type": "code",
   "execution_count": null,
   "metadata": {
    "id": "7JQZX7c9tvMr"
   },
   "outputs": [],
   "source": []
  },
  {
   "cell_type": "markdown",
   "metadata": {
    "id": "g34NvyOsgbFX"
   },
   "source": [
    "2. Imprime o contido de `year`."
   ]
  },
  {
   "cell_type": "code",
   "execution_count": null,
   "metadata": {
    "id": "c9ikXN3tgjmt"
   },
   "outputs": [],
   "source": []
  },
  {
   "cell_type": "markdown",
   "metadata": {
    "id": "X8GyFyNCos3m"
   },
   "source": [
    "3. Imprime o tipo de dado de `year`."
   ]
  },
  {
   "cell_type": "code",
   "execution_count": null,
   "metadata": {
    "id": "KTYnI4VwowLr"
   },
   "outputs": [],
   "source": []
  },
  {
   "cell_type": "markdown",
   "metadata": {
    "id": "ZJ8tWgnW-w5H"
   },
   "source": [
    "4. Imprime o seguinte texto:\n",
    "\n",
    "Há uma velha maldição que diz: \"Que vivas em tempos interessantes\"."
   ]
  },
  {
   "cell_type": "code",
   "execution_count": null,
   "metadata": {
    "id": "-Miv4Mgv_6V0"
   },
   "outputs": [],
   "source": [
    "\n"
   ]
  },
  {
   "cell_type": "markdown",
   "metadata": {
    "id": "8DxK9M9nkNm5"
   },
   "source": [
    "## Tipos de dados complexos (não escalares)"
   ]
  },
  {
   "cell_type": "markdown",
   "metadata": {
    "id": "1CHWjvN9atp7"
   },
   "source": [
    "### Listas\n",
    "\n",
    "Sequências ordenadas e mutáveis de valores que podem ser acedidas através do seu índice expresso entre parênteses rectos. Este índice começa a contar a partir de zero. Se o índice for negativo, conta-se a partir do fim."
   ]
  },
  {
   "cell_type": "code",
   "execution_count": null,
   "metadata": {
    "id": "BHLR3ehrkNm5"
   },
   "outputs": [],
   "source": [
    "cores = [\"amarelo\", \"cinzento\", \"verde\"]\n",
    "print(cores[1])\n",
    "print(cores[-3])"
   ]
  },
  {
   "cell_type": "markdown",
   "metadata": {
    "id": "MqQLZj1exMPJ"
   },
   "source": [
    "É possível declarar uma lista sem a inicializar, a fim de lhe atribuir valores mais tarde, utilizando os seguintes métodos:\n",
    "\n",
    "* `append`: acrescenta um elemento ao final da lista\n",
    "* `insert`: insere um elemento na posição especificada\n",
    "* `extend`: estende uma lista com os conteúdos de outra lista"
   ]
  },
  {
   "cell_type": "code",
   "execution_count": null,
   "metadata": {
    "id": "QHU2AppV45-k"
   },
   "outputs": [],
   "source": [
    "# Declaração\n",
    "mais_cores = []"
   ]
  },
  {
   "cell_type": "code",
   "execution_count": null,
   "metadata": {
    "id": "5I7cy3iYxH6U"
   },
   "outputs": [],
   "source": [
    "# Asignação de valores utilizando append\n",
    "mais_cores.append(\"laranja\")\n",
    "mais_cores.append([\"preto\", \"branco\"])\n",
    "mais_cores.append(\"azul\")\n",
    "\n",
    "print(mais_cores)"
   ]
  },
  {
   "cell_type": "code",
   "execution_count": null,
   "metadata": {
    "id": "Fg4icCI7t8Nn"
   },
   "outputs": [],
   "source": [
    "# O que acontece se eu imprimo o item que está no índice 1?\n",
    "print(mais_cores[1])"
   ]
  },
  {
   "cell_type": "code",
   "execution_count": null,
   "metadata": {
    "id": "hg8YOvXH40c8"
   },
   "outputs": [],
   "source": [
    "# Asignação de valores utilizando insert\n",
    "mais_cores.insert(2, \"verde\")\n",
    "\n",
    "print(mais_cores)"
   ]
  },
  {
   "cell_type": "code",
   "execution_count": null,
   "metadata": {
    "id": "2KzlBmgH7oYD"
   },
   "outputs": [],
   "source": [
    "# Extensão da lista utilizando extend\n",
    "mais_cores.extend([\"branco\", \"amarelo\"])"
   ]
  },
  {
   "cell_type": "code",
   "execution_count": null,
   "metadata": {
    "id": "ZfslXHgz8uXq"
   },
   "outputs": [],
   "source": [
    "# E agora? Que pasa se imprimo o último elemento da lista?\n",
    "print(mais_cores[-1])"
   ]
  },
  {
   "cell_type": "code",
   "execution_count": null,
   "metadata": {
    "id": "_Xq6wfNu9PEV"
   },
   "outputs": [],
   "source": [
    "# Impressão da lista final\n",
    "print(mais_cores)"
   ]
  },
  {
   "cell_type": "markdown",
   "metadata": {
    "id": "kQx9AYTsP58r"
   },
   "source": [
    "Também podemos eliminar itens de uma lista:\n",
    "\n",
    "- `pop`: elimina o índice especificado\n",
    "- `remove`: elimina o valor especificado"
   ]
  },
  {
   "cell_type": "code",
   "execution_count": null,
   "metadata": {
    "id": "Tsq241W3QWVu"
   },
   "outputs": [],
   "source": [
    "cores = ['laranja', 'preto', 'branco', 'azul', 'verde']\n",
    "cores.remove(\"preto\")\n",
    "print(cores)"
   ]
  },
  {
   "cell_type": "code",
   "execution_count": null,
   "metadata": {
    "id": "VRB2Epy9QtBQ"
   },
   "outputs": [],
   "source": [
    "cores.pop(0)\n",
    "cores.pop(-1)   # list.pop() e list.pop(-1) são equivalentes\n",
    "print(cores)"
   ]
  },
  {
   "cell_type": "markdown",
   "metadata": {
    "id": "x_S5itIc5hdx"
   },
   "source": [
    "#### Extrair subconjuntos das listas"
   ]
  },
  {
   "cell_type": "markdown",
   "metadata": {
    "id": "96pWlOcrCSif"
   },
   "source": [
    "Também é possível extrair subconjuntos das listas (*slice*) especificando o valor inicial (incluído) e o valor final (não incluído) separados por `:`"
   ]
  },
  {
   "cell_type": "code",
   "execution_count": null,
   "metadata": {
    "id": "KQD0SQZECgVO"
   },
   "outputs": [],
   "source": [
    "# original\n",
    "mais_cores"
   ]
  },
  {
   "cell_type": "code",
   "execution_count": null,
   "metadata": {
    "id": "OL0Cc6CnkbQD"
   },
   "outputs": [],
   "source": [
    "# índices 1 e 2 (o índice 3 apenas marca o fim do subconjunto, não está incluído)\n",
    "mais_cores[1:3]"
   ]
  },
  {
   "cell_type": "markdown",
   "metadata": {
    "id": "NShFeNfwDEYt"
   },
   "source": [
    "O primeiro e o último elementos do subconjunto podem ser omitidos quando coincidem com o primeiro e o último elementos da lista."
   ]
  },
  {
   "cell_type": "code",
   "execution_count": null,
   "metadata": {
    "id": "fn-18HDVDXX-"
   },
   "outputs": [],
   "source": [
    "nums = [0, 1, 2, 3, 4, 5, 6, 7, 8, 9, 10]"
   ]
  },
  {
   "cell_type": "code",
   "execution_count": null,
   "metadata": {
    "id": "vhv0RHx00sa-"
   },
   "outputs": [],
   "source": [
    "print(\"Desde o primeiro valor até o 4 (não incluído)\")\n",
    "print(nums[:4])"
   ]
  },
  {
   "cell_type": "code",
   "execution_count": null,
   "metadata": {
    "id": "C6SXr5gE0uZp"
   },
   "outputs": [],
   "source": [
    "print(\"Desde o sétimo valor (incluído) até o último\")\n",
    "print(nums[7:])"
   ]
  },
  {
   "cell_type": "code",
   "execution_count": null,
   "metadata": {
    "id": "uM-H4EoL0vyj"
   },
   "outputs": [],
   "source": [
    "print(\"Todos os valores (devolve uma lista idêntica)\")\n",
    "print(nums[:])"
   ]
  },
  {
   "cell_type": "markdown",
   "metadata": {
    "id": "cRBE_dM302m6"
   },
   "source": [
    "Se usarmos números negativos no *slice*, começa a contar polo final."
   ]
  },
  {
   "cell_type": "code",
   "execution_count": null,
   "metadata": {
    "id": "jej0bOqU1IdN"
   },
   "outputs": [],
   "source": [
    "print(\"Do índice na posição -3 até ao fim\")\n",
    "print(nums[-3:])"
   ]
  },
  {
   "cell_type": "markdown",
   "metadata": {
    "id": "j6ODsYagv-tQ"
   },
   "source": [
    "Se incluirmos um terceiro valor no *slice*, este representa o salto (por defeito é 1)."
   ]
  },
  {
   "cell_type": "code",
   "execution_count": null,
   "metadata": {
    "id": "fr2sS0llwIfj"
   },
   "outputs": [],
   "source": [
    "print(\"Todos os valores contando índices de 2 en 2\")\n",
    "print(nums[::2])"
   ]
  },
  {
   "cell_type": "code",
   "execution_count": null,
   "metadata": {
    "id": "Kizq1J96xuoi"
   },
   "outputs": [],
   "source": [
    "# O que acontece se o salto for negativo?\n",
    "print(nums[10:2:-3])"
   ]
  },
  {
   "cell_type": "markdown",
   "metadata": {
    "id": "r2VWmQs5BN0S"
   },
   "source": [
    "\n",
    "\n",
    "---\n",
    "\n",
    "\n",
    "\n",
    "A efectos de extraer subcadeas (*slicing*) ou uso de índices (*indexing*), **as cadeas** funcionan como as listas, sendo posíbel acceder/extraer os caracteres individuais que as compoñen mediante os índices."
   ]
  },
  {
   "cell_type": "code",
   "execution_count": null,
   "metadata": {
    "id": "dHsOTkK2Beop"
   },
   "outputs": [],
   "source": [
    "sample = \"Olá mundo\""
   ]
  },
  {
   "cell_type": "code",
   "execution_count": null,
   "metadata": {
    "id": "772vaiTPqmOB"
   },
   "outputs": [],
   "source": [
    "# Indexing\n",
    "print(sample[2])"
   ]
  },
  {
   "cell_type": "code",
   "execution_count": null,
   "metadata": {
    "id": "YZf0RFCFBmL6"
   },
   "outputs": [],
   "source": [
    "# Slicing\n",
    "print(sample[1:6])"
   ]
  },
  {
   "cell_type": "code",
   "execution_count": null,
   "metadata": {
    "id": "Rxam1L3RCXhJ"
   },
   "outputs": [],
   "source": [
    "print(sample[-4:])"
   ]
  },
  {
   "cell_type": "code",
   "execution_count": null,
   "metadata": {
    "id": "bsJIAc80BtjT"
   },
   "outputs": [],
   "source": [
    "print(sample[-1:-4:-1])"
   ]
  },
  {
   "cell_type": "markdown",
   "metadata": {
    "id": "6AeAnP4Qy5jS"
   },
   "source": [
    "#### Exercícios\n",
    "\n"
   ]
  },
  {
   "cell_type": "markdown",
   "metadata": {
    "id": "4wSQHUG7zA08"
   },
   "source": [
    "1. Cria uma lista de 5 números inteiros e com o nome `numeros`."
   ]
  },
  {
   "cell_type": "code",
   "execution_count": null,
   "metadata": {
    "id": "LyyBW9Ze3g9m"
   },
   "outputs": [],
   "source": []
  },
  {
   "cell_type": "markdown",
   "metadata": {
    "id": "MjYebepCzIEj"
   },
   "source": [
    "2. No final da lista `numeros` adiciona mais 2 números decimais (*`float`*)."
   ]
  },
  {
   "cell_type": "code",
   "execution_count": null,
   "metadata": {
    "id": "7SWHsmeu3hlq"
   },
   "outputs": [],
   "source": []
  },
  {
   "cell_type": "markdown",
   "metadata": {
    "id": "aaRxRi5xz7ne"
   },
   "source": [
    "3. Imprime os últimos 3 números da lista."
   ]
  },
  {
   "cell_type": "code",
   "execution_count": null,
   "metadata": {
    "id": "OHWeQZUc3iOD"
   },
   "outputs": [],
   "source": []
  },
  {
   "cell_type": "markdown",
   "metadata": {
    "id": "b8dTDygu2rcZ"
   },
   "source": [
    "4. Imprime a lista do revés"
   ]
  },
  {
   "cell_type": "code",
   "execution_count": null,
   "metadata": {
    "id": "qyj09Nsc3i5E"
   },
   "outputs": [],
   "source": []
  },
  {
   "cell_type": "markdown",
   "metadata": {
    "id": "o8hfK7cITJ0t"
   },
   "source": [
    "5. Elimina da lista os elementos de tipo decimal"
   ]
  },
  {
   "cell_type": "code",
   "execution_count": null,
   "metadata": {
    "id": "4gXe2CmBTNz4"
   },
   "outputs": [],
   "source": []
  },
  {
   "cell_type": "markdown",
   "metadata": {
    "id": "FM-nZ3QbrnxH"
   },
   "source": [
    "6. Extrai a cadeia *Galaxy* de `str1` utilizando a notação de *slicing*, armazena-a noutra variável (`slice1`) e imprime-a."
   ]
  },
  {
   "cell_type": "code",
   "execution_count": null,
   "metadata": {
    "id": "9MBC2D2HsCAD"
   },
   "outputs": [],
   "source": [
    "str1 = \"The Hitchhiker’s Guide to the Galaxy\"\n",
    "# escreve a solução\n"
   ]
  },
  {
   "cell_type": "markdown",
   "metadata": {
    "id": "Lu3kQ87BkNm5"
   },
   "source": [
    "### Dicionários\n",
    "\n",
    "Estruturas de chave-valor em que a chave é um escalar e o valor pode ser escalar ou não escalar."
   ]
  },
  {
   "cell_type": "code",
   "execution_count": null,
   "metadata": {
    "id": "ugD7emwFkNm6"
   },
   "outputs": [],
   "source": [
    "freq = {\n",
    "    \"medo\": 1209,\n",
    "    \"forte\": 10,\n",
    "    \"maior\": 154\n",
    "}"
   ]
  },
  {
   "cell_type": "markdown",
   "metadata": {
    "id": "QTr8BtaVFXm7"
   },
   "source": [
    "É possível declarar um dicionário sem o inicializar, de modo a atribuir-lhe valores mais tarde."
   ]
  },
  {
   "cell_type": "code",
   "execution_count": null,
   "metadata": {
    "id": "USYEo7MbFcPn"
   },
   "outputs": [],
   "source": [
    "colloc = {}\n",
    "colloc"
   ]
  },
  {
   "cell_type": "code",
   "execution_count": null,
   "metadata": {
    "id": "mRq2Q1JGtvRG"
   },
   "outputs": [],
   "source": [
    "colloc.update({\"medo\": 1209})\n",
    "colloc"
   ]
  },
  {
   "cell_type": "code",
   "execution_count": null,
   "metadata": {
    "id": "Wofsu6gZt3M8"
   },
   "outputs": [],
   "source": [
    "colloc.update({\"forte\": 10})\n",
    "\n",
    "# forma alternativa\n",
    "colloc[\"maior\"] = 154\n",
    "\n",
    "colloc"
   ]
  },
  {
   "cell_type": "markdown",
   "metadata": {
    "id": "9Nkxfw2fF4Ur"
   },
   "source": [
    "Utilizando `keys()` e `values()` é possível aceder à lista de chaves e valores de um dicionário separadamente."
   ]
  },
  {
   "cell_type": "code",
   "execution_count": null,
   "metadata": {
    "id": "nxqk5audF40s"
   },
   "outputs": [],
   "source": [
    "colloc.keys()"
   ]
  },
  {
   "cell_type": "code",
   "execution_count": null,
   "metadata": {
    "id": "LoNz3memGKok"
   },
   "outputs": [],
   "source": [
    "colloc.values()"
   ]
  },
  {
   "cell_type": "markdown",
   "metadata": {
    "id": "2kv7T-kjHHzR"
   },
   "source": [
    "Com `items()` acedemos ao par chave-valor."
   ]
  },
  {
   "cell_type": "code",
   "execution_count": null,
   "metadata": {
    "id": "qdwqF2JiHNks"
   },
   "outputs": [],
   "source": [
    "colloc.items()"
   ]
  },
  {
   "cell_type": "markdown",
   "metadata": {
    "id": "ZvQd9DczmZGt"
   },
   "source": [
    "### Set\n",
    "\n",
    "Um conjunto é um tipo de dados iterável, não ordenado, mutável e não duplicável. É declarado usando chaves."
   ]
  },
  {
   "cell_type": "code",
   "execution_count": null,
   "metadata": {
    "id": "kP79uAIaPvjM"
   },
   "outputs": [],
   "source": [
    "primes = {2, 3, 5, 7, 11, 11, 13, 17}\n",
    "\n",
    "print(type(primes))\n",
    "\n",
    "primes\n"
   ]
  },
  {
   "cell_type": "markdown",
   "metadata": {
    "id": "_PSLKQ7Wm6P-"
   },
   "source": [
    "Depois de o conjunto ter sido inicializado, é possível adicionar mais elementos utilizando os métodos `add()` (elemento único) ou `update()` (vários)."
   ]
  },
  {
   "cell_type": "code",
   "execution_count": null,
   "metadata": {
    "id": "sUMEDmGynDGj"
   },
   "outputs": [],
   "source": [
    "primes = {2, 3, 5, 7, 11, 11, 13, 17}\n",
    "primes.add(19)\n",
    "\n",
    "primes"
   ]
  },
  {
   "cell_type": "code",
   "execution_count": null,
   "metadata": {
    "id": "tFpkyvJtn6cd"
   },
   "outputs": [],
   "source": [
    "primes.update([23, 29, 31, 31, 31])\n",
    "\n",
    "primes"
   ]
  },
  {
   "cell_type": "markdown",
   "metadata": {
    "id": "CxOCMyDVoacx"
   },
   "source": [
    "### Tuple\n",
    "\n",
    "Uma tupla é um tipo de dados iterável, ordenado e imutável. É semelhante a uma lista, mas não pode ser modificada."
   ]
  },
  {
   "cell_type": "code",
   "execution_count": null,
   "metadata": {
    "id": "czrwDQpHqqNU"
   },
   "outputs": [],
   "source": [
    "# Declaração de tupla sem elementos\n",
    "tuple1 = ()\n",
    "\n",
    "print(len(tuple1))\n",
    "print(type(tuple1))"
   ]
  },
  {
   "cell_type": "code",
   "execution_count": null,
   "metadata": {
    "id": "NYpJwCQiqxc7"
   },
   "outputs": [],
   "source": [
    "# Declaração de tupla com um elemento\n",
    "tuple2 = (24,)\n",
    "\n",
    "print(len(tuple2))\n",
    "print(type(tuple2))\n"
   ]
  },
  {
   "cell_type": "code",
   "execution_count": null,
   "metadata": {
    "id": "PZNNn0aVrMJ4"
   },
   "outputs": [],
   "source": [
    "# Declaração de tuplas com vários elementos (também duplicados) e acesso através de índices\n",
    "tuple3 = (24, 15, 15, 15, \"rede galabra\", 1.65, True)\n",
    "\n",
    "print(len(tuple3))\n",
    "print(type(tuple3))\n",
    "\n",
    "tuple3[4]"
   ]
  },
  {
   "cell_type": "markdown",
   "metadata": {
    "id": "9cCjpwXskNm7"
   },
   "source": [
    "## Casting\n",
    "\n",
    "Uma operação de *casting* (conversão) altera o tipo de um objeto. Dependendo do tipo de conversão, isto pode resultar em perda de informação."
   ]
  },
  {
   "cell_type": "code",
   "execution_count": null,
   "metadata": {
    "id": "OBnd-G4hkNm7"
   },
   "outputs": [],
   "source": [
    "# De inteiro a decimal\n",
    "float(8)"
   ]
  },
  {
   "cell_type": "code",
   "execution_count": null,
   "metadata": {
    "id": "kcH-mfjVkNm8"
   },
   "outputs": [],
   "source": [
    "# De decimal a inteiro\n",
    "int(3.9881)"
   ]
  },
  {
   "cell_type": "code",
   "execution_count": null,
   "metadata": {
    "id": "dIGO58wAkNm8"
   },
   "outputs": [],
   "source": [
    "# Casting a cadeia de texto\n",
    "str(3.998)"
   ]
  },
  {
   "cell_type": "code",
   "execution_count": null,
   "metadata": {
    "id": "-rfzikjcomMd"
   },
   "outputs": [],
   "source": [
    "# Casting de cadeia a numérico\n",
    "\n",
    "# Inteiro\n",
    "int(\"4\")"
   ]
  },
  {
   "cell_type": "code",
   "execution_count": null,
   "metadata": {
    "id": "6zvlA8LAo5g-"
   },
   "outputs": [],
   "source": [
    "# Decimal\n",
    "float(\"4.980\")"
   ]
  },
  {
   "cell_type": "code",
   "execution_count": null,
   "metadata": {
    "id": "-Zon3lE1s4dl"
   },
   "outputs": [],
   "source": [
    "# Casting de lista a conjunto (set), perdem-se as informações sobre os itens duplicados\n",
    "set([2, 2, 3, 5, 5, 5, 7, 11, 11, 13, 17])"
   ]
  },
  {
   "cell_type": "code",
   "execution_count": null,
   "metadata": {
    "id": "_Cc_DUN7tRFX"
   },
   "outputs": [],
   "source": [
    "# Casting de lista a tupla\n",
    "tuple([2, 2, 3, 5, 5, 5, 7, 11, 11, 13, 17])"
   ]
  },
  {
   "cell_type": "markdown",
   "metadata": {
    "id": "AK4g025Eo9DE"
   },
   "source": [
    "O que acontece se os tipos não forem os correctos quando se faz o *casting*?"
   ]
  },
  {
   "cell_type": "code",
   "execution_count": null,
   "metadata": {
    "id": "NNtDpZaKpBoF"
   },
   "outputs": [],
   "source": [
    "int(\"isto non vai\")"
   ]
  },
  {
   "cell_type": "markdown",
   "metadata": {
    "id": "Sx0pGGmwNcpU"
   },
   "source": [
    "## Tipos mutáveis e imutáveis\n",
    "\n",
    "Os tipos de dados imutáveis são aqueles cujo estado não pode ser alterado depois de serem criados. Em Python, os tipos escalares (strings, dados numéricos) e alguns tipos não escalares (tuplas) são imutáveis. Em contrapartida, as listas, os dicionários e os conjuntos são mutáveis.\n",
    "\n",
    "Exemplos:"
   ]
  },
  {
   "cell_type": "markdown",
   "metadata": {
    "id": "2tMu1TJMzyeK"
   },
   "source": [
    "**Strings**"
   ]
  },
  {
   "cell_type": "code",
   "execution_count": null,
   "metadata": {
    "id": "Weg604zwORWE"
   },
   "outputs": [],
   "source": [
    "cadeia = \"Olá\"\n",
    "print(cadeia)\n",
    "id(cadeia)"
   ]
  },
  {
   "cell_type": "code",
   "execution_count": null,
   "metadata": {
    "id": "vnoT25bdOXcT"
   },
   "outputs": [],
   "source": [
    "cadeia = cadeia + \" mundo!\"\n",
    "print(cadeia)\n",
    "id(cadeia)"
   ]
  },
  {
   "cell_type": "code",
   "execution_count": null,
   "metadata": {
    "id": "6aZtb6hH3i3C"
   },
   "outputs": [],
   "source": [
    "cadeia[2]"
   ]
  },
  {
   "cell_type": "code",
   "execution_count": null,
   "metadata": {
    "id": "AQ0g5cEI3qTD"
   },
   "outputs": [],
   "source": [
    "# erro!\n",
    "cadeia[2] = \"a\""
   ]
  },
  {
   "cell_type": "markdown",
   "metadata": {
    "id": "xdsybxjwOpw_"
   },
   "source": [
    "**Listas**"
   ]
  },
  {
   "cell_type": "code",
   "execution_count": null,
   "metadata": {
    "id": "g6_Ru3-zOsVJ"
   },
   "outputs": [],
   "source": [
    "lista = [1, 4, \"verde\"]\n",
    "print(lista)\n",
    "id(lista)"
   ]
  },
  {
   "cell_type": "code",
   "execution_count": null,
   "metadata": {
    "id": "baPhZGGRO1lw"
   },
   "outputs": [],
   "source": [
    "lista.append(8)\n",
    "lista.remove(\"verde\")\n",
    "print(lista)\n",
    "id(lista)"
   ]
  },
  {
   "cell_type": "code",
   "execution_count": null,
   "metadata": {
    "id": "8tnShjUN30UJ"
   },
   "outputs": [],
   "source": [
    "lista[1]"
   ]
  },
  {
   "cell_type": "code",
   "execution_count": null,
   "metadata": {
    "id": "4DwAzvYn32d9"
   },
   "outputs": [],
   "source": [
    "lista[1] = 'a'\n",
    "lista"
   ]
  },
  {
   "cell_type": "markdown",
   "metadata": {
    "id": "7CFQ1WDXS6jp"
   },
   "source": [
    "# Operadores"
   ]
  },
  {
   "cell_type": "markdown",
   "metadata": {
    "id": "JLzNDF0dkNm8"
   },
   "source": [
    "## Aritméticos"
   ]
  },
  {
   "cell_type": "markdown",
   "metadata": {
    "id": "R-o6V2ODTCt5"
   },
   "source": [
    "operador      |   significado\n",
    "--------------|----------------\n",
    "`**`          | Expoente\n",
    "`%`           | Módulo (resto)\n",
    "`//`\t        | Divisão de números inteiros\n",
    "`/`\t          | Divisão\n",
    "`*`\t          | Multiplicação\n",
    "`-`\t          | Subtração\n",
    "`+`           | Soma\n",
    "\n",
    "**Exemplos**:"
   ]
  },
  {
   "cell_type": "code",
   "execution_count": null,
   "metadata": {
    "id": "xa3zK6XsU3fe"
   },
   "outputs": [],
   "source": [
    "4 / 3"
   ]
  },
  {
   "cell_type": "markdown",
   "metadata": {
    "id": "CYs9J9B4kNm9"
   },
   "source": [
    "Na divisão de números inteiros a parte decimal é ignorada."
   ]
  },
  {
   "cell_type": "code",
   "execution_count": null,
   "metadata": {
    "id": "QU2s2NFdSb9F"
   },
   "outputs": [],
   "source": [
    "# Divisão de números inteiros\n",
    "4 // 3"
   ]
  },
  {
   "cell_type": "markdown",
   "metadata": {
    "id": "I8qnKZPMkNm9"
   },
   "source": [
    "Quando uma divisão de números não inteiros é exacta, devolve um valor *float*."
   ]
  },
  {
   "cell_type": "code",
   "execution_count": null,
   "metadata": {
    "id": "UaDFy5OJkNm9"
   },
   "outputs": [],
   "source": [
    "# Divisão não inteira sem resto\n",
    "4 / 2"
   ]
  },
  {
   "cell_type": "code",
   "execution_count": null,
   "metadata": {
    "id": "j1VoyaykU1Fl"
   },
   "outputs": [],
   "source": [
    "# Módulo\n",
    "4 % 2"
   ]
  },
  {
   "cell_type": "markdown",
   "metadata": {
    "id": "99IMFysANAcf"
   },
   "source": [
    "O operador composto permite efetuar a operação e a atribuição ao mesmo tempo."
   ]
  },
  {
   "cell_type": "code",
   "execution_count": null,
   "metadata": {
    "id": "UgvhY1LzNKSB"
   },
   "outputs": [],
   "source": [
    "x = 5\n",
    "x += 15       # equivale a x = x + 15\n",
    "print(x)\n",
    "\n",
    "x //= 4       # equivale a x = x // 4\n",
    "print(x)"
   ]
  },
  {
   "cell_type": "markdown",
   "metadata": {
    "id": "SL5S1fxdkNnB"
   },
   "source": [
    "### Precedência"
   ]
  },
  {
   "cell_type": "code",
   "execution_count": null,
   "metadata": {
    "id": "pQ3DaFTvkNnC"
   },
   "outputs": [],
   "source": [
    "2 + 3 * 4"
   ]
  },
  {
   "cell_type": "code",
   "execution_count": null,
   "metadata": {
    "id": "Nhj2FDmKkNnE"
   },
   "outputs": [],
   "source": [
    "2 + (3 * 4)"
   ]
  },
  {
   "cell_type": "code",
   "execution_count": null,
   "metadata": {
    "id": "i0jsqQXnkNnE"
   },
   "outputs": [],
   "source": [
    "(2 + 3) * 4"
   ]
  },
  {
   "cell_type": "markdown",
   "metadata": {
    "id": "tNaSZwdiUtiA"
   },
   "source": [
    "## Relacionais\n",
    "\n",
    "Resulta sempre num valor booleano (`True` ou `False`).\n",
    "\n",
    "operador       |    significado\n",
    "---------------|-------------------\n",
    "==             | igual\n",
    "!=             | distinto\n",
    "<              | menor que\n",
    ">              | maior que\n",
    "<=             | menor ou igual que\n",
    ">=             | maior ou igual que"
   ]
  },
  {
   "cell_type": "code",
   "execution_count": null,
   "metadata": {
    "id": "tpejZ6RHkNnF"
   },
   "outputs": [],
   "source": [
    "4 < 5"
   ]
  },
  {
   "cell_type": "code",
   "execution_count": null,
   "metadata": {
    "id": "GnzwrpkVkNnF"
   },
   "outputs": [],
   "source": [
    "4 == 5"
   ]
  },
  {
   "cell_type": "code",
   "execution_count": null,
   "metadata": {
    "id": "prXs4R-tkNnF"
   },
   "outputs": [],
   "source": [
    "x = y = 10\n",
    "x != y"
   ]
  },
  {
   "cell_type": "markdown",
   "metadata": {
    "id": "5IVQ_Y_Cq43B"
   },
   "source": [
    "## Lógicos\n",
    "\n",
    "Permitem avaliar expressões que resultam num valor booleano."
   ]
  },
  {
   "cell_type": "markdown",
   "metadata": {
    "id": "6JA5NWIe65jv"
   },
   "source": [
    "- `and`"
   ]
  },
  {
   "cell_type": "code",
   "execution_count": null,
   "metadata": {
    "id": "blmilUknrwT5"
   },
   "outputs": [],
   "source": [
    "print(x)\n",
    "x < 100 and x > 1"
   ]
  },
  {
   "cell_type": "markdown",
   "metadata": {
    "id": "lg0PZbau1ixs"
   },
   "source": [
    "- or"
   ]
  },
  {
   "cell_type": "code",
   "execution_count": null,
   "metadata": {
    "id": "rypNY7gy1ncd"
   },
   "outputs": [],
   "source": [
    "x > 20 or x < 11"
   ]
  },
  {
   "cell_type": "markdown",
   "metadata": {
    "id": "Dpqvp6rK14A2"
   },
   "source": [
    "- not"
   ]
  },
  {
   "cell_type": "code",
   "execution_count": null,
   "metadata": {
    "id": "BsAwSUYa15ln"
   },
   "outputs": [],
   "source": [
    "not x > 20"
   ]
  },
  {
   "cell_type": "code",
   "execution_count": null,
   "metadata": {
    "id": "h9UNIMch3SMN"
   },
   "outputs": [],
   "source": [
    "txt = 'expressão'\n",
    "'s' in txt and len(txt) > 10"
   ]
  },
  {
   "cell_type": "code",
   "execution_count": null,
   "metadata": {
    "id": "vPjBY6XG5m3-"
   },
   "outputs": [],
   "source": [
    "x = None\n",
    "y = 5\n",
    "x or y"
   ]
  },
  {
   "cell_type": "code",
   "execution_count": null,
   "metadata": {
    "id": "ye3ohWmY6WNr"
   },
   "outputs": [],
   "source": [
    "x = 1\n",
    "x or y"
   ]
  },
  {
   "cell_type": "markdown",
   "metadata": {
    "id": "jHh_W-hlOFZf"
   },
   "source": [
    "# Controlo do fluxo"
   ]
  },
  {
   "cell_type": "markdown",
   "metadata": {
    "id": "smyviuNfOMpu"
   },
   "source": [
    "## Condicional `if`\n",
    "\n",
    "Comprova se uma expressão é certa (`True`)."
   ]
  },
  {
   "cell_type": "code",
   "execution_count": null,
   "metadata": {
    "id": "ja9NeS-zOG8Q"
   },
   "outputs": [],
   "source": [
    "num = 5\n",
    "if num < 3:\n",
    "  print(\"menor a 3\")\n",
    "elif num <= 5:\n",
    "  print(\"menor ou igual a 5\")\n",
    "else:\n",
    "  print(\"maior de 5\")"
   ]
  },
  {
   "cell_type": "markdown",
   "metadata": {
    "id": "Izm9DldVBH5P"
   },
   "source": [
    "## Estruturas de repetição (*loops*)"
   ]
  },
  {
   "cell_type": "markdown",
   "metadata": {
    "id": "j5ri5BvxQOfq"
   },
   "source": [
    "### `for`\n",
    "\n",
    "Permite percorrer um grupo de elementos que são iteráveis (por exemplo, listas)."
   ]
  },
  {
   "cell_type": "code",
   "execution_count": null,
   "metadata": {
    "id": "n6g3T1XTYdX4"
   },
   "outputs": [],
   "source": [
    "for n in [1, 2, 3]:\n",
    "  print(n)"
   ]
  },
  {
   "cell_type": "code",
   "execution_count": null,
   "metadata": {
    "id": "jTYRAg_gOKuA"
   },
   "outputs": [],
   "source": [
    "freqs = {\"medo\": 129, \"repetição\": 54, \"percorrer\": 2}\n",
    "\n",
    "for key, val in colloc.items():\n",
    "  print(f\"chave: {key} // valor: {val}\")\n",
    "  print(\"chave: {} // valor: {}\".format(key, val))"
   ]
  },
  {
   "cell_type": "code",
   "execution_count": null,
   "metadata": {
    "id": "60Z_5TmCB8Xh"
   },
   "outputs": [],
   "source": [
    "print(\"Fibonacci\\n\")\n",
    "\n",
    "fibonacci = [1, 1, 2, 3, 5, 8, 13, 21]\n",
    "for idx, num in enumerate(fibonacci):\n",
    "  print(f\"posición {idx}: {num}\")"
   ]
  },
  {
   "cell_type": "code",
   "execution_count": null,
   "metadata": {
    "id": "Yj--vkd4B-vL"
   },
   "outputs": [],
   "source": [
    "print(\"Fibonacci ^ 2\\n\")\n",
    "\n",
    "for num in fibonacci:\n",
    "  print(num * num)"
   ]
  },
  {
   "cell_type": "markdown",
   "metadata": {
    "id": "1cPjyg_WzpHs"
   },
   "source": [
    "Podemos utilizar a função `range()` para produzir uma sequência de números e percorrê-los numa estrutura de repetição.\n",
    "\n",
    "Sintaxe: `range([init], end, [step])`\n",
    "\n",
    "Cria uma sequência de números começando em `init` (incluído) e terminando em `end` (não incluído), com o intervalo `step`. Se `init` não for especificado, por defeito é 0. Da mesma forma, se `step` não for especificado, o valor utilizado é 1."
   ]
  },
  {
   "cell_type": "code",
   "execution_count": null,
   "metadata": {
    "id": "3Rp1qCne0yF9"
   },
   "outputs": [],
   "source": [
    "# sequência entre 0 e 9\n",
    "for num in range(10):\n",
    "    print(num)"
   ]
  },
  {
   "cell_type": "code",
   "execution_count": null,
   "metadata": {
    "id": "1G6DS75I1BIB"
   },
   "outputs": [],
   "source": [
    "# sequência entre 0 e 9 de 3 en 3\n",
    "for num in range(0, 10, 3):\n",
    "    print(num)"
   ]
  },
  {
   "cell_type": "code",
   "execution_count": null,
   "metadata": {
    "id": "ji8ZOYF41R1z"
   },
   "outputs": [],
   "source": [
    "# sequência entre 10 e 1 de 2 en 2\n",
    "for num in range(10, 0, -2):\n",
    "    print(num)"
   ]
  },
  {
   "cell_type": "markdown",
   "metadata": {
    "id": "piXdTwOr43Ze"
   },
   "source": [
    "### `while`\n",
    "\n",
    "Executa um bloco de código desde que uma condição seja satisfeita."
   ]
  },
  {
   "cell_type": "code",
   "execution_count": null,
   "metadata": {
    "id": "VZ6exCwx69ZV"
   },
   "outputs": [],
   "source": [
    "x = 0\n",
    "while x < 5:\n",
    "  print(f'{x} * 2 = {x * 2}')\n",
    "  x += 1"
   ]
  },
  {
   "cell_type": "markdown",
   "metadata": {
    "id": "QkRqDInz7uzs"
   },
   "source": [
    "É possível forçar a saída mediante `break` sem satisfazer a condição."
   ]
  },
  {
   "cell_type": "code",
   "execution_count": null,
   "metadata": {
    "id": "pnBHdtpk74IU"
   },
   "outputs": [],
   "source": [
    "x = 29\n",
    "while x > 0:\n",
    "  print(f\"x = {x}\")\n",
    "  if x % 5 == 0:\n",
    "    break\n",
    "  x -= 1"
   ]
  },
  {
   "cell_type": "markdown",
   "metadata": {
    "id": "taXuzbyAB8C_"
   },
   "source": [
    "Quando há estruturas aninhadas, o comando `break` sai da estrutura em que está, não de todas elas."
   ]
  },
  {
   "cell_type": "code",
   "execution_count": null,
   "metadata": {
    "id": "80Lwy105G7ak"
   },
   "outputs": [],
   "source": [
    "x = 5\n",
    "while x > 0:\n",
    "  for y in [1, 4, 9]:\n",
    "    print(f\"x: {x}    y: {y}\")\n",
    "  if x % 2 == 0:\n",
    "    break\n",
    "  x -= 1"
   ]
  },
  {
   "cell_type": "code",
   "execution_count": null,
   "metadata": {
    "id": "wkqBa1uIB5fL"
   },
   "outputs": [],
   "source": [
    "x = 380\n",
    "primes = [1]\n",
    "while x > 1:\n",
    "  for n in range(2, x + 1):\n",
    "    if x % n == 0:\n",
    "      primes.append(n)\n",
    "      x //= n\n",
    "      break\n",
    "\n",
    "print(primes)"
   ]
  },
  {
   "cell_type": "markdown",
   "metadata": {
    "id": "7K185tZBCbJt"
   },
   "source": [
    "Utilizando `continue` podemos interromper a execução do código em um ponto e fazer com que ele passe para a próxima iteração."
   ]
  },
  {
   "cell_type": "code",
   "execution_count": null,
   "metadata": {
    "id": "E_5-mNur92wa"
   },
   "outputs": [],
   "source": [
    "x = 19\n",
    "while x > 0:\n",
    "  if x % 2 == 0:\n",
    "    x -= 1\n",
    "    continue\n",
    "\n",
    "  print(f\"Número ímpar {x}\")\n",
    "  x -= 1"
   ]
  },
  {
   "cell_type": "markdown",
   "metadata": {
    "id": "3sPNvrFSGBYE"
   },
   "source": [
    "# Funções\n",
    "\n",
    "Permitem criar blocos de código que podem ser executados muitas vezes no programa. A sintaxe típica é:\n",
    "\n",
    "```\n",
    "def nome (arg1, arg2, argN):\n",
    "   código\n",
    "   código\n",
    "\n",
    "   return valor\n",
    "```\n",
    "\n",
    "Se nenhum valor de retorno for especificado, as funções retornam `None`."
   ]
  },
  {
   "cell_type": "code",
   "execution_count": null,
   "metadata": {
    "id": "HYUr2gv0tlBE"
   },
   "outputs": [],
   "source": [
    "def factors(x):\n",
    "  factors = [1]\n",
    "  while x > 1:\n",
    "    for n in range(2, x + 1):\n",
    "      if x % n == 0:\n",
    "        factors.append(n)\n",
    "        x //= n\n",
    "        break\n",
    "  return factors\n",
    "\n",
    "\n",
    "n1 = 380\n",
    "n2 = 96\n",
    "\n",
    "factors1 = factors(n1)\n",
    "factors2 = factors(n2)\n",
    "\n",
    "print(f'Fatores primos de {n1}: {factors1}')\n",
    "print(f'Fatores primos de {n2}: {factors2}')"
   ]
  },
  {
   "cell_type": "markdown",
   "metadata": {
    "id": "QRpYYMBhy7Gr"
   },
   "source": [
    "## Âmbito das variáveis\n",
    "\n",
    "As variáveis declaradas dentro de uma função são locais e só podem ser acedidas desde essa função. Variáveis declaradas fora de funções pertencem ao escopo global e são visíveis de qualquer parte do código. No entanto, para que seja possível trabalhar com elas (por exemplo, modificá-las), devem ser declaradas como globais com `global`."
   ]
  },
  {
   "cell_type": "code",
   "execution_count": null,
   "metadata": {
    "id": "dQ9xDK0GwGHd"
   },
   "outputs": [],
   "source": [
    "def func():\n",
    "  a = 10\n",
    "  global b\n",
    "  print(f'(dentro func 1) a: {a}, b: {b}, c: {c}')\n",
    "\n",
    "  a += 20\n",
    "  b -= 150\n",
    "  print(f'(dentro func 2) a: {a}, b: {b}, c: {c}')\n",
    "\n",
    "\n",
    "a = 100\n",
    "b = 200\n",
    "c = 300\n",
    "\n",
    "print(f'(fora func 1) a: {a}, b: {b}, c: {c}')\n",
    "func()\n",
    "print(f'(fora func 2) a: {a}, b: {b}, c: {c}')"
   ]
  },
  {
   "cell_type": "markdown",
   "metadata": {
    "id": "R-0Uc7PPfLoz"
   },
   "source": [
    "# Métodos\n",
    "\n",
    "São como as funções, mas são sempre aplicadas a um objeto utilizando o operador de ponto (`.`).\n",
    "\n",
    "```\n",
    "objeto.metodo(arg1, arg2, argN)\n",
    "```\n",
    "\n",
    "As funções partilham com as funções o facto de poderem receber diferentes argumentos e de devolverem sempre pelo menos um valor (que por defeito será `None`).\n",
    "\n",
    "Ao contrário das funções, só podemos definir os nossos próprios métodos dentro das classes.\n",
    "\n",
    "Como os métodos estão necessariamente ligados a um objeto, podem ser classificados de acordo com o tipo de objeto.\n",
    "\n",
    "\n"
   ]
  },
  {
   "cell_type": "markdown",
   "metadata": {
    "id": "RcCfsn_muSPC"
   },
   "source": [
    "## `String`\n",
    "\n",
    "Alguns dos métodos mais importantes do tipo de objeto `String`:\n",
    "\n"
   ]
  },
  {
   "cell_type": "markdown",
   "metadata": {
    "id": "6rOy8UTYuWvS"
   },
   "source": [
    "### `split()`\n",
    "\n",
    "Sintaxe: `str.split([sep], [maxsplits])`\n",
    "\n",
    "Devolve a lista de itens resultante da separação da cadeia `str` utilizando o separador `sep`."
   ]
  },
  {
   "cell_type": "code",
   "execution_count": null,
   "metadata": {
    "id": "96yBJwGJnwpw"
   },
   "outputs": [],
   "source": [
    "sample = \"135,9,6\"\n",
    "sample.split(\",\")"
   ]
  },
  {
   "cell_type": "markdown",
   "metadata": {
    "id": "3KyW_WzgxC5f"
   },
   "source": [
    "Se não for especificado `sep`, utiliza o espaço em branco por defeito."
   ]
  },
  {
   "cell_type": "code",
   "execution_count": null,
   "metadata": {
    "id": "lWeQdccqxG0X"
   },
   "outputs": [],
   "source": [
    "sample = \"Devolve a lista de elementos resultante de separar um texto com o separador por defeito.\"\n",
    "sample.split()"
   ]
  },
  {
   "cell_type": "markdown",
   "metadata": {
    "id": "PsHxO9mj1Iw_"
   },
   "source": [
    "Se quisermos mudar a ordem natural dos argumentos do método ou da função, ou omitir algum, nesse caso devemos fazer explícito o nome do argumento."
   ]
  },
  {
   "cell_type": "code",
   "execution_count": null,
   "metadata": {
    "id": "Pv4SRTj_zqZB"
   },
   "outputs": [],
   "source": [
    "sample.split(maxsplit=5)"
   ]
  },
  {
   "cell_type": "code",
   "execution_count": null,
   "metadata": {
    "id": "WMJo1_2Z4Tvf"
   },
   "outputs": [],
   "source": [
    "sample = \"superfície,ocupar;32;6.49363310277496\"\n",
    "sample.split(maxsplit=1, sep=\";\")"
   ]
  },
  {
   "cell_type": "markdown",
   "metadata": {
    "id": "tNAPssR_zpMm"
   },
   "source": [
    "Esta última sería equivalente a:"
   ]
  },
  {
   "cell_type": "code",
   "execution_count": null,
   "metadata": {
    "id": "6DOtQ47E4q6w"
   },
   "outputs": [],
   "source": [
    "sample.split(\";\", 1)"
   ]
  },
  {
   "cell_type": "markdown",
   "metadata": {
    "id": "WYix0DcK5DWo"
   },
   "source": [
    "### `lower()`, `upper()`, `swapcase()`, `capitalize()`, `title()`\n",
    "\n",
    "Mudam para maiúsculas ou minúsculas conforme o método utilizado, devolvendo a cadeia modificada. Não aceitam nenhum argumento."
   ]
  },
  {
   "cell_type": "code",
   "execution_count": null,
   "metadata": {
    "id": "AU_OrUQo5T04"
   },
   "outputs": [],
   "source": [
    "sample = \"Lorem ipsum dolor sit amet\"\n",
    "print(\"upper(): \", sample.upper())\n",
    "print(\"lower(): \", sample.lower())\n",
    "print(\"swapcase(): \", sample.swapcase())"
   ]
  },
  {
   "cell_type": "code",
   "execution_count": null,
   "metadata": {
    "id": "AoMFioa06oFR"
   },
   "outputs": [],
   "source": [
    "sample = \"um método é diferente de uma função.\"\n",
    "print(\"capitalize(): \", sample.capitalize())\n",
    "print(\"title(): \", sample.title())"
   ]
  },
  {
   "cell_type": "markdown",
   "metadata": {
    "id": "oZb16s5pJz-F"
   },
   "source": [
    "### `islower()`, `isupper()`, `istitle()`\n",
    "\n",
    "Alguns dos métodos acima têm o correlato para saber se uma cadeia de caracteres é maiúscula, minúscula ou um título.\n",
    "\n"
   ]
  },
  {
   "cell_type": "code",
   "execution_count": null,
   "metadata": {
    "id": "wu6Qt0_5UECC"
   },
   "outputs": [],
   "source": [
    "\"A\".isupper()"
   ]
  },
  {
   "cell_type": "markdown",
   "metadata": {
    "id": "piE2XyupUH3W"
   },
   "source": [
    "Para além disso, os métodos podem geralmente ser concatenados numa única expressão. A expressão resultante deve ser lida de esquerda a direita."
   ]
  },
  {
   "cell_type": "code",
   "execution_count": null,
   "metadata": {
    "id": "q0H5e9nlMaNy"
   },
   "outputs": [],
   "source": [
    "sample.upper().isupper()      # é possível combinar mais do que um método na mesma expressão"
   ]
  },
  {
   "cell_type": "code",
   "execution_count": null,
   "metadata": {
    "id": "1DSpSyxkM13U"
   },
   "outputs": [],
   "source": [
    "sample.lower().isupper()"
   ]
  },
  {
   "cell_type": "markdown",
   "metadata": {
    "id": "SmI6aY3l833U"
   },
   "source": [
    "### `join()`\n",
    "\n",
    "Permite unir os elementos de um iterável, devolvendo uma cadeia com o resultado.\n",
    "\n",
    "Sintaxe: `str.join(iterable)`"
   ]
  },
  {
   "cell_type": "code",
   "execution_count": null,
   "metadata": {
    "id": "QXONEmm09S1t"
   },
   "outputs": [],
   "source": [
    "lista = \"Devolve a lista de ítens resultante\".split()\n",
    "print(lista)\n",
    "\";;\".join(lista)"
   ]
  },
  {
   "cell_type": "markdown",
   "metadata": {
    "id": "6mg_WIPN9vov"
   },
   "source": [
    "### `strip()`, `lstrip()`, `rstrip()`\n",
    "\n",
    "Permitem eliminar espaços em branco nos extremos (direito, esquerdo ou ambos) de uma cadeia. São muito úteis para limpar um dataset quando foi produzido manualmente."
   ]
  },
  {
   "cell_type": "code",
   "execution_count": null,
   "metadata": {
    "id": "S2zdkzZd-jWn"
   },
   "outputs": [],
   "source": [
    "sample = 'fazer,ler,devolver     '\n",
    "sample.rstrip()\n"
   ]
  },
  {
   "cell_type": "markdown",
   "metadata": {
    "id": "nX3Cni8h_Gm3"
   },
   "source": [
    "Também podemos especificar os caracteres que queremos eliminar."
   ]
  },
  {
   "cell_type": "code",
   "execution_count": null,
   "metadata": {
    "id": "gGd4Xm8t_Lv_"
   },
   "outputs": [],
   "source": [
    "sample = \",fazer,\"\n",
    "sample.strip(\",\")"
   ]
  },
  {
   "cell_type": "markdown",
   "metadata": {
    "id": "PdGn4n2hHnCe"
   },
   "source": [
    "### `startswith()`, `endswith()`\n",
    "\n",
    "Devolvem um booleano indicando se uma cadeia começa ou termina de uma determinada maneira.\n",
    "\n",
    "Sintaxe: str.startswith(str)"
   ]
  },
  {
   "cell_type": "code",
   "execution_count": null,
   "metadata": {
    "id": "x5f8UiUYHlr9"
   },
   "outputs": [],
   "source": [
    "sample = \"Lore ipsum.\"\n",
    "sample.startswith('lore')"
   ]
  },
  {
   "cell_type": "code",
   "execution_count": null,
   "metadata": {
    "id": "LZK_-9jDIOOy"
   },
   "outputs": [],
   "source": [
    "sample.endswith('.')"
   ]
  },
  {
   "cell_type": "markdown",
   "metadata": {
    "id": "bLlT7oYFaycX"
   },
   "source": [
    "### `find()`, `index()`\n",
    "\n",
    "Estes métodos permitem localizar cadeias dentro de outras. A diferença entre eles está principalmente no facto de que `find()` devolve `-1` se não encontrar o que procura, enquanto `index()` gera uma exceção. No caso de encontrar a cadeia procurada, ambos métodos devolvem a posição do primeiro carácter.\n",
    "\n",
    "Sintaxe:    \n",
    "> `str.find(string)`   \n",
    "> `str.index(string)`    "
   ]
  },
  {
   "cell_type": "code",
   "execution_count": null,
   "metadata": {
    "id": "ItyDXpPMbNzs"
   },
   "outputs": [],
   "source": [
    "print(sample)\n",
    "sample.index(\"método\")"
   ]
  },
  {
   "cell_type": "code",
   "execution_count": null,
   "metadata": {
    "id": "A3LLHyHsbcfO"
   },
   "outputs": [],
   "source": [
    "try:\n",
    "    pos = sample.index(\"método\")\n",
    "except ValueError:\n",
    "    pos = None\n",
    "    print(\"Não foi encontrada a cadeia procurada, e index() provoca uma exceção do tipo ValueError.\")"
   ]
  },
  {
   "cell_type": "code",
   "execution_count": null,
   "metadata": {
    "id": "mVwS6DBPcQeE"
   },
   "outputs": [],
   "source": [
    "sample.find(\"método\")"
   ]
  },
  {
   "cell_type": "code",
   "execution_count": null,
   "metadata": {
    "id": "Vi6FuuZFcU-d"
   },
   "outputs": [],
   "source": [
    "sample.index(\"ipsum\")"
   ]
  },
  {
   "cell_type": "code",
   "execution_count": null,
   "metadata": {
    "id": "g45fwq6nVQ5w"
   },
   "outputs": [],
   "source": [
    "sample.find(\"ipsum\")"
   ]
  },
  {
   "cell_type": "markdown",
   "metadata": {
    "id": "hFiO-f2FeQBz"
   },
   "source": [
    "### `replace()`\n",
    "\n",
    "Permite substituir uma sequência de caracteres por outra dentro de uma cadeia. Se especificarmos um terceiro argumento, a substituição será feita apenas `count` vezes.\n",
    "\n",
    "Sintaxe\n",
    "\n",
    "> `str.replace(old, new[, count])`"
   ]
  },
  {
   "cell_type": "code",
   "execution_count": null,
   "metadata": {
    "id": "J9tUpPuaetR6"
   },
   "outputs": [],
   "source": [
    "sample = \"Isto é uma prova, é um teste.\"\n",
    "sample.replace('um', 'UM')"
   ]
  },
  {
   "cell_type": "code",
   "execution_count": null,
   "metadata": {
    "id": "o6ZVl_oPfq5b"
   },
   "outputs": [],
   "source": [
    "sample.replace('é', 'e', 1)"
   ]
  },
  {
   "cell_type": "markdown",
   "metadata": {
    "id": "xPqDgCeage44"
   },
   "source": [
    "### `count()`\n",
    "\n",
    "Devolve o número de vezes que uma sequência de caracteres aparece dentro de uma cadeia.\n",
    "\n",
    "Sintaxe:\n",
    "\n",
    "> str.count(substring)"
   ]
  },
  {
   "cell_type": "code",
   "execution_count": null,
   "metadata": {
    "id": "G5PZzM_6gfef"
   },
   "outputs": [],
   "source": [
    "sample.count('um')"
   ]
  },
  {
   "cell_type": "markdown",
   "metadata": {
    "id": "jAD1RwUzu8CT"
   },
   "source": [
    "## `List`\n",
    "\n",
    "Alguns dos métodos mais importantes do tipo de objeto List:\n"
   ]
  },
  {
   "cell_type": "markdown",
   "metadata": {
    "id": "zldJR68mvBG2"
   },
   "source": [
    "### `sort()`\n",
    "\n",
    "Sintaxe: `list.sort([key=func()], [reverse=True|False])`\n",
    "\n",
    "Ordena (*in-place*) uma lista alfabeticamente de menor a maior, sendo possível obter a ordem descendente usando `reverse=True`. Com `key`, é possível especificar uma função de ordenação de um argumento que é utilizada para obter uma chave de comparação para cada elemento da lista."
   ]
  },
  {
   "cell_type": "code",
   "execution_count": null,
   "metadata": {
    "id": "Q1k__Ey_ySdE"
   },
   "outputs": [],
   "source": [
    "# Ordem ascendente\n",
    "cores = ['laranja', 'preto', 'verde', 'azul', 'branco', 'amarelo']\n",
    "cores.sort()\n",
    "\n",
    "print(cores)"
   ]
  },
  {
   "cell_type": "markdown",
   "metadata": {
    "id": "HUoQYmcBxLU_"
   },
   "source": [
    "Ordem descendente."
   ]
  },
  {
   "cell_type": "code",
   "execution_count": null,
   "metadata": {
    "id": "-WVOGjOpy4OD"
   },
   "outputs": [],
   "source": [
    "# Ordem descendente\n",
    "cores = ['laranja', 'preto', 'verde', 'azul', 'branco', 'amarelo']\n",
    "cores.sort(reverse=True)\n",
    "\n",
    "print(cores)"
   ]
  },
  {
   "cell_type": "markdown",
   "metadata": {
    "id": "8ltzdz2FwpOv"
   },
   "source": [
    "**Atenção:**"
   ]
  },
  {
   "cell_type": "code",
   "execution_count": null,
   "metadata": {
    "id": "bCaWT4J7w8QK"
   },
   "outputs": [],
   "source": [
    "cores = ['laranja', 'preto', 'verde', 'Azul', 'branco', 'amarelo']\n",
    "cores.sort()\n",
    "\n",
    "print(cores)"
   ]
  },
  {
   "cell_type": "markdown",
   "metadata": {
    "id": "Zd_68MH_xYbj"
   },
   "source": [
    "Porque é que a ordem muda neste caso?\n",
    "\n",
    "> https://www.ascii-code.com/  \n",
    "> https://en.wikipedia.org/wiki/Basic_Latin_(Unicode_block)  \n",
    "> https://docs.python.org/3/library/stdtypes.html#list.sort\n",
    "\n",
    "Pode ser resolvido utilizando uma função de ordenação que normalize.\n"
   ]
  },
  {
   "cell_type": "code",
   "execution_count": null,
   "metadata": {
    "id": "dYXdyVgW3Zsr"
   },
   "outputs": [],
   "source": [
    "def normalize(s):\n",
    "  return s.lower()\n",
    "\n",
    "cores = ['laranxa', 'negro', 'verde', 'Azul', 'branco', 'amarelo']\n",
    "cores.sort(key=normalize)\n",
    "\n",
    "print(cores)"
   ]
  },
  {
   "cell_type": "markdown",
   "metadata": {
    "id": "d5AYeSLR9C9j"
   },
   "source": [
    "Outros exemplos de utilização:"
   ]
  },
  {
   "cell_type": "code",
   "execution_count": null,
   "metadata": {
    "id": "9f93KRxAzAIO"
   },
   "outputs": [],
   "source": [
    "# Ordem ascendente por tamanho do elemento (utilizando função básica)\n",
    "cores = ['laranja', 'preto', 'verde', 'azul', 'branco', 'amarelo']\n",
    "cores.sort(key=len)\n",
    "\n",
    "print(cores)"
   ]
  },
  {
   "cell_type": "code",
   "execution_count": null,
   "metadata": {
    "id": "YokcojNwzcc5"
   },
   "outputs": [],
   "source": [
    "# Ordem alfabética descendente começando pelo final do item (usando função definida).\n",
    "def rev(s):\n",
    "  return s[::-1].lower()\n",
    "\n",
    "cores = ['laranja', 'preto', 'verde', 'azul', 'branco', 'AMARELO']\n",
    "\n",
    "cores.sort(key=rev, reverse=True)\n",
    "\n",
    "print(cores)"
   ]
  },
  {
   "cell_type": "markdown",
   "metadata": {
    "id": "ObR4GlD49Xf4"
   },
   "source": [
    "### `count(item)`\n",
    "\n",
    "Devolve a quantidade de vezes que `item` aparece na lista."
   ]
  },
  {
   "cell_type": "code",
   "execution_count": null,
   "metadata": {
    "id": "rdJRwMai9r9F"
   },
   "outputs": [],
   "source": [
    "cores = ['laranja', 'preto', 'verde', 'azul', 'branco', 'verde', 'amarelo']\n",
    "\n",
    "cores.count('verde')"
   ]
  },
  {
   "cell_type": "markdown",
   "metadata": {
    "id": "C6x4-2mP-K3w"
   },
   "source": [
    "### `clear()`\n",
    "\n",
    "Elimina todos os elementos da lista."
   ]
  },
  {
   "cell_type": "code",
   "execution_count": null,
   "metadata": {
    "id": "0ZCGpR0z-UOh"
   },
   "outputs": [],
   "source": [
    "print(\"Antes:\", cores)\n",
    "\n",
    "cores.clear()\n",
    "\n",
    "print(\"Depois:\", cores)"
   ]
  },
  {
   "cell_type": "markdown",
   "metadata": {
    "id": "sNLNnRpXACbe"
   },
   "source": [
    "### `reverse()`\n",
    "\n",
    "Inverte a ordem dos elementos numa lista."
   ]
  },
  {
   "cell_type": "code",
   "execution_count": null,
   "metadata": {
    "id": "pbbXB55GAK1s"
   },
   "outputs": [],
   "source": [
    "cores = ['preto', 'amarelo', 'branco', 'azul', 'verde', 'laranja']\n",
    "\n",
    "cores.reverse()\n",
    "\n",
    "cores"
   ]
  },
  {
   "cell_type": "markdown",
   "metadata": {
    "id": "029_jvZkBmCF"
   },
   "source": [
    "### `index()`\n",
    "\n",
    "Sintaxe: `list.index(x, [start, end])`\n",
    "\n",
    "Retorna o índice onde se encontra o primeiro elemento `x` da lista, começando em `start` e finalizando em `end` (por defeito, toda a lista). Se o elemento não existir, gera uma exceção."
   ]
  },
  {
   "cell_type": "code",
   "execution_count": null,
   "metadata": {
    "id": "PeZvNkxiSZPS"
   },
   "outputs": [],
   "source": [
    "cores = ['laranja', 'preto', 'verde', 'azul', 'branco', 'verde', 'amarelo']\n",
    "\n",
    "# Índice de 'verde' na lista completa\n",
    "cores.index('verde')"
   ]
  },
  {
   "cell_type": "code",
   "execution_count": null,
   "metadata": {
    "id": "Fc8A_eGAS90Z"
   },
   "outputs": [],
   "source": [
    "# Índice de 'verde' a partir do elemento 4\n",
    "cores.index('verde', 4)"
   ]
  },
  {
   "cell_type": "code",
   "execution_count": null,
   "metadata": {
    "id": "GFL_hfLHTNSG"
   },
   "outputs": [],
   "source": [
    "# Elemento não existente tratado com try:except\n",
    "try:\n",
    "  cores.index('cinzento')\n",
    "except:\n",
    "  print(\"O 'cinzento' não faz parte da lista.\")"
   ]
  },
  {
   "cell_type": "markdown",
   "metadata": {
    "id": "yjpczmBp_WTS"
   },
   "source": [
    "### `copy()`\n",
    "\n",
    "Devolve uma copia da lista."
   ]
  },
  {
   "cell_type": "code",
   "execution_count": null,
   "metadata": {
    "id": "Z73mSA3z_d9l"
   },
   "outputs": [],
   "source": [
    "cores = ['laranja', 'preto', 'verde', 'azul', 'branco', 'verde', 'amarelo']\n",
    "\n",
    "print(\"Lista original:\", id(cores))\n",
    "\n",
    "cores_copy = cores.copy()\n",
    "print(\"Lista duplicada:\", id(cores_copy))"
   ]
  },
  {
   "cell_type": "markdown",
   "metadata": {
    "id": "QnoGKh1f_4K1"
   },
   "source": [
    "Atenção: não se deve duplicar uma lista mediante o operador de asignação."
   ]
  },
  {
   "cell_type": "code",
   "execution_count": null,
   "metadata": {
    "id": "5CtL4taj_--H"
   },
   "outputs": [],
   "source": [
    "cores_asign = cores\n",
    "\n",
    "print(\"Lista copiada com o operador de asignação:\", id(cores_asign))"
   ]
  },
  {
   "cell_type": "code",
   "execution_count": null,
   "metadata": {
    "id": "FuJ12vxsANHI"
   },
   "outputs": [],
   "source": [
    "print(\"Lista original:        \", cores)\n",
    "print(\"Lista duplicada copy():\", cores_copy)\n",
    "print(\"Lista duplicada =:     \", cores_asign)"
   ]
  },
  {
   "cell_type": "code",
   "execution_count": null,
   "metadata": {
    "id": "44LZnX3nA1q5"
   },
   "outputs": [],
   "source": [
    "print(\"Eliminamos 'laranja' da lista duplicada utilizando copy()\")\n",
    "cores_copy.remove('laranja')\n",
    "\n",
    "print(\"Eliminamos 'preto' da lista duplicada utilizando =\")\n",
    "cores_asign.remove('preto')"
   ]
  },
  {
   "cell_type": "code",
   "execution_count": null,
   "metadata": {
    "id": "wcEGA6UWBAOl"
   },
   "outputs": [],
   "source": [
    "print(\"Lista original:          \", cores)\n",
    "print(\"Lista 1 duplicada copy():\", cores_copy)\n",
    "print(\"Lista 2 duplicada =:     \", cores_asign)"
   ]
  },
  {
   "cell_type": "markdown",
   "metadata": {
    "id": "qgGetqc5FslO"
   },
   "source": [
    "Esta é uma consideração importante para todos os tipos de dados mutáveis, portanto também afecta os dicionários e os conjuntos."
   ]
  },
  {
   "cell_type": "markdown",
   "metadata": {
    "id": "J__M3zZaG0Ne"
   },
   "source": [
    "## Dict\n",
    "\n",
    "Alguns dos métodos mais importantes do tipo `Dict`:"
   ]
  },
  {
   "cell_type": "markdown",
   "metadata": {
    "id": "1iKQGsjUtdY6"
   },
   "source": [
    "### `clear()`\n",
    "\n",
    "Elimina todos os elementos do dicionário."
   ]
  },
  {
   "cell_type": "code",
   "execution_count": null,
   "metadata": {
    "id": "FDNleVNQtgzp"
   },
   "outputs": [],
   "source": [
    "word_freqs = {\n",
    "  \"the\": 19,\n",
    "  \"book\": 3,\n",
    "  \"is\": 20,\n",
    "  \"on\": 16,\n",
    "  \"table\": 5\n",
    "}\n",
    "\n",
    "print(word_freqs)\n",
    "\n",
    "word_freqs.clear()\n",
    "\n",
    "print(word_freqs)"
   ]
  },
  {
   "cell_type": "markdown",
   "metadata": {
    "id": "0E2G5YbKu-hB"
   },
   "source": [
    "### `copy()`\n",
    "\n",
    "Devolve uma cópia do dicionário."
   ]
  },
  {
   "cell_type": "code",
   "execution_count": null,
   "metadata": {
    "id": "zV_tx0qgvAoR"
   },
   "outputs": [],
   "source": [
    "word_freqs = {\n",
    "  \"the\": 19,\n",
    "  \"book\": 3,\n",
    "  \"is\": 20,\n",
    "  \"on\": 16,\n",
    "  \"table\": 5\n",
    "}\n",
    "\n",
    "copia = word_freqs.copy()\n",
    "print(id(word_freqs), word_freqs)\n",
    "print(id(copia), copia)"
   ]
  },
  {
   "cell_type": "markdown",
   "metadata": {
    "id": "gmkW059O20Hn"
   },
   "source": [
    "### `fromkeys(keys, [value])`\n",
    "\n",
    "Retorna um dicionário com as chaves especificadas como `keys` com o mesmo valor `value`. Se `value` não for incluído, o valor atribuído às chaves é `None`."
   ]
  },
  {
   "cell_type": "code",
   "execution_count": null,
   "metadata": {
    "id": "U84bWe7X5Ps6"
   },
   "outputs": [],
   "source": [
    "words = ['in', 'a', 'hole', 'the', 'ground', 'there', 'lived', 'hobbit', '.']\n",
    "\n",
    "freqs = dict.fromkeys(words, 0)\n",
    "\n",
    "freqs"
   ]
  },
  {
   "cell_type": "markdown",
   "metadata": {
    "id": "FhCc4Q-U6xaL"
   },
   "source": [
    "### `get(key, [fallback])`\n",
    "\n",
    "Retorna o valor do dicionário associado com a chave `key`. Se a chave não existir, retorna `fallback` (o predefinido é `None`)."
   ]
  },
  {
   "cell_type": "code",
   "execution_count": null,
   "metadata": {
    "id": "1Z6oMYTe8Mlw"
   },
   "outputs": [],
   "source": [
    "word_freqs = {\n",
    "  \"the\": 19,\n",
    "  \"book\": 3,\n",
    "  \"is\": 20,\n",
    "  \"on\": 16,\n",
    "  \"table\": 5\n",
    "}\n",
    "\n",
    "nouns = [\"table\", \"chair\"]\n",
    "for noun in nouns:\n",
    "    print(f\"{noun}:\", word_freqs.get(noun, f'non hai entrada para {noun}'))"
   ]
  },
  {
   "cell_type": "markdown",
   "metadata": {
    "id": "c-VRuEIR9qUt"
   },
   "source": [
    "É importante utilizar `get()` para recuperar elementos de um dicionário, especialmente quando existe a possibilidade de que as chaves que estamos tentando recuperar não existam."
   ]
  },
  {
   "cell_type": "code",
   "execution_count": null,
   "metadata": {
    "id": "zlaOegjN99JX"
   },
   "outputs": [],
   "source": [
    "\n",
    "print(word_freqs.get('chair'))\n",
    "print(word_freqs['chair'])"
   ]
  },
  {
   "cell_type": "markdown",
   "metadata": {
    "id": "sYVwKX_4AJAC"
   },
   "source": [
    "### `pop(key, [value])`\n",
    "\n",
    "Elimina o elemento do dicionário com a chave `key`. Se a chave não existir e `value` não for fornecido, ocorrerá um erro do tipo `KeyError`. Se a chave existir, a entrada será eliminada."
   ]
  },
  {
   "cell_type": "code",
   "execution_count": null,
   "metadata": {
    "id": "ffzpttYNB6HY"
   },
   "outputs": [],
   "source": [
    "word_freqs = {\n",
    "  \"the\": 19,\n",
    "  \"book\": 3,\n",
    "  \"is\": 20,\n",
    "  \"on\": 16,\n",
    "  \"table\": 5\n",
    "}"
   ]
  },
  {
   "cell_type": "code",
   "execution_count": null,
   "metadata": {
    "id": "Rq7nb0kNCBtS"
   },
   "outputs": [],
   "source": [
    "# Chave não existente sem valor = KeyError\n",
    "word_freqs.pop(\"chair\")"
   ]
  },
  {
   "cell_type": "code",
   "execution_count": null,
   "metadata": {
    "id": "WXulkh_vCHSM"
   },
   "outputs": [],
   "source": [
    "# Chave não existente com valor\n",
    "word_freqs.pop(\"chair\", \"Chave non existente\")"
   ]
  },
  {
   "cell_type": "code",
   "execution_count": null,
   "metadata": {
    "id": "t98A3CF3CSQ8"
   },
   "outputs": [],
   "source": [
    "# Chave existente\n",
    "word_freqs.pop(\"table\")\n",
    "\n",
    "word_freqs"
   ]
  },
  {
   "cell_type": "markdown",
   "metadata": {
    "id": "8idKHVCyTL1L"
   },
   "source": [
    "# Manexo de ficheiros\n",
    "\n",
    "Ficheiros de amostra:\n",
    "\n",
    "- test1.csv"
   ]
  },
  {
   "cell_type": "code",
   "execution_count": null,
   "metadata": {
    "id": "Sqp_k7kvYlMC"
   },
   "outputs": [],
   "source": [
    "!cat test1.csv"
   ]
  },
  {
   "cell_type": "markdown",
   "metadata": {
    "id": "nwEAKTo5Ywly"
   },
   "source": [
    "- test2.csv"
   ]
  },
  {
   "cell_type": "code",
   "execution_count": null,
   "metadata": {
    "id": "7H3jCNTTY4WY"
   },
   "outputs": [],
   "source": [
    "!cat test2.csv"
   ]
  },
  {
   "cell_type": "markdown",
   "metadata": {
    "id": "hRoh5JeCrggb"
   },
   "source": [
    "* test3.csv\n"
   ]
  },
  {
   "cell_type": "code",
   "execution_count": null,
   "metadata": {
    "id": "QUKKdzFsrkcK"
   },
   "outputs": [],
   "source": [
    "!cat test3.csv"
   ]
  },
  {
   "cell_type": "markdown",
   "metadata": {
    "id": "quIZ6gGlY2P6"
   },
   "source": [
    "### open() e close()"
   ]
  },
  {
   "cell_type": "markdown",
   "metadata": {
    "id": "JdE5uGKTGwB2"
   },
   "source": [
    "O método `read()` permite ler o ficheiro completo."
   ]
  },
  {
   "cell_type": "code",
   "execution_count": null,
   "metadata": {
    "id": "i5ItISsHRIw2"
   },
   "outputs": [],
   "source": [
    "f = open(\"test1.csv\", \"r\")\n",
    "contents = f.read()\n",
    "print(contents)\n",
    "f.close()"
   ]
  },
  {
   "cell_type": "code",
   "execution_count": null,
   "metadata": {
    "id": "tryfQjlCYDZ2"
   },
   "outputs": [],
   "source": [
    "f = open(\"test1.csv\", \"r\")\n",
    "for line in f:\n",
    "  print(f\"liña: {line}\")\n",
    "f.close()"
   ]
  },
  {
   "cell_type": "code",
   "execution_count": null,
   "metadata": {
    "id": "4tAFYs_8ZJRy"
   },
   "outputs": [],
   "source": [
    "f = open(\"test1.csv\", \"r\")\n",
    "for line in f:\n",
    "  line = line.strip()\n",
    "  print(f\"liña: {line}\")\n",
    "f.close()"
   ]
  },
  {
   "cell_type": "markdown",
   "metadata": {
    "id": "-cIN9WNuaN5e"
   },
   "source": [
    "#### with\n",
    "\n",
    "Quando usamos `open()` dentro de um bloco `with` não precisamos fechar o arquivo aberto."
   ]
  },
  {
   "cell_type": "code",
   "execution_count": null,
   "metadata": {
    "id": "FsNKESZQaGgl"
   },
   "outputs": [],
   "source": [
    "with open(\"test3.csv\", \"r\") as f:\n",
    "  lines = f.read().split(\"\\n\")\n",
    "  print(lines)\n",
    "  for line in lines:\n",
    "    print(f\"liña: {line}\")"
   ]
  },
  {
   "cell_type": "markdown",
   "metadata": {
    "id": "Jjtg3zYTeREO"
   },
   "source": [
    "#### readlines()\n",
    "\n",
    "O método `readlines()` lê o ficheiro inteiro e guarda-o como uma lista em que cada linha do ficheiro é um item."
   ]
  },
  {
   "cell_type": "code",
   "execution_count": null,
   "metadata": {
    "id": "q_Pc2FFpco4m"
   },
   "outputs": [],
   "source": [
    "with open(\"test1.csv\") as f:\n",
    "  lines = f.readlines()\n",
    "  print(lines)"
   ]
  },
  {
   "cell_type": "markdown",
   "metadata": {
    "id": "IhMprG2seWPJ"
   },
   "source": [
    "#### `glob()`\n",
    "\n",
    "O módulo `glob` localiza todos os arquivos e pastas que correspondem à expressão fornecida. Expressões válidas correspondem àquelas suportadas pelo shell na linha de comando. Retorna um iterável com os elementos correspondentes."
   ]
  },
  {
   "cell_type": "code",
   "execution_count": null,
   "metadata": {
    "id": "eYso6FxCyZzc"
   },
   "outputs": [],
   "source": [
    "from glob import glob\n",
    "\n",
    "glob('*')"
   ]
  },
  {
   "cell_type": "markdown",
   "metadata": {
    "id": "7UGyveJxzgPe"
   },
   "source": [
    "Com `glob()` podemos processar vários ficheiros acumulando os dados que obtemos de cada um deles."
   ]
  },
  {
   "cell_type": "code",
   "execution_count": null,
   "metadata": {
    "id": "zZD7Jxd50Og3"
   },
   "outputs": [],
   "source": [
    "numlines = 0\n",
    "for csvfile in glob('*.csv'):\n",
    "    with open(csvfile) as f:\n",
    "        n = len(f.readlines())\n",
    "        print(f\"- Liñas de {csvfile}: {n}\")\n",
    "        numlines += n\n",
    "print(f\"\\nO número total de linhas de todos os ficheiros é: {numlines}\")\n"
   ]
  },
  {
   "cell_type": "markdown",
   "metadata": {
    "id": "U4i9n-EQnFeL"
   },
   "source": [
    "#### `write()`\n",
    "\n",
    "O método `write()` permite escrever dados em ficheiros."
   ]
  },
  {
   "cell_type": "code",
   "execution_count": null,
   "metadata": {
    "id": "ElT1YKEdnXSv"
   },
   "outputs": [],
   "source": [
    "text = \"Lorem ipsum dolor sit amet, consectetur adipiscing elit.\\n\"\n",
    "\n",
    "# Com 'w' cria o ficheiro ou sobrescreve se já existe.\n",
    "with open('saida.txt', 'w') as outf:\n",
    "    outf.write(text)\n",
    "\n",
    "# Com 'a' cria o ficheiro ou adiciona no final se já existe.\n",
    "with open('saida.txt', 'a') as outf:\n",
    "    outf.write(\"Nullam sollicitudin, sapien eu bibendum tincidunt, turpis urna tristique justo.\")"
   ]
  },
  {
   "cell_type": "code",
   "execution_count": null,
   "metadata": {
    "id": "Ln_4qvscoeV3"
   },
   "outputs": [],
   "source": [
    "!cat saida.txt"
   ]
  },
  {
   "cell_type": "markdown",
   "metadata": {
    "id": "BKcH55WZNdxz"
   },
   "source": [
    "### Módulo CSV\n",
    "\n",
    "Os principais métodos são:\n",
    "\n",
    "- `reader`: retorna um iterador que permite ler um CSV linha a linha. As opções mais relevantes são:\n",
    "  - `delimiter`: carácter que separa os campos entre si.\n",
    "  - `quotechar`: carácter que pode delimitar cada campo se este contiver o carácter especificado como `delimiter`.\n",
    "- `writer`: permite copiar estruturas de dados para ficheiros CSV.\n",
    "\n",
    "https://docs.python.org/3/library/csv.html"
   ]
  },
  {
   "cell_type": "code",
   "execution_count": null,
   "metadata": {
    "id": "0bTYGvSRPy9O"
   },
   "outputs": [],
   "source": [
    "!cat test2.csv"
   ]
  },
  {
   "cell_type": "code",
   "execution_count": null,
   "metadata": {
    "id": "xreq8VtONfYG"
   },
   "outputs": [],
   "source": [
    "import csv\n",
    "\n",
    "renda_pessoal_avg = {}\n",
    "renda_familiar_avg = {}\n",
    "\n",
    "with open(\"test3.csv\") as csvfile:\n",
    "    csvreader = csv.reader(csvfile, delimiter=',', quotechar='\"', quoting=csv.QUOTE_MINIMAL)\n",
    "    headers = next(csvreader)\n",
    "    for row in csvreader:\n",
    "        for num in range(3, 9):\n",
    "            row[num] = int(row[num])\n",
    "        renda_pessoal_avg[row[1]] = (row[3] + row[4] + row[5]) / 3\n",
    "        renda_familiar_avg[row[1]] = (row[6] + row[7] + row[8]) / 3\n",
    "\n",
    "print(\"Renda pessoal e familiar por bairro (media de 2015-2017):\")\n",
    "for bairro in renda_pessoal_avg.keys():\n",
    "    if not bairro.startswith(\"Noroeste\"):                                                                    \n",
    "        continue\n",
    "    print(f\"{bairro}:\")\n",
    "    print(f\"  - renda pessoal: {renda_pessoal_avg[bairro]}\")\n",
    "    print(f\"  - renda familiar: {renda_familiar_avg[bairro]}\")\n",
    "    print()"
   ]
  },
  {
   "cell_type": "markdown",
   "metadata": {
    "id": "_9DCQMqr_fyK"
   },
   "source": [
    "### Módulo JSON\n",
    "\n",
    "Módulo que facilita o processamento de ficheiros JSON.\n",
    "\n",
    "Os principais métodos são:\n",
    "\n",
    "`load()`: lê um arquivo JSON.  \n",
    "`loads()`: lê uma cadeia de caracteres JSON.  \n",
    "`dump()`: escreve um objeto num arquivo JSON.  \n",
    "`dumps()`: escreve um objeto numa cadeia de caracteres JSON.\n",
    "\n",
    "> https://docs.python.org/3/library/json.html"
   ]
  },
  {
   "cell_type": "code",
   "execution_count": null,
   "metadata": {
    "id": "5hKpZUh2BZ5P"
   },
   "outputs": [],
   "source": [
    "import json\n",
    "\n",
    "json_string = \"\"\"[\n",
    "  {\"word\": \"depois\", \"lemma\": \"depois\", \"pos\": \"RG\", \"feats\": []},\n",
    "  {\"word\": \"a\", \"lemma\": \"o\", \"pos\": \"DA0FS0\", \"feats\": [{\"gender\": \"fem\"}, {\"number\": \"sing\"}]},\n",
    "  {\"word\": \"mulher\", \"lemma\": \"mulher\", \"pos\": \"NCFS000\", \"feats\": [{\"gender\": \"fem\"}, {\"number\": \"sing\"}]},\n",
    "  {\"word\": \"de\", \"lemma\": \"de\", \"pos\": \"SP\", \"feats\": [{\"adptype\": \"prep\"}]}\n",
    "]\"\"\"\n",
    "\n",
    "words = json.loads(json_string)\n",
    "\n",
    "print(type(words))\n",
    "\n",
    "print(words[2]['lemma'], words[2]['feats'])"
   ]
  },
  {
   "cell_type": "code",
   "execution_count": null,
   "metadata": {
    "id": "OGFF5kjkEqWc"
   },
   "outputs": [],
   "source": [
    "words[0]['lemma'] = \"antes\"\n",
    "new_json_string = json.dumps(words, ensure_ascii=False, indent=4)\n",
    "\n",
    "print(new_json_string)"
   ]
  },
  {
   "cell_type": "markdown",
   "metadata": {
    "id": "t0YDdXVZVaXP"
   },
   "source": [
    "# Expressões regulares\n",
    "\n",
    "As expressões regulares são padrões expressos numa linguagem regular, que permitem procurar correspondências em cadeias de caracteres. Em Python existem dois módulos principais para trabalhar com expressões regulares:\n",
    "\n",
    "- `re`: faz parte do *python core*. Referência: https://docs.python.org/3/library/re.html\n",
    "- `regex`: não faz parte do *python core*, então é necessário instalá-lo primeiro. Referência: https://docs.python.org/3/howto/regex.html\n",
    "\n",
    "As operações padrão são suportadas pelo módulo `re` e, na prática, só será necessário utilizar `regex` para questões muito específicas (por exemplo, padrões *look-ahead* e *look-behind*)."
   ]
  },
  {
   "cell_type": "code",
   "execution_count": null,
   "metadata": {
    "id": "3Fxzw1lzkcY-"
   },
   "outputs": [],
   "source": [
    "import re"
   ]
  },
  {
   "cell_type": "markdown",
   "metadata": {
    "id": "zAimoxpme5wG"
   },
   "source": [
    "## Os padrões\n",
    "\n",
    "São normalmente expressos em Python entre aspas e precedidos pelo marcador `r` (raw)."
   ]
  },
  {
   "cell_type": "code",
   "execution_count": null,
   "metadata": {
    "id": "LRy9O2ywdukQ"
   },
   "outputs": [],
   "source": [
    "# regex pattern\n",
    "pattern = r'^i[nr].*ción$'"
   ]
  },
  {
   "cell_type": "markdown",
   "metadata": {
    "id": "1oqhSY5Fe87a"
   },
   "source": [
    "## A linguagem\n",
    "\n",
    "Algumas ligações de referência para rever a linguagem das expressões regulares:\n",
    "\n",
    "- [Referência da sintaxe de regex em python](https://docs.python.org/3/library/re.html#regular-expression-syntax) (módulo `re`)\n",
    "- [Ferramenta para experimentar expressões regulares](https://regex101.com)"
   ]
  },
  {
   "cell_type": "markdown",
   "metadata": {
    "id": "jTrgvonegnEF"
   },
   "source": [
    "## Os métodos\n",
    "\n",
    "Muitos métodos do módulo `re` possibilitam a especificação de *flags* para definir alguns critérios de configuração. Algumas dessas *flags* são:\n",
    "\n",
    "- `re.IGNORECASE`: o padrão será insensível a maiúsculas e minúsculas.\n",
    "- `re.DOTALL`: faz com que o carácter especial '.' detecte qualquer tipo de carácter, incluindo caracteres de nova linha."
   ]
  },
  {
   "cell_type": "markdown",
   "metadata": {
    "id": "GwKRUjFskXua"
   },
   "source": [
    "### `match(pattern, string, flags=0)`\n",
    "\n",
    "Procura um padrão apenas no início da cadeia."
   ]
  },
  {
   "cell_type": "code",
   "execution_count": null,
   "metadata": {
    "id": "f_Ozmhb-glCd"
   },
   "outputs": [],
   "source": [
    "data = ['riesgo,correr', 'cambio,implicar', 'superficie,ocupar', 'interés,despertar', 'norma,seguir', 'perfil,riesgo']\n",
    "\n",
    "for coloc in data:\n",
    "  print(re.match(r'riesgo', coloc))"
   ]
  },
  {
   "cell_type": "markdown",
   "metadata": {
    "id": "50JlSHN9mU--"
   },
   "source": [
    "### `search(pattern, string, flags=0)`\n",
    "\n",
    "Procura um padrão em qualquer lugar da cadeia."
   ]
  },
  {
   "cell_type": "code",
   "execution_count": null,
   "metadata": {
    "id": "zeQ5x0A5mf32"
   },
   "outputs": [],
   "source": [
    "for coloc in data:\n",
    "  print(re.search(r'riesgo', coloc))"
   ]
  },
  {
   "cell_type": "markdown",
   "metadata": {
    "id": "ULPk0GIgmr2w"
   },
   "source": [
    "Nos dois casos é retornado um objeto que nos permite aceder tanto à cadeia de caracteres coincidente (`group(0)`) como à sua posição na cadeia original (`start` e `end`)."
   ]
  },
  {
   "cell_type": "code",
   "execution_count": null,
   "metadata": {
    "id": "YeWG5y9hm4xk"
   },
   "outputs": [],
   "source": [
    "for coloc in data:\n",
    "  m = re.search(r',\\w+r$', coloc)\n",
    "  if m:\n",
    "    print(f'Houve coincidência em {coloc}.')\n",
    "    print(f'  Início: {m.start()}, final: {m.end()}.')\n",
    "    print(f'  Match: {m.group()}')\n",
    "  else:\n",
    "    print(f'Não houve coincidência em {coloc}.')"
   ]
  },
  {
   "cell_type": "markdown",
   "metadata": {
    "id": "SD6d1IaoqU7l"
   },
   "source": [
    "### `fullmatch(pattern, string, flags=0)`\n",
    "\n",
    "Procura padrões que coincidam com toda a cadeia."
   ]
  },
  {
   "cell_type": "code",
   "execution_count": null,
   "metadata": {
    "id": "Olgj0yQspv1L"
   },
   "outputs": [],
   "source": [
    "for s in ['arriesgo', 'RIESGO', 'riesgos']:\n",
    "  m = re.fullmatch(r'riesgo', s, re.IGNORECASE)\n",
    "  if m:\n",
    "    print(f\"Match en {s}.\")"
   ]
  },
  {
   "cell_type": "markdown",
   "metadata": {
    "id": "sVQYVgctrRjP"
   },
   "source": [
    "### `split(pattern, string, maxsplit=0, flags=0)`\n",
    "\n",
    "Funciona da mesma forma que o método `split()` de cadeia, exceto que permite a utilização de expressões regulares como separadores."
   ]
  },
  {
   "cell_type": "code",
   "execution_count": null,
   "metadata": {
    "id": "Pv5D0e4grfmP"
   },
   "outputs": [],
   "source": [
    "text = \"riesgo,correr;135,9,6;6.52400675181848\"\n",
    "\n",
    "data = re.split(r\"[,;]\", text)\n",
    "print(data)"
   ]
  },
  {
   "cell_type": "markdown",
   "metadata": {
    "id": "Y-jtT79MsHc4"
   },
   "source": [
    "### `findall(pattern, string, flags=0)`\n",
    "\n",
    "Retorna uma lista de todas as correspondências de um padrão numa cadeia de caracteres, não apenas a primeira."
   ]
  },
  {
   "cell_type": "code",
   "execution_count": null,
   "metadata": {
    "id": "GYHg44i5txn-"
   },
   "outputs": [],
   "source": [
    "text = \"\"\"Segundo os datos publicados na mañá desta cuarta feira pola Consellaría\n",
    "de Sanidade con rexistros até as 18 horas desta terza feira, increméntanse a 11 as\n",
    "persoas ingresadas en UCI pola Covid en toda Galiza.\"\"\"\n",
    "\n",
    "re.findall(r'[A-Z]\\w+', text)"
   ]
  },
  {
   "cell_type": "markdown",
   "metadata": {
    "id": "9RzEl1oCtwoh"
   },
   "source": [
    "No caso de utilizarmos vários grupos no padrão, o resultado pode ser uma lista de tuplas."
   ]
  },
  {
   "cell_type": "code",
   "execution_count": null,
   "metadata": {
    "id": "RufPsLg7vZrf"
   },
   "outputs": [],
   "source": [
    "text = \"\"\"Nov 17 17:32:02 huginn systemd: Starting Laptop Mode Tools - Battery Polling Service.\n",
    "Nov 17 17:32:02 huginn systemd: Reloading Laptop Mode Tools.\n",
    "Nov 17 17:32:02 huginn systemd: lmt-poll.service: Succeeded.\n",
    "Nov 17 17:32:02 huginn systemd: Started Laptop Mode Tools - Battery Polling Service.\"\"\"\n",
    "\n",
    "re.findall(r'(\\w+): (.*)\\.', text)"
   ]
  },
  {
   "cell_type": "markdown",
   "metadata": {
    "id": "UHuQRcJiw33N"
   },
   "source": [
    "### `sub(pattern, repl, string, count=0, flags=0)`\n",
    "\n",
    "Funciona da mesma forma que o método `replace()` de cadeia, mas suporta expressões regulares para expressar a cadeia a ser substituída."
   ]
  },
  {
   "cell_type": "code",
   "execution_count": null,
   "metadata": {
    "id": "NlEvcESkwb5L"
   },
   "outputs": [],
   "source": [
    "text = \"\"\"Segundo os datos publicados na mañá desta cuarta feira pola Consellaría\n",
    "de Sanidade con rexistros até as 18 horas desta terza feira, increméntanse a 11 as\n",
    "persoas ingresadas en UCI pola Covid en toda Galiza.\"\"\"\n",
    "\n",
    "print(re.sub(r'([0-9]+) horas', '####', text))"
   ]
  },
  {
   "cell_type": "markdown",
   "metadata": {
    "id": "MJNBP1Na7KNu"
   },
   "source": [
    "### Greediness\n",
    "\n",
    "Em Python, os padrões que incluem caracteres repetidos são *greedy* por defeito, e para os tornar não *greedy*, têm de ser delimitados."
   ]
  },
  {
   "cell_type": "code",
   "execution_count": null,
   "metadata": {
    "id": "VU5R_sac7Iln"
   },
   "outputs": [],
   "source": [
    "text = \"saltar, comer, brincar, dançar, rir\"\n",
    "re.search(r'.*,', text)"
   ]
  },
  {
   "cell_type": "code",
   "execution_count": null,
   "metadata": {
    "id": "CPU0HL3b7nrZ"
   },
   "outputs": [],
   "source": [
    "re.search(r'.*?,', text)"
   ]
  },
  {
   "cell_type": "markdown",
   "metadata": {
    "id": "8LVPRozbshfk"
   },
   "source": [
    "# Outros módulos"
   ]
  },
  {
   "cell_type": "markdown",
   "metadata": {
    "id": "OyB6CCoEsnEt"
   },
   "source": [
    "## `collections`"
   ]
  },
  {
   "cell_type": "markdown",
   "metadata": {
    "id": "_MlB4DPPstyA"
   },
   "source": [
    "### `defaultdict`\n",
    "\n",
    "Um dicionário normal devolve um erro `TypeError` quando se tenta aceder a uma chave inexistente.\n",
    "\n"
   ]
  },
  {
   "cell_type": "code",
   "execution_count": null,
   "metadata": {
    "id": "USk766j2SFu5"
   },
   "outputs": [],
   "source": [
    "dict1 = {\"the\": 3, \"book\": 1}\n",
    "\n",
    "for word in [\"the\", \"books\"]:\n",
    "  dict1[word] += 1"
   ]
  },
  {
   "cell_type": "markdown",
   "metadata": {
    "id": "6dDG4D8DSkwB"
   },
   "source": [
    "Uma solução possível é verificar primeiro se a chave existe."
   ]
  },
  {
   "cell_type": "code",
   "execution_count": null,
   "metadata": {
    "id": "Pl-E3tkvSuGE"
   },
   "outputs": [],
   "source": [
    "dict1 = {\"the\": 3, \"book\": 1}\n",
    "\n",
    "for word in [\"the\", \"books\"]:\n",
    "  if word in dict1:\n",
    "    dict1[word] += 1\n",
    "  else:\n",
    "    dict1[word] = 1\n",
    "\n",
    "print(dict1)"
   ]
  },
  {
   "cell_type": "markdown",
   "metadata": {
    "id": "Ssv2UXZLTkJu"
   },
   "source": [
    "Outra solução é utilizar o `defaultdict`, que cria um tipo especial de dicionário que adiciona um valor predefinido quando a chave não existe. Este valor predefinido dependerá do tipo de `defaultdict` criado."
   ]
  },
  {
   "cell_type": "code",
   "execution_count": null,
   "metadata": {
    "id": "MYBEt7ebVPcl"
   },
   "outputs": [],
   "source": [
    "from collections import defaultdict\n",
    "\n",
    "dict2 = defaultdict(int)\n",
    "for word in [\"the\", \"book\", \"is\", \"on\", \"the\", \"table\"]:\n",
    "  dict2[word] += 1\n",
    "\n",
    "print(dict2)\n",
    "dict2[\"salad\"]"
   ]
  },
  {
   "cell_type": "markdown",
   "metadata": {
    "id": "MPv1ZRKGWC2C"
   },
   "source": [
    "Com `defaultdict` podemos, por exemplo, criar um dicionário em que os valores são uma lista sem a necessidade de o inicializar."
   ]
  },
  {
   "cell_type": "code",
   "execution_count": null,
   "metadata": {
    "id": "lDJBrkX4WQG_"
   },
   "outputs": [],
   "source": [
    "from collections import defaultdict\n",
    "\n",
    "numbers = range(20)\n",
    "dict3 = defaultdict(list)\n",
    "\n",
    "for num in numbers:\n",
    "  if num % 2 == 0:\n",
    "    dict3[\"even\"].append(num)\n",
    "  else:\n",
    "    dict3[\"odd\"].append(num)\n",
    "\n",
    "print(dict3)\n",
    "print(dict3[\"even\"])"
   ]
  },
  {
   "cell_type": "markdown",
   "metadata": {
    "id": "1AOM7BMttXjr"
   },
   "source": [
    "### `Counter`\n",
    "\n",
    "\n",
    "\n",
    "\n"
   ]
  },
  {
   "cell_type": "markdown",
   "metadata": {},
   "source": [
    "O módulo `Counter` fornece ferramentas que facilitam o processo de contagem de itens."
   ]
  },
  {
   "cell_type": "code",
   "execution_count": null,
   "metadata": {
    "id": "Eput4owossy0"
   },
   "outputs": [],
   "source": [
    "import regex\n",
    "from collections import Counter\n",
    "\n",
    "text = \"\"\"En lexicología, una colocación es un tipo concreto de unidad fraseológica que no es ni locución o lexía simple ni enunciado fraseológico o lexía textual.\n",
    "El término fue usado por vez primera por Firth en 1957 y se ha usado frecuentemente en la lexicología inglesa de Halliday. Designa combinaciones frecuentes de unidades léxicas fijadas en la norma o una combinación de palabras que se distingue por su alta frecuencia de uso. Esto motiva que este tipo de construcciones se cataloguen como unidades semiidiomáticas.\n",
    "Se diferencian de las unidades fraseológicas en que responden a pautas de formación gramaticales y su significado es composicional, esto es, se deduce de los significados de los elementos combinados. Son unidades léxicas que han sido fijadas en la norma y en sustancia son fraseologismos que se encuentran a mitad de camino entre las combinaciones libres y las fijas, porque sus elementos se pueden dislocar e intercambiar y en general su significado es claro y desentrañable, si bien en ciertos casos tienen significado de conjunto.\"\"\"\n",
    "\n",
    "text = regex.sub(r'\\p{P}', '', text)\n",
    "\n",
    "tokens = []\n",
    "for token in text.lower().split():\n",
    "     if token.isalpha():\n",
    "         tokens.append(token)\n",
    "\n",
    "print(\"Tokens:\")\n",
    "print(tokens)\n",
    "\n",
    "print(\"------------------------\")\n",
    "print(\"Freqs:\")\n",
    "c = Counter(tokens)\n",
    "c.most_common(10)"
   ]
  },
  {
   "cell_type": "code",
   "execution_count": null,
   "metadata": {},
   "outputs": [],
   "source": [
    "c.total()"
   ]
  },
  {
   "cell_type": "code",
   "execution_count": null,
   "metadata": {
    "id": "4aZF1pDl2OyM"
   },
   "outputs": [],
   "source": [
    "palavra = \"colocación\"\n",
    "\n",
    "count = Counter(palavra)\n",
    "count.most_common()"
   ]
  },
  {
   "cell_type": "markdown",
   "metadata": {},
   "source": [
    "Documentação: https://docs.python.org/3/library/collections.html#collections.Counter"
   ]
  },
  {
   "cell_type": "markdown",
   "metadata": {
    "id": "nAHo-Wo7xtvO"
   },
   "source": [
    "# Comprehensions\n",
    "\n",
    "As compreensões são uma sintaxe alternativa e mais compacta para uma estrutura de repetição `for` que percorre e manipula um elemento iterável e devolve outro como resultado.\n",
    "\n",
    "Sintaxe:\n",
    "\n",
    "```resultado = [expression for item in iterable]```\n",
    "\n",
    "**Exemplo**\n",
    "\n",
    "A partir de uma lista de inteiros, obter uma lista dos seus quadrados."
   ]
  },
  {
   "cell_type": "code",
   "execution_count": null,
   "metadata": {
    "id": "zhwZx3xyzQ7S"
   },
   "outputs": [],
   "source": [
    "# Utilizando `for`\n",
    "integers = [2, 3, 4, 5, 6, 9, 14]\n",
    "squares = []\n",
    "for i in integers:\n",
    "    squares.append(i * i)\n",
    "\n",
    "print(squares)"
   ]
  },
  {
   "cell_type": "code",
   "execution_count": null,
   "metadata": {
    "id": "RVR7adB31s9_"
   },
   "outputs": [],
   "source": [
    "# Utilizando uma 'comprehension'\n",
    "integers = [2, 3, 4, 5, 6, 9, 14]\n",
    "squares = [i * i for i in integers]\n",
    "\n",
    "print(squares)"
   ]
  },
  {
   "cell_type": "markdown",
   "metadata": {
    "id": "7bLxcjjE2ija"
   },
   "source": [
    "Podem também incluir condicionais.\n",
    "\n",
    "Sintaxe:\n",
    "\n",
    "```resultado = [expression for item in iterable if condition == True]```\n",
    "\n",
    "**Exemplo**\n",
    "\n",
    "A partir de uma lista de números inteiros, obter uma lista de quadrados para os números que não são pares."
   ]
  },
  {
   "cell_type": "code",
   "execution_count": null,
   "metadata": {
    "id": "DdUOIBri28tU"
   },
   "outputs": [],
   "source": [
    "# Utilizando um `for`\n",
    "integers = [2, 3, 4, 5, 6, 9, 14]\n",
    "squares = []\n",
    "for i in integers:\n",
    "    if i % 2 != 0:\n",
    "        squares.append(i * i)\n",
    "\n",
    "print(squares)"
   ]
  },
  {
   "cell_type": "code",
   "execution_count": null,
   "metadata": {
    "id": "0fABuKPZ2_uV"
   },
   "outputs": [],
   "source": [
    "# Utilizando uma 'comprehension'\n",
    "integers = [2, 3, 4, 5, 6, 9, 14]\n",
    "squares = [i * i for i in integers if i% 2 != 0]\n",
    "\n",
    "print(squares)"
   ]
  },
  {
   "cell_type": "markdown",
   "metadata": {},
   "source": [
    "Com uma *comprehension* podemos ler um ficheiro utilizando `readlines()` e aplicar `strip()` a cada linha."
   ]
  },
  {
   "cell_type": "code",
   "execution_count": null,
   "metadata": {},
   "outputs": [],
   "source": [
    "with open(\"test1.csv\") as f:\n",
    "  lines = [line.strip() for line in f.readlines()]\n",
    "  print(lines)"
   ]
  },
  {
   "cell_type": "markdown",
   "metadata": {
    "id": "CgJv_3r84dzy"
   },
   "source": [
    "# Funções `lambda`\n",
    "\n",
    "São funções anónimas que podem receber qualquer número de argumentos e uma única expressão.\n",
    "\n",
    "Sintaxe:\n",
    "\n",
    "```lambda x1, [x2], [xn]: expression```\n",
    "\n",
    "**Exemplos**\n",
    "\n",
    "Calcular o quadrado de qualquer número."
   ]
  },
  {
   "cell_type": "code",
   "execution_count": null,
   "metadata": {
    "id": "lFk9eu-b5nHz"
   },
   "outputs": [],
   "source": [
    "# Usando uma função normal\n",
    "def square(x):\n",
    "    return x * x\n",
    "\n",
    "print(square(3))\n",
    "print(square(8))"
   ]
  },
  {
   "cell_type": "code",
   "execution_count": null,
   "metadata": {
    "id": "OvbJZiFg5SOM"
   },
   "outputs": [],
   "source": [
    "# Usando uma função lambda\n",
    "square = lambda x: x * x\n",
    "\n",
    "print(square(3))\n",
    "print(square(8))"
   ]
  },
  {
   "cell_type": "markdown",
   "metadata": {
    "id": "c2QJriUs97_K"
   },
   "source": [
    "Uma função `lambda` que soma três números."
   ]
  },
  {
   "cell_type": "code",
   "execution_count": null,
   "metadata": {
    "id": "V2H-IWMB-Baw"
   },
   "outputs": [],
   "source": [
    "soma = lambda x, y, z: x + y +z\n",
    "\n",
    "soma(2, 3, 4)"
   ]
  },
  {
   "cell_type": "markdown",
   "metadata": {
    "id": "zVoULUcc749c"
   },
   "source": [
    "Um exemplo um pouco mais complexo de como uma função `lambda` pode ser usada para resolver equações de segunda ordem.\n",
    "\n",
    "$\\frac{-b±\\sqrt{b^2-4ac}}{2a}$"
   ]
  },
  {
   "cell_type": "code",
   "execution_count": null,
   "metadata": {
    "id": "WmxPjEkW7O1g"
   },
   "outputs": [],
   "source": [
    "from math import sqrt\n",
    "\n",
    "quad_equation = lambda a, b, c: ((-b + sqrt((b * b) - (4 * a * c))) / (2 * a), (-b - sqrt((b * b) - (4 * a * c))) / (2 * a))\n",
    "\n",
    "# x^2 - 5x + 6\n",
    "quad_equation(1, -5, 6)"
   ]
  }
 ],
 "metadata": {
  "celltoolbar": "Raw Cell Format",
  "colab": {
   "provenance": [],
   "toc_visible": true
  },
  "kernelspec": {
   "display_name": "Python 3 (ipykernel)",
   "language": "python",
   "name": "python3"
  },
  "language_info": {
   "codemirror_mode": {
    "name": "ipython",
    "version": 3
   },
   "file_extension": ".py",
   "mimetype": "text/x-python",
   "name": "python",
   "nbconvert_exporter": "python",
   "pygments_lexer": "ipython3",
   "version": "3.11.2"
  }
 },
 "nbformat": 4,
 "nbformat_minor": 4
}
